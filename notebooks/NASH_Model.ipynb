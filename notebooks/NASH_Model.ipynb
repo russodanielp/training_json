{
 "cells": [
  {
   "cell_type": "markdown",
   "source": [
    "https://pubchem.ncbi.nlm.nih.gov/rest/pug/pathway/pwacc/wikipathways:WP4396/geneids/TXT\n",
    "\n",
    "Non alcoholic fatty liver pathway\n",
    "\n",
    "WP2874\n",
    "\n",
    "WP2289\n",
    "\n",
    "PA165986279\n",
    "\n",
    "[Here](https://www.wikipathways.org/index.php/Special:SearchPathways?query=liver+disease+pathway&doSearch=1) is a whole list of potential liver disease pathways, which could be useful..."
   ],
   "metadata": {
    "collapsed": false,
    "pycharm": {
     "name": "#%% md\n"
    }
   }
  },
  {
   "cell_type": "code",
   "execution_count": 6,
   "outputs": [],
   "source": [
    "# Could find GENE ids with the above PugREST URL,\n",
    "# then need to map these to GeneIDs using PugREST\n",
    "import matplotlib.pyplot as plt\n",
    "\n",
    "target_url = 'https://pubchem.ncbi.nlm.nih.gov/rest/pug/gene/geneid/{}/summary/JSON'"
   ],
   "metadata": {
    "collapsed": false,
    "pycharm": {
     "name": "#%%\n"
    }
   }
  },
  {
   "cell_type": "code",
   "execution_count": 7,
   "outputs": [],
   "source": [
    "nafl = [   355,\n",
    "            356,\n",
    "            468,\n",
    "            578,\n",
    "            581,\n",
    "            637,\n",
    "            841,\n",
    "            1050,\n",
    "            1571,\n",
    "            1649,\n",
    "            1965,\n",
    "            2081,\n",
    "            3551,\n",
    "            3552,\n",
    "            3569,\n",
    "            3570,\n",
    "            3630,\n",
    "            3643,\n",
    "            3667,\n",
    "            3725,\n",
    "            3952,\n",
    "            3953,\n",
    "            4092,\n",
    "            4217,\n",
    "            4296,\n",
    "            5313,\n",
    "            5465,\n",
    "            5599,\n",
    "            6256,\n",
    "            6347,\n",
    "            6720,\n",
    "            7124,\n",
    "            7132,\n",
    "            7186,\n",
    "            7412,\n",
    "            7494,\n",
    "            8660,\n",
    "            9021,\n",
    "            9370,\n",
    "            9451,\n",
    "            9971,\n",
    "            10018,\n",
    "            10062,\n",
    "            27113,\n",
    "            54205,\n",
    "            83737]"
   ],
   "metadata": {
    "collapsed": false,
    "pycharm": {
     "name": "#%%\n"
    }
   }
  },
  {
   "cell_type": "code",
   "execution_count": 8,
   "outputs": [],
   "source": [
    "genes = [\n",
    "    1555,\n",
    "    1576,\n",
    "    1581,\n",
    "    2194,\n",
    "    6256,\n",
    "    6319,\n",
    "    6720,\n",
    "    10062,\n",
    "    64240,\n",
    "    64241,\n",
    "]"
   ],
   "metadata": {
    "collapsed": false,
    "pycharm": {
     "name": "#%%\n"
    }
   }
  },
  {
   "cell_type": "code",
   "execution_count": 9,
   "outputs": [],
   "source": [
    "genes = [\n",
    "    570,\n",
    "    1244,\n",
    "    1576,\n",
    "    1581,\n",
    "    5243,\n",
    "    6554,\n",
    "    6822,\n",
    "    7421,\n",
    "    8647,\n",
    "    8714,\n",
    "    8856,\n",
    "    9970,\n",
    "    9971,\n",
    "    10257,\n",
    "    10599,\n",
    "    123264,\n",
    "    200931\n",
    "]"
   ],
   "metadata": {
    "collapsed": false,
    "pycharm": {
     "name": "#%%\n"
    }
   }
  },
  {
   "cell_type": "code",
   "execution_count": 10,
   "outputs": [],
   "source": [
    "genes = [\n",
    "    1244,\n",
    "    1544,\n",
    "    1548,\n",
    "    1565,\n",
    "    1571,\n",
    "    2944,\n",
    "    2950,\n",
    "    2952,\n",
    "    6783,\n",
    "    6817,\n",
    "    6818,\n",
    "    6822,\n",
    "    7366,\n",
    "    8714,\n",
    "    9429,\n",
    "    10257,\n",
    "    54578,\n",
    "    54600,\n",
    "    54658,\n",
    "    445329\n",
    "]"
   ],
   "metadata": {
    "collapsed": false,
    "pycharm": {
     "name": "#%%\n"
    }
   }
  },
  {
   "cell_type": "code",
   "execution_count": 11,
   "outputs": [],
   "source": [
    "import requests, json\n",
    "\n",
    "url = requests.get(target_url.format(','.join(map(str, nafl\n",
    "                                                  ))) )\n",
    "text = url.text\n",
    "\n",
    "\n",
    "data = json.loads(text)\n"
   ],
   "metadata": {
    "collapsed": false,
    "pycharm": {
     "name": "#%%\n"
    }
   }
  },
  {
   "cell_type": "code",
   "execution_count": 12,
   "outputs": [],
   "source": [
    "targets_symbols = []\n",
    "for s in data['GeneSummaries']['GeneSummary']:\n",
    "    targets_symbols.append((s['Symbol']))"
   ],
   "metadata": {
    "collapsed": false,
    "pycharm": {
     "name": "#%%\n"
    }
   }
  },
  {
   "cell_type": "code",
   "execution_count": 13,
   "outputs": [
    {
     "data": {
      "text/plain": "46"
     },
     "execution_count": 13,
     "metadata": {},
     "output_type": "execute_result"
    }
   ],
   "source": [
    "len(targets_symbols)"
   ],
   "metadata": {
    "collapsed": false,
    "pycharm": {
     "name": "#%%\n"
    }
   }
  },
  {
   "cell_type": "markdown",
   "source": [
    "46 Genes in this pathway"
   ],
   "metadata": {
    "collapsed": false,
    "pycharm": {
     "name": "#%% md\n"
    }
   }
  },
  {
   "cell_type": "code",
   "execution_count": 15,
   "outputs": [],
   "source": [
    "import pandas as pd\n",
    "import config\n",
    "import numpy as np\n",
    "\n",
    "targets = pd.read_sql_query('select PUBCHEM_AID, GeneSymbol from targets WHERE GeneSymbol IS NOT NULL', con=config.Config.DB_URI)"
   ],
   "metadata": {
    "collapsed": false,
    "pycharm": {
     "name": "#%%\n"
    }
   }
  },
  {
   "cell_type": "code",
   "execution_count": 16,
   "outputs": [],
   "source": [
    "aop_targets = targets.query('GeneSymbol in @targets_symbols')"
   ],
   "metadata": {
    "collapsed": false,
    "pycharm": {
     "name": "#%%\n"
    }
   }
  },
  {
   "cell_type": "code",
   "execution_count": 17,
   "outputs": [
    {
     "data": {
      "text/plain": "11"
     },
     "execution_count": 17,
     "metadata": {},
     "output_type": "execute_result"
    }
   ],
   "source": [
    "aop_targets.GeneSymbol.nunique()"
   ],
   "metadata": {
    "collapsed": false,
    "pycharm": {
     "name": "#%%\n"
    }
   }
  },
  {
   "cell_type": "code",
   "execution_count": 18,
   "outputs": [
    {
     "data": {
      "text/plain": "37"
     },
     "execution_count": 18,
     "metadata": {},
     "output_type": "execute_result"
    }
   ],
   "source": [
    "aop_targets.PUBCHEM_AID.nunique()"
   ],
   "metadata": {
    "collapsed": false,
    "pycharm": {
     "name": "#%%\n"
    }
   }
  },
  {
   "cell_type": "code",
   "execution_count": 19,
   "outputs": [
    {
     "name": "stdout",
     "output_type": "stream",
     "text": [
      "      SID     AID          AC50         TOP     SLOPE           MSE       CID\n",
      "0  842207  504313  1.040636e+01  120.000000  8.000000  8.581584e+03  54690395\n",
      "1  844649    2765  1.582619e+01   46.347894  8.000000  4.321037e-03    646981\n",
      "2  844649  449757  3.100408e+01   95.567507  1.380095  1.464587e+01    646981\n",
      "3  844928  504313  3.449394e-07 -100.000000  0.893567  1.589841e-07    647258\n",
      "4  845153  504313  3.449394e-07 -100.000000  0.893567  1.589841e-07    647487\n"
     ]
    }
   ],
   "source": [
    "aid_list = [str(aid)for aid in aop_targets.PUBCHEM_AID.unique()]\n",
    "\n",
    "aid_string = \", \".join(map(str, aid_list))\n",
    "aid_query = f'({aid_string})'\n",
    "\n",
    "actives_query = 'SELECT c.PUBCHEM_CID as CID, c.PUBCHEM_AID as AID, c.PUBCHEM_SID as SID ' \\\n",
    "                'FROM concise c ' \\\n",
    "                'WHERE c.PUBCHEM_AID in {} AND c.PUBCHEM_ACTIVITY_OUTCOME == \"Active\" AND ' \\\n",
    "                'c.PUBCHEM_CID is not null AND c.PUBCHEM_SID is not null'.format(aid_query)\n",
    "\n",
    "active_cmps = pd.read_sql_query(actives_query, con=config.Config.DB_URI)\n",
    "active_cmps['SID'] = active_cmps['SID'].astype(int)\n",
    "\n",
    "sid_list = [str(sid)for sid in active_cmps.SID]\n",
    "\n",
    "sid_string = \", \".join(map(str, sid_list))\n",
    "sid_query = f'({sid_string})'\n",
    "\n",
    "hill_params_query = 'SELECT  SID, AID, AC50, TOP, SLOPE, MSE ' \\\n",
    "                    'FROM hill_models ' \\\n",
    "                    'WHERE AID in {} AND SID in {} '.format(aid_query, sid_query)\n",
    "\n",
    "hill_params = pd.read_sql_query(hill_params_query, con=config.Config.DB_URI)\n",
    "\n",
    "# this merge is necessary because\n",
    "# the former query gathers all data\n",
    "# for all sid and aid that have any active cmps\n",
    "# not just the pairs of active sid, aid\n",
    "# could be solved by a SQLite join, but\n",
    "# right now takes too long\n",
    "hill_merged = pd.merge(hill_params, active_cmps[['SID', 'CID', 'AID']].drop_duplicates(['SID', 'CID', 'AID']), on=['SID', 'AID'])\n",
    "print(hill_merged.head())"
   ],
   "metadata": {
    "collapsed": false,
    "pycharm": {
     "name": "#%%\n"
    }
   }
  },
  {
   "cell_type": "code",
   "execution_count": 20,
   "outputs": [
    {
     "data": {
      "text/plain": "       PUBCHEM_AID GeneSymbol\n541           2765    BCL2L11\n542           2765    BCL2L11\n543           2765    BCL2L11\n544           2765    BCL2L11\n545         449757    BCL2L11\n546         449757    BCL2L11\n547         449757    BCL2L11\n548         449757    BCL2L11\n549         504342    BCL2L11\n550         504342    BCL2L11\n551         504342    BCL2L11\n552         504342    BCL2L11\n553         588575    BCL2L11\n554         720677    BCL2L11\n705         743294      CASP8\n2211          1522    EIF2AK3\n2212          1528    EIF2AK3\n2849       1159526        JUN\n3686       1159604     MAP3K5\n3687       1159605     MAP3K5\n10682       588526      NR1H4\n10683       588527      NR1H4\n10684       743217      NR1H4\n10685       743220      NR1H4\n12516         1541       PKLR\n12517         1543       PKLR\n12518         1781       PKLR\n12519         1782       PKLR\n12520         2534       PKLR\n12521         2535       PKLR\n12522         2562       PKLR\n12523         2625       PKLR\n12524       602379       PKLR\n12525       602381       PKLR\n12526       624388       PKLR\n12527       624390       PKLR\n12692       504735      PPARA\n12693       651778      PPARA\n13423       588544       RXRA\n13424       588546       RXRA\n13425      1159527       RXRA\n13880         2337        TNF\n13881         2483        TNF\n13882         2801        TNF\n13883       651757        TNF\n15031       504313       XBP1",
      "text/html": "<div>\n<style scoped>\n    .dataframe tbody tr th:only-of-type {\n        vertical-align: middle;\n    }\n\n    .dataframe tbody tr th {\n        vertical-align: top;\n    }\n\n    .dataframe thead th {\n        text-align: right;\n    }\n</style>\n<table border=\"1\" class=\"dataframe\">\n  <thead>\n    <tr style=\"text-align: right;\">\n      <th></th>\n      <th>PUBCHEM_AID</th>\n      <th>GeneSymbol</th>\n    </tr>\n  </thead>\n  <tbody>\n    <tr>\n      <th>541</th>\n      <td>2765</td>\n      <td>BCL2L11</td>\n    </tr>\n    <tr>\n      <th>542</th>\n      <td>2765</td>\n      <td>BCL2L11</td>\n    </tr>\n    <tr>\n      <th>543</th>\n      <td>2765</td>\n      <td>BCL2L11</td>\n    </tr>\n    <tr>\n      <th>544</th>\n      <td>2765</td>\n      <td>BCL2L11</td>\n    </tr>\n    <tr>\n      <th>545</th>\n      <td>449757</td>\n      <td>BCL2L11</td>\n    </tr>\n    <tr>\n      <th>546</th>\n      <td>449757</td>\n      <td>BCL2L11</td>\n    </tr>\n    <tr>\n      <th>547</th>\n      <td>449757</td>\n      <td>BCL2L11</td>\n    </tr>\n    <tr>\n      <th>548</th>\n      <td>449757</td>\n      <td>BCL2L11</td>\n    </tr>\n    <tr>\n      <th>549</th>\n      <td>504342</td>\n      <td>BCL2L11</td>\n    </tr>\n    <tr>\n      <th>550</th>\n      <td>504342</td>\n      <td>BCL2L11</td>\n    </tr>\n    <tr>\n      <th>551</th>\n      <td>504342</td>\n      <td>BCL2L11</td>\n    </tr>\n    <tr>\n      <th>552</th>\n      <td>504342</td>\n      <td>BCL2L11</td>\n    </tr>\n    <tr>\n      <th>553</th>\n      <td>588575</td>\n      <td>BCL2L11</td>\n    </tr>\n    <tr>\n      <th>554</th>\n      <td>720677</td>\n      <td>BCL2L11</td>\n    </tr>\n    <tr>\n      <th>705</th>\n      <td>743294</td>\n      <td>CASP8</td>\n    </tr>\n    <tr>\n      <th>2211</th>\n      <td>1522</td>\n      <td>EIF2AK3</td>\n    </tr>\n    <tr>\n      <th>2212</th>\n      <td>1528</td>\n      <td>EIF2AK3</td>\n    </tr>\n    <tr>\n      <th>2849</th>\n      <td>1159526</td>\n      <td>JUN</td>\n    </tr>\n    <tr>\n      <th>3686</th>\n      <td>1159604</td>\n      <td>MAP3K5</td>\n    </tr>\n    <tr>\n      <th>3687</th>\n      <td>1159605</td>\n      <td>MAP3K5</td>\n    </tr>\n    <tr>\n      <th>10682</th>\n      <td>588526</td>\n      <td>NR1H4</td>\n    </tr>\n    <tr>\n      <th>10683</th>\n      <td>588527</td>\n      <td>NR1H4</td>\n    </tr>\n    <tr>\n      <th>10684</th>\n      <td>743217</td>\n      <td>NR1H4</td>\n    </tr>\n    <tr>\n      <th>10685</th>\n      <td>743220</td>\n      <td>NR1H4</td>\n    </tr>\n    <tr>\n      <th>12516</th>\n      <td>1541</td>\n      <td>PKLR</td>\n    </tr>\n    <tr>\n      <th>12517</th>\n      <td>1543</td>\n      <td>PKLR</td>\n    </tr>\n    <tr>\n      <th>12518</th>\n      <td>1781</td>\n      <td>PKLR</td>\n    </tr>\n    <tr>\n      <th>12519</th>\n      <td>1782</td>\n      <td>PKLR</td>\n    </tr>\n    <tr>\n      <th>12520</th>\n      <td>2534</td>\n      <td>PKLR</td>\n    </tr>\n    <tr>\n      <th>12521</th>\n      <td>2535</td>\n      <td>PKLR</td>\n    </tr>\n    <tr>\n      <th>12522</th>\n      <td>2562</td>\n      <td>PKLR</td>\n    </tr>\n    <tr>\n      <th>12523</th>\n      <td>2625</td>\n      <td>PKLR</td>\n    </tr>\n    <tr>\n      <th>12524</th>\n      <td>602379</td>\n      <td>PKLR</td>\n    </tr>\n    <tr>\n      <th>12525</th>\n      <td>602381</td>\n      <td>PKLR</td>\n    </tr>\n    <tr>\n      <th>12526</th>\n      <td>624388</td>\n      <td>PKLR</td>\n    </tr>\n    <tr>\n      <th>12527</th>\n      <td>624390</td>\n      <td>PKLR</td>\n    </tr>\n    <tr>\n      <th>12692</th>\n      <td>504735</td>\n      <td>PPARA</td>\n    </tr>\n    <tr>\n      <th>12693</th>\n      <td>651778</td>\n      <td>PPARA</td>\n    </tr>\n    <tr>\n      <th>13423</th>\n      <td>588544</td>\n      <td>RXRA</td>\n    </tr>\n    <tr>\n      <th>13424</th>\n      <td>588546</td>\n      <td>RXRA</td>\n    </tr>\n    <tr>\n      <th>13425</th>\n      <td>1159527</td>\n      <td>RXRA</td>\n    </tr>\n    <tr>\n      <th>13880</th>\n      <td>2337</td>\n      <td>TNF</td>\n    </tr>\n    <tr>\n      <th>13881</th>\n      <td>2483</td>\n      <td>TNF</td>\n    </tr>\n    <tr>\n      <th>13882</th>\n      <td>2801</td>\n      <td>TNF</td>\n    </tr>\n    <tr>\n      <th>13883</th>\n      <td>651757</td>\n      <td>TNF</td>\n    </tr>\n    <tr>\n      <th>15031</th>\n      <td>504313</td>\n      <td>XBP1</td>\n    </tr>\n  </tbody>\n</table>\n</div>"
     },
     "execution_count": 20,
     "metadata": {},
     "output_type": "execute_result"
    }
   ],
   "source": [
    "aop_targets"
   ],
   "metadata": {
    "collapsed": false,
    "pycharm": {
     "name": "#%%\n"
    }
   }
  },
  {
   "cell_type": "code",
   "execution_count": 23,
   "outputs": [
    {
     "data": {
      "text/plain": "CID\n5105544      1.841778e-11\n135490279    3.842912e-11\n3588811      5.453873e-11\n659314       7.458261e-11\n1346017      1.249213e-10\n                 ...     \n60196431     3.210881e+02\n60934        7.790456e+02\n7607                  NaN\n2320898               NaN\n4178804               NaN\nName: AC50, Length: 1216, dtype: float64"
     },
     "execution_count": 23,
     "metadata": {},
     "output_type": "execute_result"
    }
   ],
   "source": [
    "hill_merged.groupby('CID')['AC50'].mean().sort_values(ascending=True)"
   ],
   "metadata": {
    "collapsed": false,
    "pycharm": {
     "name": "#%%\n"
    }
   }
  },
  {
   "cell_type": "code",
   "execution_count": 25,
   "outputs": [
    {
     "name": "stdout",
     "output_type": "stream",
     "text": [
      "BCL2L11 5\n",
      "CASP8 1\n",
      "EIF2AK3 2\n",
      "JUN 1\n",
      "MAP3K5 2\n",
      "NR1H4 4\n",
      "PKLR 12\n",
      "PPARA 2\n",
      "RXRA 3\n",
      "TNF 4\n",
      "XBP1 1\n"
     ]
    }
   ],
   "source": [
    "for gene, assays in aop_targets.groupby('GeneSymbol'):\n",
    "    print(gene, assays.PUBCHEM_AID.nunique())"
   ],
   "metadata": {
    "collapsed": false,
    "pycharm": {
     "name": "#%%\n"
    }
   }
  },
  {
   "cell_type": "code",
   "execution_count": 26,
   "outputs": [
    {
     "data": {
      "text/plain": "25"
     },
     "execution_count": 26,
     "metadata": {},
     "output_type": "execute_result"
    }
   ],
   "source": [
    "hill_merged.AID.nunique()"
   ],
   "metadata": {
    "collapsed": false,
    "pycharm": {
     "name": "#%%\n"
    }
   }
  },
  {
   "cell_type": "code",
   "execution_count": 30,
   "outputs": [],
   "source": [
    "from curve_fitting import hill_curve\n",
    "from curvep import curveP, CONCLIST\n",
    "\n",
    "xs = np.asarray(CONCLIST)\n",
    "\n",
    "dfs = []\n",
    "\n",
    "for (aid, cid), params in hill_merged.merge(aop_targets.rename(columns={'PUBCHEM_AID': 'AID', 'GeneSymbol': 'Target'})).dropna().groupby(['AID', 'CID']):\n",
    "\n",
    "    params = params[params.MSE == params.MSE.min()]\n",
    "\n",
    "    curve = hill_curve(xs, params.AC50.iloc[0], params.TOP.iloc[0], params.SLOPE.iloc[0])\n",
    "    df = pd.DataFrame()\n",
    "    df['log(Concentration)'] = np.log10(xs)\n",
    "    df['Response'] = curve\n",
    "    df['AID'] = aid\n",
    "    df['CID'] = cid\n",
    "    df['Target'] = params.Target.iloc[0]\n",
    "    dfs.append(df)"
   ],
   "metadata": {
    "collapsed": false,
    "pycharm": {
     "name": "#%%\n"
    }
   }
  },
  {
   "cell_type": "code",
   "execution_count": 31,
   "outputs": [
    {
     "data": {
      "text/plain": "   log(Concentration)      Response   AID     CID Target\n0           -6.000000  3.953981e-16  1541  654376   PKLR\n1           -5.571924  8.284212e-15  1541  654376   PKLR\n2           -5.395833  2.895616e-14  1541  654376   PKLR\n3           -5.219742  1.012116e-13  1541  654376   PKLR\n4           -5.043650  3.537691e-13  1541  654376   PKLR",
      "text/html": "<div>\n<style scoped>\n    .dataframe tbody tr th:only-of-type {\n        vertical-align: middle;\n    }\n\n    .dataframe tbody tr th {\n        vertical-align: top;\n    }\n\n    .dataframe thead th {\n        text-align: right;\n    }\n</style>\n<table border=\"1\" class=\"dataframe\">\n  <thead>\n    <tr style=\"text-align: right;\">\n      <th></th>\n      <th>log(Concentration)</th>\n      <th>Response</th>\n      <th>AID</th>\n      <th>CID</th>\n      <th>Target</th>\n    </tr>\n  </thead>\n  <tbody>\n    <tr>\n      <th>0</th>\n      <td>-6.000000</td>\n      <td>3.953981e-16</td>\n      <td>1541</td>\n      <td>654376</td>\n      <td>PKLR</td>\n    </tr>\n    <tr>\n      <th>1</th>\n      <td>-5.571924</td>\n      <td>8.284212e-15</td>\n      <td>1541</td>\n      <td>654376</td>\n      <td>PKLR</td>\n    </tr>\n    <tr>\n      <th>2</th>\n      <td>-5.395833</td>\n      <td>2.895616e-14</td>\n      <td>1541</td>\n      <td>654376</td>\n      <td>PKLR</td>\n    </tr>\n    <tr>\n      <th>3</th>\n      <td>-5.219742</td>\n      <td>1.012116e-13</td>\n      <td>1541</td>\n      <td>654376</td>\n      <td>PKLR</td>\n    </tr>\n    <tr>\n      <th>4</th>\n      <td>-5.043650</td>\n      <td>3.537691e-13</td>\n      <td>1541</td>\n      <td>654376</td>\n      <td>PKLR</td>\n    </tr>\n  </tbody>\n</table>\n</div>"
     },
     "execution_count": 31,
     "metadata": {},
     "output_type": "execute_result"
    }
   ],
   "source": [
    "dfs = pd.concat(dfs)\n",
    "dfs.head()"
   ],
   "metadata": {
    "collapsed": false,
    "pycharm": {
     "name": "#%%\n"
    }
   }
  },
  {
   "cell_type": "code",
   "execution_count": 34,
   "outputs": [
    {
     "data": {
      "text/plain": "9"
     },
     "execution_count": 34,
     "metadata": {},
     "output_type": "execute_result"
    }
   ],
   "source": [
    "dfs.Target.nunique()"
   ],
   "metadata": {
    "collapsed": false,
    "pycharm": {
     "name": "#%%\n"
    }
   }
  },
  {
   "cell_type": "code",
   "execution_count": 35,
   "outputs": [
    {
     "data": {
      "text/plain": "         PKLR  TNF  BCL2L11  XBP1  PPARA  NR1H4  RXRA  CASP8  JUN\n1541        1    0        0     0      0      0     0      0    0\n1543        1    0        0     0      0      0     0      0    0\n1782        1    0        0     0      0      0     0      0    0\n2337        0    1        0     0      0      0     0      0    0\n2483        0    1        0     0      0      0     0      0    0\n2562        1    0        0     0      0      0     0      0    0\n2765        0    0        1     0      0      0     0      0    0\n2801        0    1        0     0      0      0     0      0    0\n449757      0    0        1     0      0      0     0      0    0\n504313      0    0        0     1      0      0     0      0    0\n504342      0    0        1     0      0      0     0      0    0\n504735      0    0        0     0      1      0     0      0    0\n588526      0    0        0     0      0      1     0      0    0\n588527      0    0        0     0      0      1     0      0    0\n588544      0    0        0     0      0      0     1      0    0\n588546      0    0        0     0      0      0     1      0    0\n588575      0    0        1     0      0      0     0      0    0\n651757      0    1        0     0      0      0     0      0    0\n651778      0    0        0     0      1      0     0      0    0\n720677      0    0        1     0      0      0     0      0    0\n743217      0    0        0     0      0      1     0      0    0\n743220      0    0        0     0      0      1     0      0    0\n743294      0    0        0     0      0      0     0      1    0\n1159526     0    0        0     0      0      0     0      0    1\n1159527     0    0        0     0      0      0     1      0    0",
      "text/html": "<div>\n<style scoped>\n    .dataframe tbody tr th:only-of-type {\n        vertical-align: middle;\n    }\n\n    .dataframe tbody tr th {\n        vertical-align: top;\n    }\n\n    .dataframe thead th {\n        text-align: right;\n    }\n</style>\n<table border=\"1\" class=\"dataframe\">\n  <thead>\n    <tr style=\"text-align: right;\">\n      <th></th>\n      <th>PKLR</th>\n      <th>TNF</th>\n      <th>BCL2L11</th>\n      <th>XBP1</th>\n      <th>PPARA</th>\n      <th>NR1H4</th>\n      <th>RXRA</th>\n      <th>CASP8</th>\n      <th>JUN</th>\n    </tr>\n  </thead>\n  <tbody>\n    <tr>\n      <th>1541</th>\n      <td>1</td>\n      <td>0</td>\n      <td>0</td>\n      <td>0</td>\n      <td>0</td>\n      <td>0</td>\n      <td>0</td>\n      <td>0</td>\n      <td>0</td>\n    </tr>\n    <tr>\n      <th>1543</th>\n      <td>1</td>\n      <td>0</td>\n      <td>0</td>\n      <td>0</td>\n      <td>0</td>\n      <td>0</td>\n      <td>0</td>\n      <td>0</td>\n      <td>0</td>\n    </tr>\n    <tr>\n      <th>1782</th>\n      <td>1</td>\n      <td>0</td>\n      <td>0</td>\n      <td>0</td>\n      <td>0</td>\n      <td>0</td>\n      <td>0</td>\n      <td>0</td>\n      <td>0</td>\n    </tr>\n    <tr>\n      <th>2337</th>\n      <td>0</td>\n      <td>1</td>\n      <td>0</td>\n      <td>0</td>\n      <td>0</td>\n      <td>0</td>\n      <td>0</td>\n      <td>0</td>\n      <td>0</td>\n    </tr>\n    <tr>\n      <th>2483</th>\n      <td>0</td>\n      <td>1</td>\n      <td>0</td>\n      <td>0</td>\n      <td>0</td>\n      <td>0</td>\n      <td>0</td>\n      <td>0</td>\n      <td>0</td>\n    </tr>\n    <tr>\n      <th>2562</th>\n      <td>1</td>\n      <td>0</td>\n      <td>0</td>\n      <td>0</td>\n      <td>0</td>\n      <td>0</td>\n      <td>0</td>\n      <td>0</td>\n      <td>0</td>\n    </tr>\n    <tr>\n      <th>2765</th>\n      <td>0</td>\n      <td>0</td>\n      <td>1</td>\n      <td>0</td>\n      <td>0</td>\n      <td>0</td>\n      <td>0</td>\n      <td>0</td>\n      <td>0</td>\n    </tr>\n    <tr>\n      <th>2801</th>\n      <td>0</td>\n      <td>1</td>\n      <td>0</td>\n      <td>0</td>\n      <td>0</td>\n      <td>0</td>\n      <td>0</td>\n      <td>0</td>\n      <td>0</td>\n    </tr>\n    <tr>\n      <th>449757</th>\n      <td>0</td>\n      <td>0</td>\n      <td>1</td>\n      <td>0</td>\n      <td>0</td>\n      <td>0</td>\n      <td>0</td>\n      <td>0</td>\n      <td>0</td>\n    </tr>\n    <tr>\n      <th>504313</th>\n      <td>0</td>\n      <td>0</td>\n      <td>0</td>\n      <td>1</td>\n      <td>0</td>\n      <td>0</td>\n      <td>0</td>\n      <td>0</td>\n      <td>0</td>\n    </tr>\n    <tr>\n      <th>504342</th>\n      <td>0</td>\n      <td>0</td>\n      <td>1</td>\n      <td>0</td>\n      <td>0</td>\n      <td>0</td>\n      <td>0</td>\n      <td>0</td>\n      <td>0</td>\n    </tr>\n    <tr>\n      <th>504735</th>\n      <td>0</td>\n      <td>0</td>\n      <td>0</td>\n      <td>0</td>\n      <td>1</td>\n      <td>0</td>\n      <td>0</td>\n      <td>0</td>\n      <td>0</td>\n    </tr>\n    <tr>\n      <th>588526</th>\n      <td>0</td>\n      <td>0</td>\n      <td>0</td>\n      <td>0</td>\n      <td>0</td>\n      <td>1</td>\n      <td>0</td>\n      <td>0</td>\n      <td>0</td>\n    </tr>\n    <tr>\n      <th>588527</th>\n      <td>0</td>\n      <td>0</td>\n      <td>0</td>\n      <td>0</td>\n      <td>0</td>\n      <td>1</td>\n      <td>0</td>\n      <td>0</td>\n      <td>0</td>\n    </tr>\n    <tr>\n      <th>588544</th>\n      <td>0</td>\n      <td>0</td>\n      <td>0</td>\n      <td>0</td>\n      <td>0</td>\n      <td>0</td>\n      <td>1</td>\n      <td>0</td>\n      <td>0</td>\n    </tr>\n    <tr>\n      <th>588546</th>\n      <td>0</td>\n      <td>0</td>\n      <td>0</td>\n      <td>0</td>\n      <td>0</td>\n      <td>0</td>\n      <td>1</td>\n      <td>0</td>\n      <td>0</td>\n    </tr>\n    <tr>\n      <th>588575</th>\n      <td>0</td>\n      <td>0</td>\n      <td>1</td>\n      <td>0</td>\n      <td>0</td>\n      <td>0</td>\n      <td>0</td>\n      <td>0</td>\n      <td>0</td>\n    </tr>\n    <tr>\n      <th>651757</th>\n      <td>0</td>\n      <td>1</td>\n      <td>0</td>\n      <td>0</td>\n      <td>0</td>\n      <td>0</td>\n      <td>0</td>\n      <td>0</td>\n      <td>0</td>\n    </tr>\n    <tr>\n      <th>651778</th>\n      <td>0</td>\n      <td>0</td>\n      <td>0</td>\n      <td>0</td>\n      <td>1</td>\n      <td>0</td>\n      <td>0</td>\n      <td>0</td>\n      <td>0</td>\n    </tr>\n    <tr>\n      <th>720677</th>\n      <td>0</td>\n      <td>0</td>\n      <td>1</td>\n      <td>0</td>\n      <td>0</td>\n      <td>0</td>\n      <td>0</td>\n      <td>0</td>\n      <td>0</td>\n    </tr>\n    <tr>\n      <th>743217</th>\n      <td>0</td>\n      <td>0</td>\n      <td>0</td>\n      <td>0</td>\n      <td>0</td>\n      <td>1</td>\n      <td>0</td>\n      <td>0</td>\n      <td>0</td>\n    </tr>\n    <tr>\n      <th>743220</th>\n      <td>0</td>\n      <td>0</td>\n      <td>0</td>\n      <td>0</td>\n      <td>0</td>\n      <td>1</td>\n      <td>0</td>\n      <td>0</td>\n      <td>0</td>\n    </tr>\n    <tr>\n      <th>743294</th>\n      <td>0</td>\n      <td>0</td>\n      <td>0</td>\n      <td>0</td>\n      <td>0</td>\n      <td>0</td>\n      <td>0</td>\n      <td>1</td>\n      <td>0</td>\n    </tr>\n    <tr>\n      <th>1159526</th>\n      <td>0</td>\n      <td>0</td>\n      <td>0</td>\n      <td>0</td>\n      <td>0</td>\n      <td>0</td>\n      <td>0</td>\n      <td>0</td>\n      <td>1</td>\n    </tr>\n    <tr>\n      <th>1159527</th>\n      <td>0</td>\n      <td>0</td>\n      <td>0</td>\n      <td>0</td>\n      <td>0</td>\n      <td>0</td>\n      <td>1</td>\n      <td>0</td>\n      <td>0</td>\n    </tr>\n  </tbody>\n</table>\n</div>"
     },
     "execution_count": 35,
     "metadata": {},
     "output_type": "execute_result"
    }
   ],
   "source": [
    "# create the F matrix\n",
    "\n",
    "F_matrix = pd.DataFrame(index=dfs.AID.unique().astype(int), columns=dfs.Target.unique())\n",
    "\n",
    "for aop, aop_data in dfs.groupby('Target'):\n",
    "    for aid in aop_data.AID.unique():\n",
    "        F_matrix.loc[aid, aop] = 1\n",
    "F_matrix = F_matrix.fillna(0)\n",
    "F_matrix"
   ],
   "metadata": {
    "collapsed": false,
    "pycharm": {
     "name": "#%%\n"
    }
   }
  },
  {
   "cell_type": "code",
   "execution_count": 36,
   "outputs": [],
   "source": [
    "frames = {}\n",
    "cids = []\n",
    "\n",
    "\n",
    "for cid, d in dfs.groupby('CID'):\n",
    "    training_wide = d.pivot(columns='log(Concentration)', index='AID', values='Response')\n",
    "    # fill missing data AIDs\n",
    "    training_wide = training_wide.reindex(F_matrix.index).fillna(0)\n",
    "    frames[cid] = training_wide\n",
    "    cids.append(cid)"
   ],
   "metadata": {
    "collapsed": false,
    "pycharm": {
     "name": "#%%\n"
    }
   }
  },
  {
   "cell_type": "code",
   "execution_count": 37,
   "outputs": [],
   "source": [
    "cr_responses = np.stack([frames[cas].values for cas in cids], axis=2)"
   ],
   "metadata": {
    "collapsed": false,
    "pycharm": {
     "name": "#%%\n"
    }
   }
  },
  {
   "cell_type": "code",
   "execution_count": 38,
   "outputs": [
    {
     "data": {
      "text/plain": "(25, 45, 1213)"
     },
     "execution_count": 38,
     "metadata": {},
     "output_type": "execute_result"
    }
   ],
   "source": [
    "cr_responses.shape"
   ],
   "metadata": {
    "collapsed": false,
    "pycharm": {
     "name": "#%%\n"
    }
   }
  },
  {
   "cell_type": "code",
   "execution_count": 40,
   "outputs": [],
   "source": [
    "import torch\n",
    "import torch.optim as optim\n",
    "from torch.optim.lr_scheduler import StepLR, ReduceLROnPlateau\n",
    "\n",
    "EPOCHS = 750\n",
    "STEPS = 100\n",
    "INITIAL_LR = 1\n",
    "GAMMA = 0.5\n",
    "\n",
    "F = torch.tensor(F_matrix.values, dtype=torch.float)\n",
    "R = torch.tensor(np.random.random(size=(F.shape[1], cr_responses.shape[1], cr_responses.shape[2])),\n",
    "                 dtype=torch.float, requires_grad=True)\n",
    "\n",
    "# R = torch.tensor(torch.clamp(R, min=0, max=1), requires_grad=True)\n",
    "\n",
    "\n",
    "y = torch.tensor(cr_responses)\n",
    "\n",
    "optimizer = optim.Adam([R], lr=INITIAL_LR)\n",
    "#scheduler = StepLR(optimizer, step_size=STEPS, gamma=0.9)\n",
    "scheduler = ReduceLROnPlateau(optimizer, factor=0.1, patience=50)"
   ],
   "metadata": {
    "collapsed": false,
    "pycharm": {
     "name": "#%%\n"
    }
   }
  },
  {
   "cell_type": "code",
   "execution_count": 41,
   "outputs": [
    {
     "name": "stdout",
     "output_type": "stream",
     "text": [
      "tensor(68.7724, dtype=torch.float64, grad_fn=<MeanBackward0>)\n",
      "Epoch-0 lr: 1\n",
      "tensor(16.2831, dtype=torch.float64, grad_fn=<MeanBackward0>)\n",
      "Epoch-100 lr: 1\n",
      "tensor(14.1115, dtype=torch.float64, grad_fn=<MeanBackward0>)\n",
      "Epoch-200 lr: 1\n",
      "tensor(14.0989, dtype=torch.float64, grad_fn=<MeanBackward0>)\n",
      "Epoch-300 lr: 0.1\n",
      "tensor(14.0989, dtype=torch.float64, grad_fn=<MeanBackward0>)\n",
      "Epoch-400 lr: 0.0010000000000000002\n",
      "tensor(14.0989, dtype=torch.float64, grad_fn=<MeanBackward0>)\n",
      "Epoch-500 lr: 1.0000000000000004e-05\n",
      "tensor(14.0989, dtype=torch.float64, grad_fn=<MeanBackward0>)\n",
      "Epoch-600 lr: 1.0000000000000005e-07\n",
      "tensor(14.0989, dtype=torch.float64, grad_fn=<MeanBackward0>)\n",
      "Epoch-700 lr: 1.0000000000000005e-08\n"
     ]
    }
   ],
   "source": [
    "losses = np.array([])\n",
    "\n",
    "for epoch in range(EPOCHS):\n",
    "    # model is y = FR\n",
    "    optimizer.zero_grad()\n",
    "    #R = torch.clamp(R, min=0, max=1)\n",
    "    model = torch.tensordot(F, R, dims=([1], [0]))\n",
    "\n",
    "\n",
    "    ss_term = torch.mean(torch.square(model - y))\n",
    "\n",
    "    x = torch.sum(R)\n",
    "    penalty_term = x ** 10 / (x ** 10 + 0.5 ** 10)\n",
    "\n",
    "    loss = ss_term + penalty_term\n",
    "    loss = ss_term\n",
    "\n",
    "    loss.backward()\n",
    "    optimizer.step()\n",
    "    losses = np.append(losses, loss.detach().numpy())\n",
    "    #     if losses[-50:].var() < 0.1 and epoch>10:\n",
    "    #         #print(\"Reducing LR...\")\n",
    "    #         for g in optimizer.param_groups:\n",
    "    #             g['lr'] = g['lr']*GAMMA\n",
    "    scheduler.step(loss)\n",
    "    if epoch % STEPS == 0:\n",
    "        print(loss)\n",
    "        print('Epoch-{0} lr: {1}'.format(epoch, optimizer.param_groups[0]['lr']))"
   ],
   "metadata": {
    "collapsed": false,
    "pycharm": {
     "name": "#%%\n"
    }
   }
  },
  {
   "cell_type": "code",
   "execution_count": 42,
   "outputs": [],
   "source": [
    "from curve_fitting import auc_score\n",
    "\n",
    "scores = R.detach().numpy()\n",
    "\n",
    "cmp_score_dic = {}\n",
    "\n",
    "for i, casnumber in enumerate(cids):\n",
    "    cmp_r_scores = pd.DataFrame(scores[:, :, i], index=F_matrix.columns, columns=np.log10(xs))\n",
    "    cmp_auc_scores = auc_score(cmp_r_scores)\n",
    "    cmp_score_dic[casnumber] = (cmp_r_scores, cmp_auc_scores)"
   ],
   "metadata": {
    "collapsed": false,
    "pycharm": {
     "name": "#%%\n"
    }
   }
  },
  {
   "cell_type": "code",
   "execution_count": 43,
   "outputs": [],
   "source": [
    "d = [cmp_score_dic[cas][1] for cas in cids]\n",
    "\n",
    "score_frame = pd.DataFrame(d, index=cids)"
   ],
   "metadata": {
    "collapsed": false,
    "pycharm": {
     "name": "#%%\n"
    }
   }
  },
  {
   "cell_type": "code",
   "execution_count": 44,
   "outputs": [],
   "source": [
    "score_frame_norm = score_frame.divide(score_frame.max()).fillna(0)\n",
    "\n",
    "scores_norm = scores.copy()\n",
    "\n",
    "for r in range(scores_norm.shape[0]):\n",
    "    scaler = scores[r, :, :].max()\n",
    "    if scaler != 0:\n",
    "        scores_norm[r, :, :] = scores_norm[r, :, :]*1/scaler\n",
    "\n",
    "cmp_score_norm_dic = {}\n",
    "\n",
    "for i, casnumber in enumerate(cids):\n",
    "    cmp_r_scores = pd.DataFrame(scores_norm[:, :, i], index=F_matrix.columns, columns=np.log10(xs))\n",
    "    cmp_score_norm_dic[casnumber] = cmp_r_scores"
   ],
   "metadata": {
    "collapsed": false,
    "pycharm": {
     "name": "#%%\n"
    }
   }
  },
  {
   "cell_type": "code",
   "execution_count": 72,
   "outputs": [
    {
     "name": "stderr",
     "output_type": "stream",
     "text": [
      "/opt/anaconda3/envs/intro-chem/lib/python3.7/site-packages/seaborn/matrix.py:654: UserWarning: Clustering large matrix with scipy. Installing `fastcluster` may give better performance.\n",
      "  warnings.warn(msg)\n"
     ]
    },
    {
     "data": {
      "text/plain": "<seaborn.matrix.ClusterGrid at 0x7f8e22d8da50>"
     },
     "execution_count": 72,
     "metadata": {},
     "output_type": "execute_result"
    },
    {
     "data": {
      "text/plain": "<Figure size 720x720 with 4 Axes>",
      "image/png": "[encoded data removed]"
     },
     "metadata": {},
     "output_type": "display_data"
    }
   ],
   "source": [
    "import seaborn as sns\n",
    "sns.clustermap(score_frame_norm.replace([np.inf, -np.inf], 0))"
   ],
   "metadata": {
    "collapsed": false,
    "pycharm": {
     "name": "#%%\n"
    }
   }
  },
  {
   "cell_type": "code",
   "execution_count": 55,
   "outputs": [],
   "source": [
    "TOX_FILE = \"/Volumes/TOSHIBA EXT/data/Yitao/toxDB.txt\"\n",
    "TOX_COL = 'H_HT_class'"
   ],
   "metadata": {
    "collapsed": false,
    "pycharm": {
     "name": "#%%\n"
    }
   }
  },
  {
   "cell_type": "code",
   "execution_count": 58,
   "outputs": [],
   "source": [
    "TOX_FILE = \"/Volumes/TOSHIBA EXT/data/Yitao/toxDB.txt\"\n",
    "TOX_COL = 'H_HT_class'\n",
    "\n",
    "\n",
    "\n",
    "tox_data = pd.read_table(TOX_FILE)\n",
    "\n",
    "tox_data['Zhu_ID'] = ['ZhuMol_{}'.format(i) for i in range(len(tox_data))]\n",
    "\n",
    "tox_data = tox_data[['PUBCHEM_CIDS', TOX_COL, 'Zhu_ID']]\n",
    "tox_data = tox_data[tox_data[TOX_COL].notnull()]\n",
    "tox_data = tox_data[tox_data['PUBCHEM_CIDS'].notnull()]\n",
    "\n",
    "tox_data = tox_data.assign(PUBCHEM_CID=tox_data.PUBCHEM_CIDS.str.split(\",\")).drop(['PUBCHEM_CIDS'], axis=1).explode('PUBCHEM_CID')\n",
    "tox_data = tox_data.rename(columns={TOX_COL: 'TOXICITY'})\n",
    "tox_data['PUBCHEM_CID'] = tox_data['PUBCHEM_CID'].astype(int)"
   ],
   "metadata": {
    "collapsed": false,
    "pycharm": {
     "name": "#%%\n"
    }
   }
  },
  {
   "cell_type": "code",
   "execution_count": 63,
   "outputs": [],
   "source": [
    "d = score_frame_norm.reset_index().rename(columns={'index': 'PUBCHEM_CID'})"
   ],
   "metadata": {
    "collapsed": false,
    "pycharm": {
     "name": "#%%\n"
    }
   }
  },
  {
   "cell_type": "code",
   "execution_count": 67,
   "outputs": [],
   "source": [
    "d2 = tox_data.merge(d)"
   ],
   "metadata": {
    "collapsed": false,
    "pycharm": {
     "name": "#%%\n"
    }
   }
  },
  {
   "cell_type": "code",
   "execution_count": 69,
   "outputs": [
    {
     "data": {
      "text/plain": "32.0"
     },
     "execution_count": 69,
     "metadata": {},
     "output_type": "execute_result"
    }
   ],
   "source": [
    "d2.TOXICITY.sum()"
   ],
   "metadata": {
    "collapsed": false,
    "pycharm": {
     "name": "#%%\n"
    }
   }
  },
  {
   "cell_type": "code",
   "execution_count": 76,
   "outputs": [
    {
     "data": {
      "text/plain": "    TOXICITY        Zhu_ID  PUBCHEM_CID  PKLR  TNF  BCL2L11      XBP1  \\\n0        1.0    ZhuMol_805         5430   0.0  0.0     -0.0  0.000000   \n1        1.0    ZhuMol_854        17038   0.0 -0.0      0.0  0.000000   \n2        0.0   ZhuMol_1364         5634   0.0  0.0     -0.0 -0.000000   \n3        1.0   ZhuMol_1564         5546  -0.0  0.0      0.0  0.000000   \n4        1.0   ZhuMol_1754         2082   0.0 -0.0      0.0  0.000000   \n5        1.0   ZhuMol_2204         2406  -0.0 -0.0      0.0  0.000000   \n6        0.0   ZhuMol_2215         5564  -0.0 -0.0      0.0 -0.000000   \n7        1.0   ZhuMol_2275         3037  -0.0  0.0      0.0 -0.000000   \n8        1.0   ZhuMol_2771         4477   0.0  0.0      0.0 -0.000000   \n9        0.0   ZhuMol_2887         8400   0.0 -0.0      0.0 -0.000000   \n10       0.0   ZhuMol_2938         5694   0.0  0.0      0.0  0.000000   \n11       0.0   ZhuMol_3088         3671   0.0  0.0     -0.0 -0.000000   \n12       1.0   ZhuMol_3968         4030   0.0 -0.0      0.0  0.000000   \n13       1.0   ZhuMol_4202       133264   0.0  0.0      0.0  0.000000   \n14       1.0   ZhuMol_4521         2726   0.0  0.0      0.0 -0.000000   \n15       1.0   ZhuMol_4932         3054  -0.0  0.0     -0.0 -0.000000   \n16       1.0   ZhuMol_5502         4764  -0.0 -0.0     -0.0 -0.000000   \n17       1.0   ZhuMol_6098         2391   0.0 -0.0      0.0 -0.000000   \n18       0.0   ZhuMol_6230      9552079   0.0 -0.0     -0.0 -0.000000   \n19       1.0   ZhuMol_6996        16362  -0.0 -0.0      0.0  0.102388   \n20       0.0   ZhuMol_7126         6597  -0.0  0.0      0.0  0.000000   \n21       1.0   ZhuMol_7197           34  -0.0  0.0     -0.0  0.000000   \n22       0.0   ZhuMol_7852         4837   0.0  0.0     -0.0  0.000000   \n23       1.0   ZhuMol_7977         3385   0.0 -0.0     -0.0 -0.000000   \n24       1.0   ZhuMol_8063      1349907   0.0  0.0      0.0 -0.000000   \n25       1.0   ZhuMol_8229        31374   0.0  0.0      0.0  0.000000   \n26       0.0   ZhuMol_8819         5455   0.0  0.0      0.0  0.000000   \n27       1.0   ZhuMol_9216         7969   0.0 -0.0      0.0  0.000000   \n28       0.0   ZhuMol_9237          403  -0.0  0.0      0.0 -0.000000   \n29       0.0   ZhuMol_9342          992   0.0  0.0      0.0  0.000000   \n30       1.0   ZhuMol_9955         2153  -0.0 -0.0     -0.0 -0.000000   \n31       0.0  ZhuMol_10785         7456   0.0 -0.0      0.0  0.000000   \n32       1.0  ZhuMol_10824         1983  -0.0  0.0      0.0  0.000000   \n33       1.0  ZhuMol_11388         2788   0.0 -0.0      0.0  0.000000   \n34       0.0  ZhuMol_11637        10209   0.0  0.0      0.0  0.000000   \n35       0.0  ZhuMol_11691         5327   0.0  0.0     -0.0 -0.000000   \n36       1.0  ZhuMol_11770         2763   0.0  0.0      0.0 -0.000000   \n37       1.0  ZhuMol_11882         4463   0.0 -0.0      0.0 -0.000000   \n38       1.0  ZhuMol_12191       124087  -0.0 -0.0      0.0 -0.000000   \n39       1.0  ZhuMol_12358     10113978  -0.0  0.0      0.0  0.000000   \n40       1.0  ZhuMol_12448        34870   0.0  0.0      0.0 -0.000000   \n41       1.0  ZhuMol_12559        82146   0.0  0.0      0.0  0.000000   \n42       1.0  ZhuMol_12654         1744   0.0  0.0      0.0 -0.000000   \n43       0.0  ZhuMol_12676        91610  -0.0 -0.0      0.0 -0.000000   \n44       1.0  ZhuMol_12728         3396   0.0 -0.0     -0.0 -0.472814   \n45       1.0  ZhuMol_12979         2478   0.0 -0.0     -0.0  0.000000   \n46       1.0  ZhuMol_13111         5340   0.0 -0.0      0.0  0.000000   \n\n       PPARA     NR1H4      RXRA  CASP8       JUN  \n0   0.000000  0.000000  0.115327    0.0 -0.000000  \n1  -0.000000 -0.000000 -0.143060    0.0 -0.000000  \n2  -0.000000 -0.000000  0.103626    0.0  0.000000  \n3   0.000000  0.282044  0.224229    0.0 -0.000000  \n4   0.000000 -0.362336 -0.000000    0.0  0.000000  \n5   0.031319  0.000000 -0.058847    0.0  0.000000  \n6   0.000000 -0.000000 -0.058780    0.0  0.000000  \n7  -0.000000 -0.621898 -0.196429    0.0 -0.000000  \n8   0.000000 -0.000000 -0.115395    0.0 -0.000000  \n9  -0.000000 -0.000000  0.043764    0.0 -0.000000  \n10 -0.000000  0.000000  0.199811    0.0 -0.000000  \n11  0.000000 -0.000000  0.108090    0.0  0.000000  \n12 -0.000000 -0.303358 -0.000000    0.0  0.000000  \n13 -0.000000  0.000000  0.347876    0.0  0.000000  \n14  0.000000 -0.231241  0.000000    0.0 -0.000000  \n15 -0.000000 -0.223358  0.000000    0.0 -0.000000  \n16 -0.000000 -0.202044  0.000000    0.0 -0.000000  \n17 -0.000000  0.247883 -0.000000    0.0  0.000000  \n18 -0.000000 -0.455474  0.000000    0.0  0.000000  \n19 -0.000000 -0.000000 -0.096523    0.0 -0.000000  \n20  0.000000  0.000000  0.098350    0.0 -0.000000  \n21  0.000000 -0.000000  0.062365    0.0  0.000000  \n22 -0.000000 -0.000000  0.072308    0.0 -0.000000  \n23 -0.000000 -0.000000  0.054721    0.0 -0.000000  \n24  0.000000  0.000000 -0.000000    0.0  0.212847  \n25 -0.000000 -0.000000  0.143263    0.0 -0.000000  \n26  0.000000  0.000000 -0.395698    0.0 -0.000000  \n27  0.000000  0.000000  0.000000    0.0  0.195118  \n28 -0.000000  0.128467  0.000000    0.0  0.000000  \n29  0.000000 -0.381314 -0.000000    0.0 -0.000000  \n30  0.000000  0.000000  0.124594    0.0 -0.000000  \n31 -0.000000 -0.000000  0.034159    0.0  0.000000  \n32  0.000000  0.000000  0.048701    0.0  0.000000  \n33 -0.000000 -0.282920  0.000000    0.0  0.000000  \n34 -0.000000 -0.298978  0.000000    0.0 -0.000000  \n35  0.000000 -0.000000  0.000000    0.0 -0.000000  \n36  0.221411 -0.000000  0.000000    0.0  0.000000  \n37  0.000000 -0.000000  0.061824    0.0  0.000000  \n38  0.000000 -0.211387 -0.000000    0.0 -0.000000  \n39 -0.000000 -0.205255  0.000000    0.0 -0.000000  \n40  0.000000  0.000000 -0.000000    0.0  0.268977  \n41 -0.000000  0.000000  0.664434    0.0  0.000000  \n42  0.173227 -0.319416 -0.000000    0.0 -0.000000  \n43 -0.000000  0.265985 -0.000000    0.0 -0.000000  \n44  0.000000  0.000000  0.000000    0.0  0.000000  \n45  0.000000 -0.000000  0.050798    0.0 -0.000000  \n46 -0.000000  0.000000  0.043561    0.0  0.000000  ",
      "text/html": "<div>\n<style scoped>\n    .dataframe tbody tr th:only-of-type {\n        vertical-align: middle;\n    }\n\n    .dataframe tbody tr th {\n        vertical-align: top;\n    }\n\n    .dataframe thead th {\n        text-align: right;\n    }\n</style>\n<table border=\"1\" class=\"dataframe\">\n  <thead>\n    <tr style=\"text-align: right;\">\n      <th></th>\n      <th>TOXICITY</th>\n      <th>Zhu_ID</th>\n      <th>PUBCHEM_CID</th>\n      <th>PKLR</th>\n      <th>TNF</th>\n      <th>BCL2L11</th>\n      <th>XBP1</th>\n      <th>PPARA</th>\n      <th>NR1H4</th>\n      <th>RXRA</th>\n      <th>CASP8</th>\n      <th>JUN</th>\n    </tr>\n  </thead>\n  <tbody>\n    <tr>\n      <th>0</th>\n      <td>1.0</td>\n      <td>ZhuMol_805</td>\n      <td>5430</td>\n      <td>0.0</td>\n      <td>0.0</td>\n      <td>-0.0</td>\n      <td>0.000000</td>\n      <td>0.000000</td>\n      <td>0.000000</td>\n      <td>0.115327</td>\n      <td>0.0</td>\n      <td>-0.000000</td>\n    </tr>\n    <tr>\n      <th>1</th>\n      <td>1.0</td>\n      <td>ZhuMol_854</td>\n      <td>17038</td>\n      <td>0.0</td>\n      <td>-0.0</td>\n      <td>0.0</td>\n      <td>0.000000</td>\n      <td>-0.000000</td>\n      <td>-0.000000</td>\n      <td>-0.143060</td>\n      <td>0.0</td>\n      <td>-0.000000</td>\n    </tr>\n    <tr>\n      <th>2</th>\n      <td>0.0</td>\n      <td>ZhuMol_1364</td>\n      <td>5634</td>\n      <td>0.0</td>\n      <td>0.0</td>\n      <td>-0.0</td>\n      <td>-0.000000</td>\n      <td>-0.000000</td>\n      <td>-0.000000</td>\n      <td>0.103626</td>\n      <td>0.0</td>\n      <td>0.000000</td>\n    </tr>\n    <tr>\n      <th>3</th>\n      <td>1.0</td>\n      <td>ZhuMol_1564</td>\n      <td>5546</td>\n      <td>-0.0</td>\n      <td>0.0</td>\n      <td>0.0</td>\n      <td>0.000000</td>\n      <td>0.000000</td>\n      <td>0.282044</td>\n      <td>0.224229</td>\n      <td>0.0</td>\n      <td>-0.000000</td>\n    </tr>\n    <tr>\n      <th>4</th>\n      <td>1.0</td>\n      <td>ZhuMol_1754</td>\n      <td>2082</td>\n      <td>0.0</td>\n      <td>-0.0</td>\n      <td>0.0</td>\n      <td>0.000000</td>\n      <td>0.000000</td>\n      <td>-0.362336</td>\n      <td>-0.000000</td>\n      <td>0.0</td>\n      <td>0.000000</td>\n    </tr>\n    <tr>\n      <th>5</th>\n      <td>1.0</td>\n      <td>ZhuMol_2204</td>\n      <td>2406</td>\n      <td>-0.0</td>\n      <td>-0.0</td>\n      <td>0.0</td>\n      <td>0.000000</td>\n      <td>0.031319</td>\n      <td>0.000000</td>\n      <td>-0.058847</td>\n      <td>0.0</td>\n      <td>0.000000</td>\n    </tr>\n    <tr>\n      <th>6</th>\n      <td>0.0</td>\n      <td>ZhuMol_2215</td>\n      <td>5564</td>\n      <td>-0.0</td>\n      <td>-0.0</td>\n      <td>0.0</td>\n      <td>-0.000000</td>\n      <td>0.000000</td>\n      <td>-0.000000</td>\n      <td>-0.058780</td>\n      <td>0.0</td>\n      <td>0.000000</td>\n    </tr>\n    <tr>\n      <th>7</th>\n      <td>1.0</td>\n      <td>ZhuMol_2275</td>\n      <td>3037</td>\n      <td>-0.0</td>\n      <td>0.0</td>\n      <td>0.0</td>\n      <td>-0.000000</td>\n      <td>-0.000000</td>\n      <td>-0.621898</td>\n      <td>-0.196429</td>\n      <td>0.0</td>\n      <td>-0.000000</td>\n    </tr>\n    <tr>\n      <th>8</th>\n      <td>1.0</td>\n      <td>ZhuMol_2771</td>\n      <td>4477</td>\n      <td>0.0</td>\n      <td>0.0</td>\n      <td>0.0</td>\n      <td>-0.000000</td>\n      <td>0.000000</td>\n      <td>-0.000000</td>\n      <td>-0.115395</td>\n      <td>0.0</td>\n      <td>-0.000000</td>\n    </tr>\n    <tr>\n      <th>9</th>\n      <td>0.0</td>\n      <td>ZhuMol_2887</td>\n      <td>8400</td>\n      <td>0.0</td>\n      <td>-0.0</td>\n      <td>0.0</td>\n      <td>-0.000000</td>\n      <td>-0.000000</td>\n      <td>-0.000000</td>\n      <td>0.043764</td>\n      <td>0.0</td>\n      <td>-0.000000</td>\n    </tr>\n    <tr>\n      <th>10</th>\n      <td>0.0</td>\n      <td>ZhuMol_2938</td>\n      <td>5694</td>\n      <td>0.0</td>\n      <td>0.0</td>\n      <td>0.0</td>\n      <td>0.000000</td>\n      <td>-0.000000</td>\n      <td>0.000000</td>\n      <td>0.199811</td>\n      <td>0.0</td>\n      <td>-0.000000</td>\n    </tr>\n    <tr>\n      <th>11</th>\n      <td>0.0</td>\n      <td>ZhuMol_3088</td>\n      <td>3671</td>\n      <td>0.0</td>\n      <td>0.0</td>\n      <td>-0.0</td>\n      <td>-0.000000</td>\n      <td>0.000000</td>\n      <td>-0.000000</td>\n      <td>0.108090</td>\n      <td>0.0</td>\n      <td>0.000000</td>\n    </tr>\n    <tr>\n      <th>12</th>\n      <td>1.0</td>\n      <td>ZhuMol_3968</td>\n      <td>4030</td>\n      <td>0.0</td>\n      <td>-0.0</td>\n      <td>0.0</td>\n      <td>0.000000</td>\n      <td>-0.000000</td>\n      <td>-0.303358</td>\n      <td>-0.000000</td>\n      <td>0.0</td>\n      <td>0.000000</td>\n    </tr>\n    <tr>\n      <th>13</th>\n      <td>1.0</td>\n      <td>ZhuMol_4202</td>\n      <td>133264</td>\n      <td>0.0</td>\n      <td>0.0</td>\n      <td>0.0</td>\n      <td>0.000000</td>\n      <td>-0.000000</td>\n      <td>0.000000</td>\n      <td>0.347876</td>\n      <td>0.0</td>\n      <td>0.000000</td>\n    </tr>\n    <tr>\n      <th>14</th>\n      <td>1.0</td>\n      <td>ZhuMol_4521</td>\n      <td>2726</td>\n      <td>0.0</td>\n      <td>0.0</td>\n      <td>0.0</td>\n      <td>-0.000000</td>\n      <td>0.000000</td>\n      <td>-0.231241</td>\n      <td>0.000000</td>\n      <td>0.0</td>\n      <td>-0.000000</td>\n    </tr>\n    <tr>\n      <th>15</th>\n      <td>1.0</td>\n      <td>ZhuMol_4932</td>\n      <td>3054</td>\n      <td>-0.0</td>\n      <td>0.0</td>\n      <td>-0.0</td>\n      <td>-0.000000</td>\n      <td>-0.000000</td>\n      <td>-0.223358</td>\n      <td>0.000000</td>\n      <td>0.0</td>\n      <td>-0.000000</td>\n    </tr>\n    <tr>\n      <th>16</th>\n      <td>1.0</td>\n      <td>ZhuMol_5502</td>\n      <td>4764</td>\n      <td>-0.0</td>\n      <td>-0.0</td>\n      <td>-0.0</td>\n      <td>-0.000000</td>\n      <td>-0.000000</td>\n      <td>-0.202044</td>\n      <td>0.000000</td>\n      <td>0.0</td>\n      <td>-0.000000</td>\n    </tr>\n    <tr>\n      <th>17</th>\n      <td>1.0</td>\n      <td>ZhuMol_6098</td>\n      <td>2391</td>\n      <td>0.0</td>\n      <td>-0.0</td>\n      <td>0.0</td>\n      <td>-0.000000</td>\n      <td>-0.000000</td>\n      <td>0.247883</td>\n      <td>-0.000000</td>\n      <td>0.0</td>\n      <td>0.000000</td>\n    </tr>\n    <tr>\n      <th>18</th>\n      <td>0.0</td>\n      <td>ZhuMol_6230</td>\n      <td>9552079</td>\n      <td>0.0</td>\n      <td>-0.0</td>\n      <td>-0.0</td>\n      <td>-0.000000</td>\n      <td>-0.000000</td>\n      <td>-0.455474</td>\n      <td>0.000000</td>\n      <td>0.0</td>\n      <td>0.000000</td>\n    </tr>\n    <tr>\n      <th>19</th>\n      <td>1.0</td>\n      <td>ZhuMol_6996</td>\n      <td>16362</td>\n      <td>-0.0</td>\n      <td>-0.0</td>\n      <td>0.0</td>\n      <td>0.102388</td>\n      <td>-0.000000</td>\n      <td>-0.000000</td>\n      <td>-0.096523</td>\n      <td>0.0</td>\n      <td>-0.000000</td>\n    </tr>\n    <tr>\n      <th>20</th>\n      <td>0.0</td>\n      <td>ZhuMol_7126</td>\n      <td>6597</td>\n      <td>-0.0</td>\n      <td>0.0</td>\n      <td>0.0</td>\n      <td>0.000000</td>\n      <td>0.000000</td>\n      <td>0.000000</td>\n      <td>0.098350</td>\n      <td>0.0</td>\n      <td>-0.000000</td>\n    </tr>\n    <tr>\n      <th>21</th>\n      <td>1.0</td>\n      <td>ZhuMol_7197</td>\n      <td>34</td>\n      <td>-0.0</td>\n      <td>0.0</td>\n      <td>-0.0</td>\n      <td>0.000000</td>\n      <td>0.000000</td>\n      <td>-0.000000</td>\n      <td>0.062365</td>\n      <td>0.0</td>\n      <td>0.000000</td>\n    </tr>\n    <tr>\n      <th>22</th>\n      <td>0.0</td>\n      <td>ZhuMol_7852</td>\n      <td>4837</td>\n      <td>0.0</td>\n      <td>0.0</td>\n      <td>-0.0</td>\n      <td>0.000000</td>\n      <td>-0.000000</td>\n      <td>-0.000000</td>\n      <td>0.072308</td>\n      <td>0.0</td>\n      <td>-0.000000</td>\n    </tr>\n    <tr>\n      <th>23</th>\n      <td>1.0</td>\n      <td>ZhuMol_7977</td>\n      <td>3385</td>\n      <td>0.0</td>\n      <td>-0.0</td>\n      <td>-0.0</td>\n      <td>-0.000000</td>\n      <td>-0.000000</td>\n      <td>-0.000000</td>\n      <td>0.054721</td>\n      <td>0.0</td>\n      <td>-0.000000</td>\n    </tr>\n    <tr>\n      <th>24</th>\n      <td>1.0</td>\n      <td>ZhuMol_8063</td>\n      <td>1349907</td>\n      <td>0.0</td>\n      <td>0.0</td>\n      <td>0.0</td>\n      <td>-0.000000</td>\n      <td>0.000000</td>\n      <td>0.000000</td>\n      <td>-0.000000</td>\n      <td>0.0</td>\n      <td>0.212847</td>\n    </tr>\n    <tr>\n      <th>25</th>\n      <td>1.0</td>\n      <td>ZhuMol_8229</td>\n      <td>31374</td>\n      <td>0.0</td>\n      <td>0.0</td>\n      <td>0.0</td>\n      <td>0.000000</td>\n      <td>-0.000000</td>\n      <td>-0.000000</td>\n      <td>0.143263</td>\n      <td>0.0</td>\n      <td>-0.000000</td>\n    </tr>\n    <tr>\n      <th>26</th>\n      <td>0.0</td>\n      <td>ZhuMol_8819</td>\n      <td>5455</td>\n      <td>0.0</td>\n      <td>0.0</td>\n      <td>0.0</td>\n      <td>0.000000</td>\n      <td>0.000000</td>\n      <td>0.000000</td>\n      <td>-0.395698</td>\n      <td>0.0</td>\n      <td>-0.000000</td>\n    </tr>\n    <tr>\n      <th>27</th>\n      <td>1.0</td>\n      <td>ZhuMol_9216</td>\n      <td>7969</td>\n      <td>0.0</td>\n      <td>-0.0</td>\n      <td>0.0</td>\n      <td>0.000000</td>\n      <td>0.000000</td>\n      <td>0.000000</td>\n      <td>0.000000</td>\n      <td>0.0</td>\n      <td>0.195118</td>\n    </tr>\n    <tr>\n      <th>28</th>\n      <td>0.0</td>\n      <td>ZhuMol_9237</td>\n      <td>403</td>\n      <td>-0.0</td>\n      <td>0.0</td>\n      <td>0.0</td>\n      <td>-0.000000</td>\n      <td>-0.000000</td>\n      <td>0.128467</td>\n      <td>0.000000</td>\n      <td>0.0</td>\n      <td>0.000000</td>\n    </tr>\n    <tr>\n      <th>29</th>\n      <td>0.0</td>\n      <td>ZhuMol_9342</td>\n      <td>992</td>\n      <td>0.0</td>\n      <td>0.0</td>\n      <td>0.0</td>\n      <td>0.000000</td>\n      <td>0.000000</td>\n      <td>-0.381314</td>\n      <td>-0.000000</td>\n      <td>0.0</td>\n      <td>-0.000000</td>\n    </tr>\n    <tr>\n      <th>30</th>\n      <td>1.0</td>\n      <td>ZhuMol_9955</td>\n      <td>2153</td>\n      <td>-0.0</td>\n      <td>-0.0</td>\n      <td>-0.0</td>\n      <td>-0.000000</td>\n      <td>0.000000</td>\n      <td>0.000000</td>\n      <td>0.124594</td>\n      <td>0.0</td>\n      <td>-0.000000</td>\n    </tr>\n    <tr>\n      <th>31</th>\n      <td>0.0</td>\n      <td>ZhuMol_10785</td>\n      <td>7456</td>\n      <td>0.0</td>\n      <td>-0.0</td>\n      <td>0.0</td>\n      <td>0.000000</td>\n      <td>-0.000000</td>\n      <td>-0.000000</td>\n      <td>0.034159</td>\n      <td>0.0</td>\n      <td>0.000000</td>\n    </tr>\n    <tr>\n      <th>32</th>\n      <td>1.0</td>\n      <td>ZhuMol_10824</td>\n      <td>1983</td>\n      <td>-0.0</td>\n      <td>0.0</td>\n      <td>0.0</td>\n      <td>0.000000</td>\n      <td>0.000000</td>\n      <td>0.000000</td>\n      <td>0.048701</td>\n      <td>0.0</td>\n      <td>0.000000</td>\n    </tr>\n    <tr>\n      <th>33</th>\n      <td>1.0</td>\n      <td>ZhuMol_11388</td>\n      <td>2788</td>\n      <td>0.0</td>\n      <td>-0.0</td>\n      <td>0.0</td>\n      <td>0.000000</td>\n      <td>-0.000000</td>\n      <td>-0.282920</td>\n      <td>0.000000</td>\n      <td>0.0</td>\n      <td>0.000000</td>\n    </tr>\n    <tr>\n      <th>34</th>\n      <td>0.0</td>\n      <td>ZhuMol_11637</td>\n      <td>10209</td>\n      <td>0.0</td>\n      <td>0.0</td>\n      <td>0.0</td>\n      <td>0.000000</td>\n      <td>-0.000000</td>\n      <td>-0.298978</td>\n      <td>0.000000</td>\n      <td>0.0</td>\n      <td>-0.000000</td>\n    </tr>\n    <tr>\n      <th>35</th>\n      <td>0.0</td>\n      <td>ZhuMol_11691</td>\n      <td>5327</td>\n      <td>0.0</td>\n      <td>0.0</td>\n      <td>-0.0</td>\n      <td>-0.000000</td>\n      <td>0.000000</td>\n      <td>-0.000000</td>\n      <td>0.000000</td>\n      <td>0.0</td>\n      <td>-0.000000</td>\n    </tr>\n    <tr>\n      <th>36</th>\n      <td>1.0</td>\n      <td>ZhuMol_11770</td>\n      <td>2763</td>\n      <td>0.0</td>\n      <td>0.0</td>\n      <td>0.0</td>\n      <td>-0.000000</td>\n      <td>0.221411</td>\n      <td>-0.000000</td>\n      <td>0.000000</td>\n      <td>0.0</td>\n      <td>0.000000</td>\n    </tr>\n    <tr>\n      <th>37</th>\n      <td>1.0</td>\n      <td>ZhuMol_11882</td>\n      <td>4463</td>\n      <td>0.0</td>\n      <td>-0.0</td>\n      <td>0.0</td>\n      <td>-0.000000</td>\n      <td>0.000000</td>\n      <td>-0.000000</td>\n      <td>0.061824</td>\n      <td>0.0</td>\n      <td>0.000000</td>\n    </tr>\n    <tr>\n      <th>38</th>\n      <td>1.0</td>\n      <td>ZhuMol_12191</td>\n      <td>124087</td>\n      <td>-0.0</td>\n      <td>-0.0</td>\n      <td>0.0</td>\n      <td>-0.000000</td>\n      <td>0.000000</td>\n      <td>-0.211387</td>\n      <td>-0.000000</td>\n      <td>0.0</td>\n      <td>-0.000000</td>\n    </tr>\n    <tr>\n      <th>39</th>\n      <td>1.0</td>\n      <td>ZhuMol_12358</td>\n      <td>10113978</td>\n      <td>-0.0</td>\n      <td>0.0</td>\n      <td>0.0</td>\n      <td>0.000000</td>\n      <td>-0.000000</td>\n      <td>-0.205255</td>\n      <td>0.000000</td>\n      <td>0.0</td>\n      <td>-0.000000</td>\n    </tr>\n    <tr>\n      <th>40</th>\n      <td>1.0</td>\n      <td>ZhuMol_12448</td>\n      <td>34870</td>\n      <td>0.0</td>\n      <td>0.0</td>\n      <td>0.0</td>\n      <td>-0.000000</td>\n      <td>0.000000</td>\n      <td>0.000000</td>\n      <td>-0.000000</td>\n      <td>0.0</td>\n      <td>0.268977</td>\n    </tr>\n    <tr>\n      <th>41</th>\n      <td>1.0</td>\n      <td>ZhuMol_12559</td>\n      <td>82146</td>\n      <td>0.0</td>\n      <td>0.0</td>\n      <td>0.0</td>\n      <td>0.000000</td>\n      <td>-0.000000</td>\n      <td>0.000000</td>\n      <td>0.664434</td>\n      <td>0.0</td>\n      <td>0.000000</td>\n    </tr>\n    <tr>\n      <th>42</th>\n      <td>1.0</td>\n      <td>ZhuMol_12654</td>\n      <td>1744</td>\n      <td>0.0</td>\n      <td>0.0</td>\n      <td>0.0</td>\n      <td>-0.000000</td>\n      <td>0.173227</td>\n      <td>-0.319416</td>\n      <td>-0.000000</td>\n      <td>0.0</td>\n      <td>-0.000000</td>\n    </tr>\n    <tr>\n      <th>43</th>\n      <td>0.0</td>\n      <td>ZhuMol_12676</td>\n      <td>91610</td>\n      <td>-0.0</td>\n      <td>-0.0</td>\n      <td>0.0</td>\n      <td>-0.000000</td>\n      <td>-0.000000</td>\n      <td>0.265985</td>\n      <td>-0.000000</td>\n      <td>0.0</td>\n      <td>-0.000000</td>\n    </tr>\n    <tr>\n      <th>44</th>\n      <td>1.0</td>\n      <td>ZhuMol_12728</td>\n      <td>3396</td>\n      <td>0.0</td>\n      <td>-0.0</td>\n      <td>-0.0</td>\n      <td>-0.472814</td>\n      <td>0.000000</td>\n      <td>0.000000</td>\n      <td>0.000000</td>\n      <td>0.0</td>\n      <td>0.000000</td>\n    </tr>\n    <tr>\n      <th>45</th>\n      <td>1.0</td>\n      <td>ZhuMol_12979</td>\n      <td>2478</td>\n      <td>0.0</td>\n      <td>-0.0</td>\n      <td>-0.0</td>\n      <td>0.000000</td>\n      <td>0.000000</td>\n      <td>-0.000000</td>\n      <td>0.050798</td>\n      <td>0.0</td>\n      <td>-0.000000</td>\n    </tr>\n    <tr>\n      <th>46</th>\n      <td>1.0</td>\n      <td>ZhuMol_13111</td>\n      <td>5340</td>\n      <td>0.0</td>\n      <td>-0.0</td>\n      <td>0.0</td>\n      <td>0.000000</td>\n      <td>-0.000000</td>\n      <td>0.000000</td>\n      <td>0.043561</td>\n      <td>0.0</td>\n      <td>0.000000</td>\n    </tr>\n  </tbody>\n</table>\n</div>"
     },
     "execution_count": 76,
     "metadata": {},
     "output_type": "execute_result"
    }
   ],
   "source": [
    "d2"
   ],
   "metadata": {
    "collapsed": false,
    "pycharm": {
     "name": "#%%\n"
    }
   }
  },
  {
   "cell_type": "code",
   "execution_count": 71,
   "outputs": [
    {
     "data": {
      "text/plain": "Index(['TOXICITY', 'Zhu_ID', 'PUBCHEM_CID', 'PKLR', 'TNF', 'BCL2L11', 'XBP1',\n       'PPARA', 'NR1H4', 'RXRA', 'CASP8', 'JUN'],\n      dtype='object')"
     },
     "execution_count": 71,
     "metadata": {},
     "output_type": "execute_result"
    }
   ],
   "source": [
    "sns.clustermap(score_frame_norm.replace([np.inf, -np.inf], 0))"
   ],
   "metadata": {
    "collapsed": false,
    "pycharm": {
     "name": "#%%\n"
    }
   }
  },
  {
   "cell_type": "code",
   "execution_count": 87,
   "outputs": [],
   "source": [
    "t = ['PKLR', 'TNF', 'BCL2L11', 'XBP1', 'PPARA', 'NR1H4', 'RXRA', 'CASP8', 'JUN']"
   ],
   "metadata": {
    "collapsed": false,
    "pycharm": {
     "name": "#%%\n"
    }
   }
  },
  {
   "cell_type": "code",
   "execution_count": 86,
   "outputs": [
    {
     "data": {
      "text/plain": "<AxesSubplot:>"
     },
     "execution_count": 86,
     "metadata": {},
     "output_type": "execute_result"
    },
    {
     "data": {
      "text/plain": "<Figure size 432x288 with 1 Axes>",
      "image/png": "[encoded data removed]"
     },
     "metadata": {},
     "output_type": "display_data"
    }
   ],
   "source": [
    "F_matrix.sum().sort_values(ascending=False).plot(kind='bar')"
   ],
   "metadata": {
    "collapsed": false,
    "pycharm": {
     "name": "#%%\n"
    }
   }
  },
  {
   "cell_type": "code",
   "execution_count": 118,
   "outputs": [
    {
     "name": "stderr",
     "output_type": "stream",
     "text": [
      "/opt/anaconda3/envs/intro-chem/lib/python3.7/site-packages/seaborn/matrix.py:1214: UserWarning: ``square=True`` ignored in clustermap\n",
      "  warnings.warn(msg)\n"
     ]
    },
    {
     "data": {
      "text/plain": "<Figure size 720x720 with 5 Axes>",
      "image/png": "[encoded data removed]"
     },
     "metadata": {},
     "output_type": "display_data"
    }
   ],
   "source": [
    "import matplotlib.pyplot as plt\n",
    "sns.set(style=\"ticks\", context=\"talk\")\n",
    "plt.style.use(\"dark_background\")\n",
    "\n",
    "\n",
    "g = sns.clustermap(d2[t], row_colors=['r' if tox == 1 else 'g' for tox in d2.TOXICITY],\n",
    "               cmap=sns.diverging_palette(250, 30, l=65, center=\"dark\", as_cmap=True),\n",
    "                   tree_kws={'colors':['white' for _ in range(d2.shape[0])]},\n",
    "                square=True, linecolor='grey', linewidths=.002,\n",
    ")\n",
    "\n",
    "g.ax_heatmap.set_yticks([])\n",
    "\n",
    "\n",
    "plt.savefig('../data/figures/liver_nash_heatmap.png', transparent=True)"
   ],
   "metadata": {
    "collapsed": false,
    "pycharm": {
     "name": "#%%\n"
    }
   }
  },
  {
   "cell_type": "code",
   "execution_count": 129,
   "outputs": [
    {
     "data": {
      "text/plain": "0.6808510638297872"
     },
     "execution_count": 129,
     "metadata": {},
     "output_type": "execute_result"
    }
   ],
   "source": [
    "from sklearn.linear_model import LogisticRegressionCV\n",
    "\n",
    "\n",
    "X = d2[t].values\n",
    "y = d2.TOXICITY\n",
    "\n",
    "clf = LogisticRegressionCV(cv=2, random_state=0).fit(X, y)\n",
    "clf.score(X, y)"
   ],
   "metadata": {
    "collapsed": false,
    "pycharm": {
     "name": "#%%\n"
    }
   }
  },
  {
   "cell_type": "code",
   "execution_count": 130,
   "outputs": [
    {
     "data": {
      "text/plain": "<Figure size 432x288 with 1 Axes>",
      "image/png": "[encoded data removed]"
     },
     "metadata": {},
     "output_type": "display_data"
    }
   ],
   "source": [
    "ax = F_matrix.sum().sort_values(ascending=False).plot(kind='bar', color='grey')\n",
    "\n",
    "ax.set_title(\"Assays Per Target\")\n",
    "ax.set_ylabel(\"Num. Assays\")\n",
    "\n",
    "plt.tight_layout()\n",
    "plt.savefig('../data/figures/bar.png', transparent=True)"
   ],
   "metadata": {
    "collapsed": false,
    "pycharm": {
     "name": "#%%\n"
    }
   }
  },
  {
   "cell_type": "code",
   "execution_count": 131,
   "outputs": [
    {
     "data": {
      "text/plain": "array([[0.31914933, 0.68085067],\n       [0.31915093, 0.68084907],\n       [0.3191494 , 0.6808506 ],\n       [0.31915032, 0.68084968],\n       [0.3191479 , 0.6808521 ],\n       [0.31915031, 0.68084969],\n       [0.31915041, 0.68084959],\n       [0.31914759, 0.68085241],\n       [0.31915076, 0.68084924],\n       [0.31914977, 0.68085023],\n       [0.3191488 , 0.6808512 ],\n       [0.31914937, 0.68085063],\n       [0.31914825, 0.68085175],\n       [0.31914789, 0.68085211],\n       [0.31914868, 0.68085132],\n       [0.31914872, 0.68085128],\n       [0.31914885, 0.68085115],\n       [0.31915151, 0.68084849],\n       [0.31914735, 0.68085265],\n       [0.3191509 , 0.6808491 ],\n       [0.31914943, 0.68085057],\n       [0.31914966, 0.68085034],\n       [0.31914959, 0.68085041],\n       [0.3191497 , 0.6808503 ],\n       [0.31914904, 0.68085096],\n       [0.31914916, 0.68085084],\n       [0.31915249, 0.68084751],\n       [0.31914913, 0.68085087],\n       [0.3191508 , 0.6808492 ],\n       [0.31914779, 0.68085221],\n       [0.31914927, 0.68085073],\n       [0.31914983, 0.68085017],\n       [0.31914974, 0.68085026],\n       [0.31914837, 0.68085163],\n       [0.31914828, 0.68085172],\n       [0.31915004, 0.68084996],\n       [0.31914939, 0.68085061],\n       [0.31914966, 0.68085034],\n       [0.31914879, 0.68085121],\n       [0.31914883, 0.68085117],\n       [0.31914878, 0.68085122],\n       [0.31914593, 0.68085407],\n       [0.31914764, 0.68085236],\n       [0.31915161, 0.68084839],\n       [0.31914883, 0.68085117],\n       [0.31914973, 0.68085027],\n       [0.31914977, 0.68085023]])"
     },
     "execution_count": 131,
     "metadata": {},
     "output_type": "execute_result"
    }
   ],
   "source": [
    "clf.predict_proba(X)"
   ],
   "metadata": {
    "collapsed": false,
    "pycharm": {
     "name": "#%%\n"
    }
   }
  },
  {
   "cell_type": "code",
   "execution_count": null,
   "outputs": [],
   "source": [
    "df2"
   ],
   "metadata": {
    "collapsed": false,
    "pycharm": {
     "name": "#%%\n"
    }
   }
  }
 ],
 "metadata": {
  "kernelspec": {
   "display_name": "Python 3",
   "language": "python",
   "name": "python3"
  },
  "language_info": {
   "codemirror_mode": {
    "name": "ipython",
    "version": 2
   },
   "file_extension": ".py",
   "mimetype": "text/x-python",
   "name": "python",
   "nbconvert_exporter": "python",
   "pygments_lexer": "ipython2",
   "version": "2.7.6"
  }
 },
 "nbformat": 4,
 "nbformat_minor": 0
}