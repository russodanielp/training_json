{
 "cells": [
  {
   "cell_type": "code",
   "execution_count": 1,
   "metadata": {
    "collapsed": true
   },
   "outputs": [
    {
     "name": "stdout",
     "output_type": "stream",
     "text": [
      "    PUBCHEM_AID GeneSymbol\n",
      "0           713       ESR1\n",
      "1           737       ESR1\n",
      "2          1078       ESR1\n",
      "3          1079       ESR1\n",
      "4          1223       ESR1\n",
      "5        588513       ESR1\n",
      "6        588514       ESR1\n",
      "7        743069       ESR1\n",
      "8        743075       ESR1\n",
      "9        743079       ESR1\n",
      "10       743080       ESR1\n",
      "11      1259244       ESR1\n",
      "12      1259383       ESR1\n"
     ]
    }
   ],
   "source": [
    "import pandas as pd\n",
    "import config\n",
    "import seaborn as sns\n",
    "import matplotlib.pyplot as plt\n",
    "import sqlite3 as sql\n",
    "import dask.dataframe as dd\n",
    "\n",
    "TARGET = 'ESR1'\n",
    "\n",
    "# get assays that belong to a particular\n",
    "# target\n",
    "query = 'SELECT tG.PUBCHEM_AID, tG.GeneSymbol ' \\\n",
    "        'FROM targets tG ' \\\n",
    "        'WHERE GeneSymbol == \"{}\"' \\\n",
    "        ''.format(TARGET)\n",
    "\n",
    "\n",
    "# query = 'SELECT DISTINCT tG.PUBCHEM_AID, tG.GeneSymbol, c.PUBCHEM_CID as CID, dR.SID, dR.Concentration, dR.Response ' \\\n",
    "#         'FROM targets tG ' \\\n",
    "#         'INNER JOIN dose_response dR on dR.AID == tG.PUBCHEM_AID ' \\\n",
    "#         'INNER JOIN concise c on c.PUBCHEM_SID == dR.SID ' \\\n",
    "#         'WHERE GeneSymbol == {} limit 1000'.format(targets_array)\n",
    "\n",
    "genes_aids = pd.read_sql_query(query, con=config.Config.DB_URI)\n",
    "\n",
    "print(genes_aids)"
   ]
  },
  {
   "cell_type": "code",
   "execution_count": 6,
   "outputs": [],
   "source": [
    "aid_list = [str(aid)for aid in genes_aids.PUBCHEM_AID.iloc[:2]]\n",
    "\n",
    "aid_string = \", \".join(map(str, aid_list))\n",
    "aid_query = f'({aid_string})'\n",
    "\n",
    "actives_query = 'SELECT c.PUBCHEM_CID as CID, c.PUBCHEM_AID ' \\\n",
    "                'FROM concise c ' \\\n",
    "                'WHERE c.PUBCHEM_AID in {} AND c.PUBCHEM_ACTIVITY_OUTCOME == \"Active\" limit 1000'.format(aid_query)"
   ],
   "metadata": {
    "collapsed": false,
    "pycharm": {
     "name": "#%%\n"
    }
   }
  },
  {
   "cell_type": "code",
   "execution_count": 7,
   "outputs": [
    {
     "name": "stdout",
     "output_type": "stream",
     "text": [
      "SELECT c.PUBCHEM_CID as CID, c.PUBCHEM_AID FROM concise c WHERE c.PUBCHEM_AID in (713, 737) AND c.PUBCHEM_ACTIVITY_OUTCOME == \"Active\" limit 1000\n"
     ]
    }
   ],
   "source": [
    "print(actives_query)"
   ],
   "metadata": {
    "collapsed": false,
    "pycharm": {
     "name": "#%%\n"
    }
   }
  },
  {
   "cell_type": "code",
   "execution_count": null,
   "outputs": [],
   "source": [
    "active_cmps = pd.read_sql_query(actives_query, con=config.Config.DB_URI)\n",
    "\n",
    "print(active_cmps)"
   ],
   "metadata": {
    "collapsed": false,
    "pycharm": {
     "name": "#%%\n",
     "is_executing": true
    }
   }
  }
 ],
 "metadata": {
  "kernelspec": {
   "display_name": "Python 3",
   "language": "python",
   "name": "python3"
  },
  "language_info": {
   "codemirror_mode": {
    "name": "ipython",
    "version": 2
   },
   "file_extension": ".py",
   "mimetype": "text/x-python",
   "name": "python",
   "nbconvert_exporter": "python",
   "pygments_lexer": "ipython2",
   "version": "2.7.6"
  },
  "pycharm": {
   "stem_cell": {
    "cell_type": "raw",
    "source": [
     "# how to combine data?\n"
    ],
    "metadata": {
     "collapsed": false
    }
   }
  }
 },
 "nbformat": 4,
 "nbformat_minor": 0
}