{
 "cells": [
  {
   "cell_type": "markdown",
   "source": [
    "# Model AOPs\n",
    "\n",
    "First attempt at modeling AOPs.  For not will now use hill curves because the data is very noisy and don't know how\n",
    "to assess goodness-of-fit.\n",
    "\n",
    "Instead a simple approach could be done as follows\n",
    "\n",
    "1) get chemical response data for target\n",
    "2) use curveP to correct noise and establish monotonicity\n",
    "3) put all concentrations on same scale\n",
    "\n",
    "Imports..."
   ],
   "metadata": {
    "collapsed": false,
    "pycharm": {
     "name": "#%% md\n"
    }
   }
  },
  {
   "cell_type": "code",
   "execution_count": 1,
   "outputs": [],
   "source": [
    "import pandas as pd\n",
    "import config\n",
    "import seaborn as sns\n",
    "import numpy as np\n",
    "from curvep import curveP, CONCLIST\n",
    "import matplotlib.pyplot as plt\n",
    "import torch\n",
    "import torch.optim as optim\n",
    "from torch.optim.lr_scheduler import StepLR, ReduceLROnPlateau\n",
    "\n",
    "\n",
    "sns.set(style=\"ticks\", context=\"talk\")\n",
    "plt.style.use(\"dark_background\")\n",
    "\n"
   ],
   "metadata": {
    "collapsed": false,
    "pycharm": {
     "name": "#%%\n"
    }
   }
  },
  {
   "cell_type": "markdown",
   "source": [
    "### Get data\n",
    "\n",
    "First get all the AIDs associated with a set of targets.\n",
    "\n",
    "This part can be modified once its decided how assays will be grouped.  E.g, here ESR1, ESR2 will represent two different AOPs, pathways, etc."
   ],
   "metadata": {
    "collapsed": false,
    "pycharm": {
     "name": "#%% md\n"
    }
   }
  },
  {
   "cell_type": "code",
   "execution_count": 13,
   "outputs": [
    {
     "data": {
      "text/plain": "     GeneSymbol  num_assay\n1         Kcnq2         26\n2        Scarb1         23\n3  LOC116160065         21\n4         CASP3         20\n5           GBA         20",
      "text/html": "<div>\n<style scoped>\n    .dataframe tbody tr th:only-of-type {\n        vertical-align: middle;\n    }\n\n    .dataframe tbody tr th {\n        vertical-align: top;\n    }\n\n    .dataframe thead th {\n        text-align: right;\n    }\n</style>\n<table border=\"1\" class=\"dataframe\">\n  <thead>\n    <tr style=\"text-align: right;\">\n      <th></th>\n      <th>GeneSymbol</th>\n      <th>num_assay</th>\n    </tr>\n  </thead>\n  <tbody>\n    <tr>\n      <th>1</th>\n      <td>Kcnq2</td>\n      <td>26</td>\n    </tr>\n    <tr>\n      <th>2</th>\n      <td>Scarb1</td>\n      <td>23</td>\n    </tr>\n    <tr>\n      <th>3</th>\n      <td>LOC116160065</td>\n      <td>21</td>\n    </tr>\n    <tr>\n      <th>4</th>\n      <td>CASP3</td>\n      <td>20</td>\n    </tr>\n    <tr>\n      <th>5</th>\n      <td>GBA</td>\n      <td>20</td>\n    </tr>\n  </tbody>\n</table>\n</div>"
     },
     "execution_count": 13,
     "metadata": {},
     "output_type": "execute_result"
    }
   ],
   "source": [
    "# get all the targets in the database\n",
    "\n",
    "q = \"select GeneSymbol, count(distinct PUBCHEM_AID) as num_assay from targets group by GeneSymbol  ORDER BY num_assay DESC \"\n",
    "\n",
    "target_list = pd.read_sql_query(q, con=config.Config.DB_URI)\n",
    "target_list = target_list.query(\"num_assay > 1 and GeneSymbol\")\n",
    "target_list.head()"
   ],
   "metadata": {
    "collapsed": false,
    "pycharm": {
     "name": "#%%\n"
    }
   }
  },
  {
   "cell_type": "code",
   "execution_count": 14,
   "outputs": [
    {
     "data": {
      "text/plain": "(442, 2)"
     },
     "execution_count": 14,
     "metadata": {},
     "output_type": "execute_result"
    }
   ],
   "source": [
    "target_list.shape"
   ],
   "metadata": {
    "collapsed": false,
    "pycharm": {
     "name": "#%%\n"
    }
   }
  },
  {
   "cell_type": "code",
   "execution_count": 15,
   "outputs": [
    {
     "data": {
      "text/plain": "['Kcnq2',\n 'Scarb1',\n 'LOC116160065',\n 'CASP3',\n 'GBA',\n 'PKM',\n 'OPRK1',\n 'MITF',\n 'S1PR4',\n 'APLNR',\n 'HRAS',\n 'OPRM1',\n 'PPARG',\n 'ATAD5',\n 'Kcnj2',\n 'NFE2L2',\n 'OPRD1',\n 'ALPL',\n 'PADI4',\n 'TAAR1',\n 'CHRM5',\n 'Tb10.70.6470',\n 'ALPG',\n 'ALPI',\n 'ESR1',\n 'GPR35',\n 'PPP5C',\n 'S1PR2',\n 'AGTR1',\n 'Chrm1',\n 'PKLR',\n 'PTPN22',\n 'ABHD5',\n 'Alpi',\n 'KCNH2',\n 'NOX1',\n 'TSHR',\n 'Trpc4',\n 'UBE2N',\n 'VCP',\n 'ADRB2',\n 'CHRM3',\n 'Chrm4',\n 'GAA',\n 'GLA',\n 'GNA15',\n 'MTOR',\n 'PPP1CA',\n 'S1PR1',\n 'S1PR3',\n 'THRB',\n 'APOBEC3G',\n 'ATM',\n 'CASP1',\n 'CFTR',\n 'CHRM2',\n 'CLK4',\n 'DUSP3',\n 'HTT',\n 'Hsf1',\n 'KEAP1',\n 'NPSR1',\n 'PF3D7_0932300',\n 'Tb927.3.3270',\n 'USP2',\n 'VDR',\n 'APAF1',\n 'AR',\n 'CBFB',\n 'CNR1',\n 'ESRRA',\n 'FASN',\n 'GMNN',\n 'IDH1',\n 'KCNQ1',\n 'NPBWR1',\n 'PF3D7_1311800',\n 'PLIN5',\n 'RAC1',\n 'RUNX1',\n 'Rorc',\n 'SMAD3',\n 'TP53',\n 'CASP9',\n 'CHRM4',\n 'GALK1',\n 'GRM4',\n 'GSK3B',\n 'Grm5',\n 'HSP90AA1',\n 'IFNB1',\n 'KMT2A',\n 'LA59_RS18165',\n 'MCHR1',\n 'MCL1',\n 'PADI1',\n 'PADI2',\n 'PADI3',\n 'PAX8',\n 'RAB7A',\n 'RAB9A',\n 'S1PR5',\n 'SLC5A7',\n 'VMA11',\n 'ACP1',\n 'AICDA',\n 'CASP7',\n 'CCR6',\n 'CHRM1',\n 'CNR2',\n 'Chrm5',\n 'GPR55',\n 'Grm3',\n 'HIF1A',\n 'HKDC1',\n 'KCNJ3',\n 'KCNJ6',\n 'MEN1',\n 'NCOA1',\n 'NCOA3',\n 'NOD2',\n 'NPY1R',\n 'NPY2R',\n 'NTSR1',\n 'PLD1',\n 'PLD2',\n 'RGS4',\n 'SAE1',\n 'SENP8',\n 'STAT1',\n 'STAT3',\n 'TIM10',\n 'Trpc6',\n 'UBA2',\n 'skn-1',\n 'ABCB1',\n 'Abhd6',\n 'BCL2L1',\n 'BCL2L11',\n 'Bcl2a1a',\n 'CDK5',\n 'CDK5R1',\n 'CRHBP',\n 'CRHR2',\n 'CXCR6',\n 'CYP3A4',\n 'DRD1',\n 'DRD2',\n 'Daglb',\n 'ESR2',\n 'G6PD',\n 'GAPDH',\n 'GOPC',\n 'Grm4',\n 'HBB',\n 'HLA-B',\n 'HOXA9',\n 'IDE',\n 'ITGA4',\n 'LYPLA1',\n 'LYPLA2',\n 'MAPT',\n 'MC4R',\n 'MCOLN3',\n 'NFKB1',\n 'NOD1',\n 'NPC1',\n 'NR1I2',\n 'P4HB',\n 'PTPN7',\n 'Txnrd1',\n 'hsp-16.2',\n 'recA',\n 'ABL1',\n 'ACHE',\n 'AGP1',\n 'AHR',\n 'APOBEC3A',\n 'AVPR1B',\n 'BLM',\n 'CCR5',\n 'CIB1',\n 'CREBBP',\n 'CXCL8',\n 'CXCR5',\n 'DYRK1A',\n 'EGFR',\n 'ERAP1',\n 'ERAP2',\n 'FGF22',\n 'FXN',\n 'GALR2',\n 'GLP1R',\n 'GNAO1',\n 'GPR32',\n 'GRM8',\n 'GSK3A',\n 'HCRTR1',\n 'HNF4A',\n 'KCNJ1',\n 'KLF5',\n 'LMP-1',\n 'Lnpep',\n 'MAP4K2',\n 'MAPK1',\n 'MDM2',\n 'MMP14',\n 'NR1H2',\n 'NR1H4',\n 'NR2E3',\n 'NR3C1',\n 'NR5A1',\n 'OXTR',\n 'PIN1',\n 'PLIN1',\n 'PPARD',\n 'PTBP1',\n 'Pmp22',\n 'Prkacb',\n 'RAB2A',\n 'RCE1',\n 'RIN1',\n 'RXFP1',\n 'S',\n 'SMN2',\n 'STK33',\n 'TNF',\n 'TRHR',\n 'TRPV1',\n 'TSG101',\n 'USP1',\n 'mazF',\n 'mex-5',\n 'recB',\n 'recC',\n 'recD',\n 'ABCB6',\n 'ADAM10',\n 'ADAM17',\n 'ALDH1A1',\n 'APOBEC3F',\n 'ARNT',\n 'AURKB',\n 'AVPR1A',\n 'Abhd10',\n 'Abhd11',\n 'BAP1',\n 'CACNA1H',\n 'CASP6',\n 'CD36_00650',\n 'CTSB',\n 'CTSL',\n 'CYP2C9',\n 'CYP2D6',\n 'Chrm2',\n 'Chrm3',\n 'DRD3',\n 'ERG',\n 'EYA2',\n 'F12',\n 'F2',\n 'FEN1',\n 'GCK',\n 'GCKR',\n 'GLS',\n 'GPR183',\n 'GRK2',\n 'GRM6',\n 'Gli1',\n 'Grm2',\n 'HK1',\n 'HTR5A',\n 'Impa1',\n 'KCNQ4',\n 'KPNB1',\n 'Kcnk3',\n 'LMNA',\n 'MAPK3',\n 'MBNL1',\n 'MMP2',\n 'MSRA',\n 'NR5A2',\n 'PABPC1',\n 'PF3D7_1443900',\n 'PGKC',\n 'PIP4K2A',\n 'POLB',\n 'PRKAR1A',\n 'PRKAR2B',\n 'PRKN',\n 'PTGER2',\n 'Ppp1r15a',\n 'RAD51',\n 'RAD52',\n 'RGS12',\n 'RGS16',\n 'RGS7',\n 'RGS8',\n 'RIPK2',\n 'RXRA',\n 'RdRp',\n 'SENP6',\n 'SENP7',\n 'SLC12A5',\n 'SMN1',\n 'STAT6',\n 'TIM23',\n 'TNFSF10',\n 'UBE2I',\n 'WEE1',\n 'daf-12',\n 'env',\n 'trpn1',\n 'vif',\n 'ABCG2',\n 'ALOX15B',\n 'AO090011000118',\n 'ATG4B',\n 'ATXN2',\n 'Apba1',\n 'Arfgap1',\n 'B18R',\n 'BAZ2B',\n 'BCL2',\n 'BCL2A1',\n 'BCL2L10',\n 'BCL2L2',\n 'BRCA1',\n 'BZLF1',\n 'C1S',\n 'CACNA1B',\n 'CBX1',\n 'CDK2',\n 'CDPMEK',\n 'CLK1',\n 'COPS5',\n 'CYP2C19',\n 'Casp3',\n 'Dyrk1a',\n 'EBNA-1',\n 'EIF2AK3',\n 'EPAS1',\n 'F2RL3',\n 'FPR1',\n 'GALR3',\n 'GLI3',\n 'GNAI1',\n 'GNAS',\n 'GPT2',\n 'GSTM1',\n 'GSTO1',\n 'Grm1',\n 'Grm7',\n 'Grm8',\n 'HDAC3',\n 'HDAC9',\n 'HHV8GK18_gp81',\n 'HPGD',\n 'HSF1',\n 'Htr2a',\n 'KAT2A',\n 'KCNE1',\n 'KCNJ5',\n 'KCNJ9',\n 'KPNA2',\n 'Kcnj3',\n 'Kcnq3',\n 'L3MBTL1',\n 'LAP3',\n 'LARGE1',\n 'LHCGR',\n 'Lypla1',\n 'MAP3K3',\n 'MAP3K5',\n 'MBD2',\n 'MPI',\n 'MS6_RS04410',\n 'NCOA2',\n 'NCOR2',\n 'NLRP3',\n 'NR0B1',\n 'NR1I3',\n 'NR2F2',\n 'NTSR2',\n 'Nr1i2',\n 'PDIA6',\n 'PGR',\n 'PLA2G1B',\n 'POLH',\n 'POLI',\n 'POLK',\n 'PPARA',\n 'PPM1D',\n 'PPME1',\n 'PRKACA',\n 'PRKACB',\n 'PSIP1',\n 'PSMD14',\n 'PTPN5',\n 'Pafah2',\n 'Pla2g7',\n 'Plau',\n 'Plaur',\n 'Plg',\n 'RACGAP1',\n 'RAD54L',\n 'RAN',\n 'RAPGEF3',\n 'RAPGEF4',\n 'RARA',\n 'RELA',\n 'RGS19',\n 'RORC',\n 'RXFP2',\n 'SIRT5',\n 'SMAD2',\n 'SMARCA2',\n 'SMPD1',\n 'SNCA',\n 'SNUPN',\n 'SUMO1',\n 'SUMO2',\n 'TACC3',\n 'TDP1',\n 'TDP2',\n 'THPO',\n 'TNNC1',\n 'TNNI3',\n 'TNNT2',\n 'TPM1',\n 'TTR',\n 'Thrb',\n 'UBA1',\n 'UBE2V1',\n 'UHRF1',\n 'WRN',\n 'Wnt3a',\n 'YES1',\n 'dnaB',\n 'gld-1',\n 'glf',\n 'rev']"
     },
     "execution_count": 15,
     "metadata": {},
     "output_type": "execute_result"
    }
   ],
   "source": [
    "TARGETS = [t for t in target_list.GeneSymbol if t]\n",
    "TARGETS"
   ],
   "metadata": {
    "collapsed": false,
    "pycharm": {
     "name": "#%%\n"
    }
   }
  },
  {
   "cell_type": "code",
   "execution_count": 16,
   "outputs": [],
   "source": [
    "# get AIDs associated with target\n",
    "# then get active compounds\n",
    "\n",
    "TARGETS_STR_LIST = [\"\\'\" + t + \"\\'\" for t in TARGETS]\n",
    "TARGETS_STR = \", \".join(map(str, TARGETS_STR_LIST))\n",
    "targets_array = f'({TARGETS_STR})'\n",
    "\n",
    "# get assays that belong to a particular\n",
    "# target\n",
    "query = 'SELECT tG.PUBCHEM_AID, tG.GeneSymbol ' \\\n",
    "        'FROM targets tG ' \\\n",
    "        'WHERE GeneSymbol in {}' \\\n",
    "        ''.format(targets_array)\n",
    "\n",
    "genes_aids = pd.read_sql_query(query, con=config.Config.DB_URI)\n",
    "\n",
    "# get active compounds in AIDS\n",
    "\n",
    "aid_list = [str(aid)for aid in genes_aids.PUBCHEM_AID]\n",
    "\n",
    "aid_string = \", \".join(map(str, aid_list))\n",
    "aid_query = f'({aid_string})'\n",
    "\n",
    "actives_query = 'SELECT c.PUBCHEM_CID as CID, c.PUBCHEM_AID as AID, c.PUBCHEM_SID as SID ' \\\n",
    "                'FROM concise c ' \\\n",
    "                'WHERE c.PUBCHEM_AID in {} AND c.PUBCHEM_ACTIVITY_OUTCOME == \"Active\" AND ' \\\n",
    "                'c.PUBCHEM_CID is not null AND c.PUBCHEM_SID is not null'.format(aid_query)\n",
    "\n",
    "active_cmps = pd.read_sql_query(actives_query, con=config.Config.DB_URI)\n",
    "active_cmps['SID'] = active_cmps['SID'].astype(int)\n",
    "\n",
    "\n"
   ],
   "metadata": {
    "collapsed": false,
    "pycharm": {
     "name": "#%%\n"
    }
   }
  },
  {
   "cell_type": "code",
   "execution_count": 17,
   "outputs": [
    {
     "data": {
      "text/plain": "              CID      AID        SID\n0            1663      411   11111287\n1            1730      411   11110959\n2            1742      411   11111292\n3            2392      411    4254198\n4            2703      411   11110929\n...           ...      ...        ...\n541887  135442941  1671201  144212405\n541888  135491728  1671201  251919717\n541889  135565635  1671201  170466897\n541890  135585373  1671201  144211426\n541891  135749823  1671201  170465607\n\n[541892 rows x 3 columns]",
      "text/html": "<div>\n<style scoped>\n    .dataframe tbody tr th:only-of-type {\n        vertical-align: middle;\n    }\n\n    .dataframe tbody tr th {\n        vertical-align: top;\n    }\n\n    .dataframe thead th {\n        text-align: right;\n    }\n</style>\n<table border=\"1\" class=\"dataframe\">\n  <thead>\n    <tr style=\"text-align: right;\">\n      <th></th>\n      <th>CID</th>\n      <th>AID</th>\n      <th>SID</th>\n    </tr>\n  </thead>\n  <tbody>\n    <tr>\n      <th>0</th>\n      <td>1663</td>\n      <td>411</td>\n      <td>11111287</td>\n    </tr>\n    <tr>\n      <th>1</th>\n      <td>1730</td>\n      <td>411</td>\n      <td>11110959</td>\n    </tr>\n    <tr>\n      <th>2</th>\n      <td>1742</td>\n      <td>411</td>\n      <td>11111292</td>\n    </tr>\n    <tr>\n      <th>3</th>\n      <td>2392</td>\n      <td>411</td>\n      <td>4254198</td>\n    </tr>\n    <tr>\n      <th>4</th>\n      <td>2703</td>\n      <td>411</td>\n      <td>11110929</td>\n    </tr>\n    <tr>\n      <th>...</th>\n      <td>...</td>\n      <td>...</td>\n      <td>...</td>\n    </tr>\n    <tr>\n      <th>541887</th>\n      <td>135442941</td>\n      <td>1671201</td>\n      <td>144212405</td>\n    </tr>\n    <tr>\n      <th>541888</th>\n      <td>135491728</td>\n      <td>1671201</td>\n      <td>251919717</td>\n    </tr>\n    <tr>\n      <th>541889</th>\n      <td>135565635</td>\n      <td>1671201</td>\n      <td>170466897</td>\n    </tr>\n    <tr>\n      <th>541890</th>\n      <td>135585373</td>\n      <td>1671201</td>\n      <td>144211426</td>\n    </tr>\n    <tr>\n      <th>541891</th>\n      <td>135749823</td>\n      <td>1671201</td>\n      <td>170465607</td>\n    </tr>\n  </tbody>\n</table>\n<p>541892 rows × 3 columns</p>\n</div>"
     },
     "execution_count": 17,
     "metadata": {},
     "output_type": "execute_result"
    }
   ],
   "source": [
    "active_cmps"
   ],
   "metadata": {
    "collapsed": false,
    "pycharm": {
     "name": "#%%\n"
    }
   }
  },
  {
   "cell_type": "code",
   "execution_count": 29,
   "outputs": [],
   "source": [
    "counts = active_cmps.groupby('AID')['CID'].nunique()\n",
    "counts = counts[counts > 500]"
   ],
   "metadata": {
    "collapsed": false,
    "pycharm": {
     "name": "#%%\n"
    }
   }
  },
  {
   "cell_type": "code",
   "execution_count": 30,
   "outputs": [
    {
     "data": {
      "text/plain": "(455212, 3)"
     },
     "execution_count": 30,
     "metadata": {},
     "output_type": "execute_result"
    }
   ],
   "source": [
    "trimmed_actives = active_cmps[active_cmps.AID.isin(counts.index)]\n",
    "trimmed_actives.shape"
   ],
   "metadata": {
    "collapsed": false,
    "pycharm": {
     "name": "#%%\n"
    }
   }
  },
  {
   "cell_type": "code",
   "execution_count": 32,
   "outputs": [],
   "source": [
    "counts = active_cmps.groupby('CID')['AID'].nunique()\n",
    "counts = counts[counts > 5]"
   ],
   "metadata": {
    "collapsed": false,
    "pycharm": {
     "name": "#%%\n"
    }
   }
  },
  {
   "cell_type": "code",
   "execution_count": 33,
   "outputs": [
    {
     "data": {
      "text/plain": "(212247, 3)"
     },
     "execution_count": 33,
     "metadata": {},
     "output_type": "execute_result"
    }
   ],
   "source": [
    "trimmed_actives = active_cmps[active_cmps.CID.isin(counts.index)]\n",
    "trimmed_actives.shape"
   ],
   "metadata": {
    "collapsed": false,
    "pycharm": {
     "name": "#%%\n"
    }
   }
  },
  {
   "cell_type": "code",
   "execution_count": 34,
   "outputs": [
    {
     "data": {
      "text/plain": "20583"
     },
     "execution_count": 34,
     "metadata": {},
     "output_type": "execute_result"
    }
   ],
   "source": [
    "trimmed_actives.CID.nunique()"
   ],
   "metadata": {
    "collapsed": false,
    "pycharm": {
     "name": "#%%\n"
    }
   }
  },
  {
   "cell_type": "code",
   "execution_count": 35,
   "outputs": [
    {
     "name": "stdout",
     "output_type": "stream",
     "text": [
      "      SID     AID      AC50         TOP     SLOPE           MSE     CID\n",
      "0  842160    1688  9.950002  -69.010063  7.972477  2.955673e-09  644416\n",
      "1  842160  504467  9.110092 -100.000249  8.000000  1.546978e-08  644416\n",
      "2  842186    1688  0.369508 -104.586537  0.851785  6.308208e+01  644442\n",
      "3  842186    2546  7.473386  -86.463212  7.999999  3.973917e-07  644442\n",
      "4  842186    2551  1.997860 -100.000131  7.978447  8.293890e-09  644442\n"
     ]
    }
   ],
   "source": [
    "sid_list = [str(sid)for sid in trimmed_actives.SID.unique()]\n",
    "\n",
    "sid_string = \", \".join(map(str, sid_list))\n",
    "sid_query = f'({sid_string})'\n",
    "\n",
    "aid_list = [str(aid)for aid in trimmed_actives.AID.unique()]\n",
    "\n",
    "aid_string = \", \".join(map(str, aid_list))\n",
    "aid_query = f'({aid_string})'\n",
    "\n",
    "hill_params_query = 'SELECT  SID, AID, AC50, TOP, SLOPE, MSE ' \\\n",
    "                    'FROM hill_models ' \\\n",
    "                    'WHERE AID in {} AND SID in {} '.format(aid_query, sid_query)\n",
    "\n",
    "hill_params = pd.read_sql_query(hill_params_query, con=config.Config.DB_URI)\n",
    "\n",
    "# this merge is necessary because\n",
    "# the former query gathers all data\n",
    "# for all sid and aid that have any active cmps\n",
    "# not just the pairs of active sid, aid\n",
    "# could be solved by a SQLite join, but\n",
    "# right now takes too long\n",
    "hill_merged = pd.merge(hill_params, trimmed_actives[['SID', 'CID', 'AID']].drop_duplicates(['SID', 'CID', 'AID']), on=['SID', 'AID'])\n",
    "print(hill_merged.head())\n"
   ],
   "metadata": {
    "collapsed": false,
    "pycharm": {
     "name": "#%%\n"
    }
   }
  },
  {
   "cell_type": "code",
   "execution_count": 36,
   "outputs": [
    {
     "data": {
      "text/plain": "(202104, 7)"
     },
     "execution_count": 36,
     "metadata": {},
     "output_type": "execute_result"
    }
   ],
   "source": [
    "hill_merged = hill_merged.dropna()\n",
    "hill_merged_trim = hill_merged[hill_merged.MSE < 500]\n",
    "hill_merged_trim.shape"
   ],
   "metadata": {
    "collapsed": false,
    "pycharm": {
     "name": "#%%\n"
    }
   }
  },
  {
   "cell_type": "markdown",
   "source": [
    "Now, create an example model just using one compound....\n",
    "\n",
    "This can be extended to create models for $n$ compounds when ready...dd"
   ],
   "metadata": {
    "collapsed": false,
    "pycharm": {
     "name": "#%% md\n"
    }
   }
  },
  {
   "cell_type": "code",
   "execution_count": 37,
   "outputs": [
    {
     "data": {
      "text/plain": "              SID      AID        AC50           TOP     SLOPE           MSE  \\\n122479   26757531   588513    0.011761 -3.887146e+01  0.300000  1.635351e+02   \n122480   26757531   588514    0.502084  4.824680e+01  2.213343  1.022685e+02   \n122481   26757531   651741   45.388852  4.851048e+01  8.000000  4.311081e-07   \n177782  144208665   651631   57.295229 -1.084922e+02  8.000000  1.739599e+00   \n177783  144208665   743035   24.625737 -8.463526e+01  2.412551  1.665934e+00   \n177784  144208665   743065   17.567024 -9.151778e+01  8.000000  1.758873e+02   \n177785  144208665   743075    1.865656  1.780010e+01  7.999998  2.675787e+01   \n177787  144208665  1159521   39.553445 -8.686703e+01  1.781940  3.631663e+00   \n177788  144208665  1224839   12.899834  3.953936e+01  1.410130  5.433597e+00   \n177789  144208665  1224841   57.433383 -1.200000e+02  3.022719  1.098316e+01   \n177790  144208665  1224843   44.528576  4.315614e+01  8.000000  1.806987e-04   \n177791  144208665  1224848   46.037945 -9.512136e+01  8.000000  5.152490e-04   \n177792  144208665  1259243   16.831969 -9.293366e+01  1.368926  1.429437e+01   \n177793  144208665  1259369   27.521998 -6.445517e+01  2.077804  3.633548e+00   \n177794  144208665  1259378    0.425795 -4.500764e+01  1.871937  6.517250e+00   \n177795  144208665  1259383    3.962134  6.988889e+01  2.220204  1.785847e+00   \n177796  144208665  1346795   11.244326 -5.353527e+01  2.981766  2.232734e+00   \n177797  144208665  1346982   20.589404  9.865515e+01  8.000000  3.592672e-03   \n177798  144208665  1671197    4.003145 -9.890722e+01  1.088827  1.324526e+01   \n177799  144208665  1671198    2.368430 -1.007258e+02  0.947491  1.287196e+01   \n177800  144208665  1671201   60.414114 -9.111553e+01  1.441808  9.275664e+00   \n194890  144213946   651631   57.295229 -1.084922e+02  8.000000  1.739599e+00   \n194891  144213946   743035   28.488407 -6.256503e+01  8.000000  1.039196e-02   \n194892  144213946   743042   36.250981 -7.336194e+01  8.000000  5.786412e-03   \n194893  144213946   743065   22.617973 -1.017102e+02  3.306380  1.288138e+00   \n194894  144213946   743069   36.132914 -5.458658e+01  8.000000  1.232980e-04   \n194895  144213946   743075    8.977333  1.287930e+01  8.000000  1.695379e+01   \n194896  144213946   743079    2.311193  6.878584e+01  7.999993  4.066435e+02   \n194897  144213946   743080   77.478233 -1.200000e+02  8.000000  8.215673e-04   \n194898  144213946   743085    1.000000  1.000000e-10  1.000000  3.272207e-21   \n194899  144213946  1224839   16.179108  2.205100e+01  8.000000  8.861675e-04   \n194900  144213946  1224848  105.023356 -1.200000e+02  8.000000  6.070278e-04   \n194901  144213946  1259243    9.256188 -7.081984e+01  2.332668  6.998059e+00   \n194902  144213946  1259244  108.486176 -1.200000e+02  8.000000  3.613583e-04   \n194903  144213946  1259369   31.235296 -1.177903e+02  1.005273  1.983509e+01   \n194904  144213946  1259378    0.295277 -4.790322e+01  1.413284  5.647922e+00   \n194905  144213946  1259383    5.839587  7.253740e+01  1.518916  4.260997e+00   \n194906  144213946  1346982   21.261260  1.001895e+02  8.000000  5.768301e-03   \n194907  144213946  1671197    4.058682 -1.008586e+02  1.610970  7.484942e-01   \n194908  144213946  1671198    2.719873 -9.997914e+01  0.967537  9.642139e+00   \n194909  144213946  1671201   34.670722 -6.363618e+01  1.876671  6.779551e+00   \n\n          CID  \n122479  73864  \n122480  73864  \n122481  73864  \n177782  73864  \n177783  73864  \n177784  73864  \n177785  73864  \n177787  73864  \n177788  73864  \n177789  73864  \n177790  73864  \n177791  73864  \n177792  73864  \n177793  73864  \n177794  73864  \n177795  73864  \n177796  73864  \n177797  73864  \n177798  73864  \n177799  73864  \n177800  73864  \n194890  73864  \n194891  73864  \n194892  73864  \n194893  73864  \n194894  73864  \n194895  73864  \n194896  73864  \n194897  73864  \n194898  73864  \n194899  73864  \n194900  73864  \n194901  73864  \n194902  73864  \n194903  73864  \n194904  73864  \n194905  73864  \n194906  73864  \n194907  73864  \n194908  73864  \n194909  73864  ",
      "text/html": "<div>\n<style scoped>\n    .dataframe tbody tr th:only-of-type {\n        vertical-align: middle;\n    }\n\n    .dataframe tbody tr th {\n        vertical-align: top;\n    }\n\n    .dataframe thead th {\n        text-align: right;\n    }\n</style>\n<table border=\"1\" class=\"dataframe\">\n  <thead>\n    <tr style=\"text-align: right;\">\n      <th></th>\n      <th>SID</th>\n      <th>AID</th>\n      <th>AC50</th>\n      <th>TOP</th>\n      <th>SLOPE</th>\n      <th>MSE</th>\n      <th>CID</th>\n    </tr>\n  </thead>\n  <tbody>\n    <tr>\n      <th>122479</th>\n      <td>26757531</td>\n      <td>588513</td>\n      <td>0.011761</td>\n      <td>-3.887146e+01</td>\n      <td>0.300000</td>\n      <td>1.635351e+02</td>\n      <td>73864</td>\n    </tr>\n    <tr>\n      <th>122480</th>\n      <td>26757531</td>\n      <td>588514</td>\n      <td>0.502084</td>\n      <td>4.824680e+01</td>\n      <td>2.213343</td>\n      <td>1.022685e+02</td>\n      <td>73864</td>\n    </tr>\n    <tr>\n      <th>122481</th>\n      <td>26757531</td>\n      <td>651741</td>\n      <td>45.388852</td>\n      <td>4.851048e+01</td>\n      <td>8.000000</td>\n      <td>4.311081e-07</td>\n      <td>73864</td>\n    </tr>\n    <tr>\n      <th>177782</th>\n      <td>144208665</td>\n      <td>651631</td>\n      <td>57.295229</td>\n      <td>-1.084922e+02</td>\n      <td>8.000000</td>\n      <td>1.739599e+00</td>\n      <td>73864</td>\n    </tr>\n    <tr>\n      <th>177783</th>\n      <td>144208665</td>\n      <td>743035</td>\n      <td>24.625737</td>\n      <td>-8.463526e+01</td>\n      <td>2.412551</td>\n      <td>1.665934e+00</td>\n      <td>73864</td>\n    </tr>\n    <tr>\n      <th>177784</th>\n      <td>144208665</td>\n      <td>743065</td>\n      <td>17.567024</td>\n      <td>-9.151778e+01</td>\n      <td>8.000000</td>\n      <td>1.758873e+02</td>\n      <td>73864</td>\n    </tr>\n    <tr>\n      <th>177785</th>\n      <td>144208665</td>\n      <td>743075</td>\n      <td>1.865656</td>\n      <td>1.780010e+01</td>\n      <td>7.999998</td>\n      <td>2.675787e+01</td>\n      <td>73864</td>\n    </tr>\n    <tr>\n      <th>177787</th>\n      <td>144208665</td>\n      <td>1159521</td>\n      <td>39.553445</td>\n      <td>-8.686703e+01</td>\n      <td>1.781940</td>\n      <td>3.631663e+00</td>\n      <td>73864</td>\n    </tr>\n    <tr>\n      <th>177788</th>\n      <td>144208665</td>\n      <td>1224839</td>\n      <td>12.899834</td>\n      <td>3.953936e+01</td>\n      <td>1.410130</td>\n      <td>5.433597e+00</td>\n      <td>73864</td>\n    </tr>\n    <tr>\n      <th>177789</th>\n      <td>144208665</td>\n      <td>1224841</td>\n      <td>57.433383</td>\n      <td>-1.200000e+02</td>\n      <td>3.022719</td>\n      <td>1.098316e+01</td>\n      <td>73864</td>\n    </tr>\n    <tr>\n      <th>177790</th>\n      <td>144208665</td>\n      <td>1224843</td>\n      <td>44.528576</td>\n      <td>4.315614e+01</td>\n      <td>8.000000</td>\n      <td>1.806987e-04</td>\n      <td>73864</td>\n    </tr>\n    <tr>\n      <th>177791</th>\n      <td>144208665</td>\n      <td>1224848</td>\n      <td>46.037945</td>\n      <td>-9.512136e+01</td>\n      <td>8.000000</td>\n      <td>5.152490e-04</td>\n      <td>73864</td>\n    </tr>\n    <tr>\n      <th>177792</th>\n      <td>144208665</td>\n      <td>1259243</td>\n      <td>16.831969</td>\n      <td>-9.293366e+01</td>\n      <td>1.368926</td>\n      <td>1.429437e+01</td>\n      <td>73864</td>\n    </tr>\n    <tr>\n      <th>177793</th>\n      <td>144208665</td>\n      <td>1259369</td>\n      <td>27.521998</td>\n      <td>-6.445517e+01</td>\n      <td>2.077804</td>\n      <td>3.633548e+00</td>\n      <td>73864</td>\n    </tr>\n    <tr>\n      <th>177794</th>\n      <td>144208665</td>\n      <td>1259378</td>\n      <td>0.425795</td>\n      <td>-4.500764e+01</td>\n      <td>1.871937</td>\n      <td>6.517250e+00</td>\n      <td>73864</td>\n    </tr>\n    <tr>\n      <th>177795</th>\n      <td>144208665</td>\n      <td>1259383</td>\n      <td>3.962134</td>\n      <td>6.988889e+01</td>\n      <td>2.220204</td>\n      <td>1.785847e+00</td>\n      <td>73864</td>\n    </tr>\n    <tr>\n      <th>177796</th>\n      <td>144208665</td>\n      <td>1346795</td>\n      <td>11.244326</td>\n      <td>-5.353527e+01</td>\n      <td>2.981766</td>\n      <td>2.232734e+00</td>\n      <td>73864</td>\n    </tr>\n    <tr>\n      <th>177797</th>\n      <td>144208665</td>\n      <td>1346982</td>\n      <td>20.589404</td>\n      <td>9.865515e+01</td>\n      <td>8.000000</td>\n      <td>3.592672e-03</td>\n      <td>73864</td>\n    </tr>\n    <tr>\n      <th>177798</th>\n      <td>144208665</td>\n      <td>1671197</td>\n      <td>4.003145</td>\n      <td>-9.890722e+01</td>\n      <td>1.088827</td>\n      <td>1.324526e+01</td>\n      <td>73864</td>\n    </tr>\n    <tr>\n      <th>177799</th>\n      <td>144208665</td>\n      <td>1671198</td>\n      <td>2.368430</td>\n      <td>-1.007258e+02</td>\n      <td>0.947491</td>\n      <td>1.287196e+01</td>\n      <td>73864</td>\n    </tr>\n    <tr>\n      <th>177800</th>\n      <td>144208665</td>\n      <td>1671201</td>\n      <td>60.414114</td>\n      <td>-9.111553e+01</td>\n      <td>1.441808</td>\n      <td>9.275664e+00</td>\n      <td>73864</td>\n    </tr>\n    <tr>\n      <th>194890</th>\n      <td>144213946</td>\n      <td>651631</td>\n      <td>57.295229</td>\n      <td>-1.084922e+02</td>\n      <td>8.000000</td>\n      <td>1.739599e+00</td>\n      <td>73864</td>\n    </tr>\n    <tr>\n      <th>194891</th>\n      <td>144213946</td>\n      <td>743035</td>\n      <td>28.488407</td>\n      <td>-6.256503e+01</td>\n      <td>8.000000</td>\n      <td>1.039196e-02</td>\n      <td>73864</td>\n    </tr>\n    <tr>\n      <th>194892</th>\n      <td>144213946</td>\n      <td>743042</td>\n      <td>36.250981</td>\n      <td>-7.336194e+01</td>\n      <td>8.000000</td>\n      <td>5.786412e-03</td>\n      <td>73864</td>\n    </tr>\n    <tr>\n      <th>194893</th>\n      <td>144213946</td>\n      <td>743065</td>\n      <td>22.617973</td>\n      <td>-1.017102e+02</td>\n      <td>3.306380</td>\n      <td>1.288138e+00</td>\n      <td>73864</td>\n    </tr>\n    <tr>\n      <th>194894</th>\n      <td>144213946</td>\n      <td>743069</td>\n      <td>36.132914</td>\n      <td>-5.458658e+01</td>\n      <td>8.000000</td>\n      <td>1.232980e-04</td>\n      <td>73864</td>\n    </tr>\n    <tr>\n      <th>194895</th>\n      <td>144213946</td>\n      <td>743075</td>\n      <td>8.977333</td>\n      <td>1.287930e+01</td>\n      <td>8.000000</td>\n      <td>1.695379e+01</td>\n      <td>73864</td>\n    </tr>\n    <tr>\n      <th>194896</th>\n      <td>144213946</td>\n      <td>743079</td>\n      <td>2.311193</td>\n      <td>6.878584e+01</td>\n      <td>7.999993</td>\n      <td>4.066435e+02</td>\n      <td>73864</td>\n    </tr>\n    <tr>\n      <th>194897</th>\n      <td>144213946</td>\n      <td>743080</td>\n      <td>77.478233</td>\n      <td>-1.200000e+02</td>\n      <td>8.000000</td>\n      <td>8.215673e-04</td>\n      <td>73864</td>\n    </tr>\n    <tr>\n      <th>194898</th>\n      <td>144213946</td>\n      <td>743085</td>\n      <td>1.000000</td>\n      <td>1.000000e-10</td>\n      <td>1.000000</td>\n      <td>3.272207e-21</td>\n      <td>73864</td>\n    </tr>\n    <tr>\n      <th>194899</th>\n      <td>144213946</td>\n      <td>1224839</td>\n      <td>16.179108</td>\n      <td>2.205100e+01</td>\n      <td>8.000000</td>\n      <td>8.861675e-04</td>\n      <td>73864</td>\n    </tr>\n    <tr>\n      <th>194900</th>\n      <td>144213946</td>\n      <td>1224848</td>\n      <td>105.023356</td>\n      <td>-1.200000e+02</td>\n      <td>8.000000</td>\n      <td>6.070278e-04</td>\n      <td>73864</td>\n    </tr>\n    <tr>\n      <th>194901</th>\n      <td>144213946</td>\n      <td>1259243</td>\n      <td>9.256188</td>\n      <td>-7.081984e+01</td>\n      <td>2.332668</td>\n      <td>6.998059e+00</td>\n      <td>73864</td>\n    </tr>\n    <tr>\n      <th>194902</th>\n      <td>144213946</td>\n      <td>1259244</td>\n      <td>108.486176</td>\n      <td>-1.200000e+02</td>\n      <td>8.000000</td>\n      <td>3.613583e-04</td>\n      <td>73864</td>\n    </tr>\n    <tr>\n      <th>194903</th>\n      <td>144213946</td>\n      <td>1259369</td>\n      <td>31.235296</td>\n      <td>-1.177903e+02</td>\n      <td>1.005273</td>\n      <td>1.983509e+01</td>\n      <td>73864</td>\n    </tr>\n    <tr>\n      <th>194904</th>\n      <td>144213946</td>\n      <td>1259378</td>\n      <td>0.295277</td>\n      <td>-4.790322e+01</td>\n      <td>1.413284</td>\n      <td>5.647922e+00</td>\n      <td>73864</td>\n    </tr>\n    <tr>\n      <th>194905</th>\n      <td>144213946</td>\n      <td>1259383</td>\n      <td>5.839587</td>\n      <td>7.253740e+01</td>\n      <td>1.518916</td>\n      <td>4.260997e+00</td>\n      <td>73864</td>\n    </tr>\n    <tr>\n      <th>194906</th>\n      <td>144213946</td>\n      <td>1346982</td>\n      <td>21.261260</td>\n      <td>1.001895e+02</td>\n      <td>8.000000</td>\n      <td>5.768301e-03</td>\n      <td>73864</td>\n    </tr>\n    <tr>\n      <th>194907</th>\n      <td>144213946</td>\n      <td>1671197</td>\n      <td>4.058682</td>\n      <td>-1.008586e+02</td>\n      <td>1.610970</td>\n      <td>7.484942e-01</td>\n      <td>73864</td>\n    </tr>\n    <tr>\n      <th>194908</th>\n      <td>144213946</td>\n      <td>1671198</td>\n      <td>2.719873</td>\n      <td>-9.997914e+01</td>\n      <td>0.967537</td>\n      <td>9.642139e+00</td>\n      <td>73864</td>\n    </tr>\n    <tr>\n      <th>194909</th>\n      <td>144213946</td>\n      <td>1671201</td>\n      <td>34.670722</td>\n      <td>-6.363618e+01</td>\n      <td>1.876671</td>\n      <td>6.779551e+00</td>\n      <td>73864</td>\n    </tr>\n  </tbody>\n</table>\n</div>"
     },
     "execution_count": 37,
     "metadata": {},
     "output_type": "execute_result"
    }
   ],
   "source": [
    "hill_merged_trim.query(\"CID == 73864\")"
   ],
   "metadata": {
    "collapsed": false,
    "pycharm": {
     "name": "#%%\n"
    }
   }
  },
  {
   "cell_type": "code",
   "execution_count": 38,
   "outputs": [
    {
     "data": {
      "text/plain": "(341635, 8)"
     },
     "execution_count": 38,
     "metadata": {},
     "output_type": "execute_result"
    }
   ],
   "source": [
    "scaled_data_corrected = hill_merged_trim.merge(genes_aids.rename(columns={'PUBCHEM_AID': 'AID', 'GeneSymbol': 'Target'}))\n",
    "\n",
    "training_data = scaled_data_corrected.copy().dropna()\n",
    "training_data.shape"
   ],
   "metadata": {
    "collapsed": false,
    "pycharm": {
     "name": "#%%\n"
    }
   }
  },
  {
   "cell_type": "code",
   "execution_count": 39,
   "outputs": [
    {
     "data": {
      "text/plain": "      SID   AID      AC50         TOP     SLOPE           MSE     CID Target\n0  842160  1688  9.950002  -69.010063  7.972477  2.955673e-09  644416    HTT\n1  842186  1688  0.369508 -104.586537  0.851785  6.308208e+01  644442    HTT\n2  842939  1688  1.164601  -86.507807  1.079740  4.174652e+00  645210    HTT\n3  843298  1688  9.327466  -71.745416  7.997913  8.245720e-09  645578    HTT\n4  844255  1688  5.236478  -81.819205  1.302995  1.890081e+00  646579    HTT",
      "text/html": "<div>\n<style scoped>\n    .dataframe tbody tr th:only-of-type {\n        vertical-align: middle;\n    }\n\n    .dataframe tbody tr th {\n        vertical-align: top;\n    }\n\n    .dataframe thead th {\n        text-align: right;\n    }\n</style>\n<table border=\"1\" class=\"dataframe\">\n  <thead>\n    <tr style=\"text-align: right;\">\n      <th></th>\n      <th>SID</th>\n      <th>AID</th>\n      <th>AC50</th>\n      <th>TOP</th>\n      <th>SLOPE</th>\n      <th>MSE</th>\n      <th>CID</th>\n      <th>Target</th>\n    </tr>\n  </thead>\n  <tbody>\n    <tr>\n      <th>0</th>\n      <td>842160</td>\n      <td>1688</td>\n      <td>9.950002</td>\n      <td>-69.010063</td>\n      <td>7.972477</td>\n      <td>2.955673e-09</td>\n      <td>644416</td>\n      <td>HTT</td>\n    </tr>\n    <tr>\n      <th>1</th>\n      <td>842186</td>\n      <td>1688</td>\n      <td>0.369508</td>\n      <td>-104.586537</td>\n      <td>0.851785</td>\n      <td>6.308208e+01</td>\n      <td>644442</td>\n      <td>HTT</td>\n    </tr>\n    <tr>\n      <th>2</th>\n      <td>842939</td>\n      <td>1688</td>\n      <td>1.164601</td>\n      <td>-86.507807</td>\n      <td>1.079740</td>\n      <td>4.174652e+00</td>\n      <td>645210</td>\n      <td>HTT</td>\n    </tr>\n    <tr>\n      <th>3</th>\n      <td>843298</td>\n      <td>1688</td>\n      <td>9.327466</td>\n      <td>-71.745416</td>\n      <td>7.997913</td>\n      <td>8.245720e-09</td>\n      <td>645578</td>\n      <td>HTT</td>\n    </tr>\n    <tr>\n      <th>4</th>\n      <td>844255</td>\n      <td>1688</td>\n      <td>5.236478</td>\n      <td>-81.819205</td>\n      <td>1.302995</td>\n      <td>1.890081e+00</td>\n      <td>646579</td>\n      <td>HTT</td>\n    </tr>\n  </tbody>\n</table>\n</div>"
     },
     "execution_count": 39,
     "metadata": {},
     "output_type": "execute_result"
    }
   ],
   "source": [
    "training_data = training_data.drop_duplicates()\n",
    "training_data.head()"
   ],
   "metadata": {
    "collapsed": false,
    "pycharm": {
     "name": "#%%\n"
    }
   }
  },
  {
   "cell_type": "markdown",
   "source": [
    "Format data"
   ],
   "metadata": {
    "collapsed": false,
    "pycharm": {
     "name": "#%% md\n"
    }
   }
  },
  {
   "cell_type": "code",
   "execution_count": 40,
   "outputs": [],
   "source": [
    "from curve_fitting import hill_curve\n",
    "xs = np.asarray(CONCLIST)\n",
    "\n",
    "dfs = []\n",
    "\n",
    "for (aid, cid), params in training_data.groupby(['AID', 'CID']):\n",
    "\n",
    "    params = params[params.MSE == params.MSE.min()]\n",
    "\n",
    "    curve = hill_curve(xs, params.AC50.iloc[0], params.TOP.iloc[0], params.SLOPE.iloc[0])\n",
    "    df = pd.DataFrame()\n",
    "    df['log(Concentration)'] = np.log10(xs)\n",
    "    df['Response'] = curve\n",
    "    df['AID'] = aid\n",
    "    df['CID'] = cid\n",
    "    df['Target'] = params.Target.iloc[0]\n",
    "    dfs.append(df)"
   ],
   "metadata": {
    "collapsed": false,
    "pycharm": {
     "name": "#%%\n"
    }
   }
  },
  {
   "cell_type": "code",
   "execution_count": 41,
   "outputs": [
    {
     "data": {
      "text/plain": "   log(Concentration)      Response  AID   CID        Target\n0           -6.000000 -5.683894e-09  411  1730  LOC116160065\n1           -5.571924 -2.196190e-08  411  1730  LOC116160065\n2           -5.395833 -3.829530e-08  411  1730  LOC116160065\n3           -5.219742 -6.677606e-08  411  1730  LOC116160065\n4           -5.043650 -1.164384e-07  411  1730  LOC116160065",
      "text/html": "<div>\n<style scoped>\n    .dataframe tbody tr th:only-of-type {\n        vertical-align: middle;\n    }\n\n    .dataframe tbody tr th {\n        vertical-align: top;\n    }\n\n    .dataframe thead th {\n        text-align: right;\n    }\n</style>\n<table border=\"1\" class=\"dataframe\">\n  <thead>\n    <tr style=\"text-align: right;\">\n      <th></th>\n      <th>log(Concentration)</th>\n      <th>Response</th>\n      <th>AID</th>\n      <th>CID</th>\n      <th>Target</th>\n    </tr>\n  </thead>\n  <tbody>\n    <tr>\n      <th>0</th>\n      <td>-6.000000</td>\n      <td>-5.683894e-09</td>\n      <td>411</td>\n      <td>1730</td>\n      <td>LOC116160065</td>\n    </tr>\n    <tr>\n      <th>1</th>\n      <td>-5.571924</td>\n      <td>-2.196190e-08</td>\n      <td>411</td>\n      <td>1730</td>\n      <td>LOC116160065</td>\n    </tr>\n    <tr>\n      <th>2</th>\n      <td>-5.395833</td>\n      <td>-3.829530e-08</td>\n      <td>411</td>\n      <td>1730</td>\n      <td>LOC116160065</td>\n    </tr>\n    <tr>\n      <th>3</th>\n      <td>-5.219742</td>\n      <td>-6.677606e-08</td>\n      <td>411</td>\n      <td>1730</td>\n      <td>LOC116160065</td>\n    </tr>\n    <tr>\n      <th>4</th>\n      <td>-5.043650</td>\n      <td>-1.164384e-07</td>\n      <td>411</td>\n      <td>1730</td>\n      <td>LOC116160065</td>\n    </tr>\n  </tbody>\n</table>\n</div>"
     },
     "execution_count": 41,
     "metadata": {},
     "output_type": "execute_result"
    }
   ],
   "source": [
    "dfs = pd.concat(dfs)\n",
    "dfs.head()"
   ],
   "metadata": {
    "collapsed": false,
    "pycharm": {
     "name": "#%%\n"
    }
   }
  },
  {
   "cell_type": "code",
   "execution_count": 42,
   "outputs": [
    {
     "data": {
      "text/plain": "         ABCB1  ABCB6  ABCG2  ABHD5  ABL1  ACHE  ACP1  ADAM10  ADAM17  ADRB2  \\\n1689         1      0      0      0     0     0     0       0       0      0   \n489002       1      0      0      0     0     0     0       0       0      0   \n504566       1      0      0      0     0     0     0       0       0      0   \n504569       1      0      0      0     0     0     0       0       0      0   \n1508636      1      0      0      0     0     0     0       0       0      0   \n...        ...    ...    ...    ...   ...   ...   ...     ...     ...    ...   \n1538         0      0      0      0     0     0     0       0       0      0   \n1682         0      0      0      0     0     0     0       0       0      0   \n2583         0      0      0      0     0     0     0       0       0      0   \n652208       0      0      0      0     0     0     0       0       0      0   \n652241       0      0      0      0     0     0     0       0       0      0   \n\n         ...  mazF  mex-5  recA  recB  recC  recD  rev  skn-1  trpn1  vif  \n1689     ...     0      0     0     0     0     0    0      0      0    0  \n489002   ...     0      0     0     0     0     0    0      0      0    0  \n504566   ...     0      0     0     0     0     0    0      0      0    0  \n504569   ...     0      0     0     0     0     0    0      0      0    0  \n1508636  ...     0      0     0     0     0     0    0      0      0    0  \n...      ...   ...    ...   ...   ...   ...   ...  ...    ...    ...  ...  \n1538     ...     0      0     0     0     0     0    0      0      1    0  \n1682     ...     0      0     0     0     0     0    0      0      1    0  \n2583     ...     0      0     0     0     0     0    0      0      1    0  \n652208   ...     0      0     0     0     0     0    0      0      0    1  \n652241   ...     0      0     0     0     0     0    0      0      0    1  \n\n[2050 rows x 442 columns]",
      "text/html": "<div>\n<style scoped>\n    .dataframe tbody tr th:only-of-type {\n        vertical-align: middle;\n    }\n\n    .dataframe tbody tr th {\n        vertical-align: top;\n    }\n\n    .dataframe thead th {\n        text-align: right;\n    }\n</style>\n<table border=\"1\" class=\"dataframe\">\n  <thead>\n    <tr style=\"text-align: right;\">\n      <th></th>\n      <th>ABCB1</th>\n      <th>ABCB6</th>\n      <th>ABCG2</th>\n      <th>ABHD5</th>\n      <th>ABL1</th>\n      <th>ACHE</th>\n      <th>ACP1</th>\n      <th>ADAM10</th>\n      <th>ADAM17</th>\n      <th>ADRB2</th>\n      <th>...</th>\n      <th>mazF</th>\n      <th>mex-5</th>\n      <th>recA</th>\n      <th>recB</th>\n      <th>recC</th>\n      <th>recD</th>\n      <th>rev</th>\n      <th>skn-1</th>\n      <th>trpn1</th>\n      <th>vif</th>\n    </tr>\n  </thead>\n  <tbody>\n    <tr>\n      <th>1689</th>\n      <td>1</td>\n      <td>0</td>\n      <td>0</td>\n      <td>0</td>\n      <td>0</td>\n      <td>0</td>\n      <td>0</td>\n      <td>0</td>\n      <td>0</td>\n      <td>0</td>\n      <td>...</td>\n      <td>0</td>\n      <td>0</td>\n      <td>0</td>\n      <td>0</td>\n      <td>0</td>\n      <td>0</td>\n      <td>0</td>\n      <td>0</td>\n      <td>0</td>\n      <td>0</td>\n    </tr>\n    <tr>\n      <th>489002</th>\n      <td>1</td>\n      <td>0</td>\n      <td>0</td>\n      <td>0</td>\n      <td>0</td>\n      <td>0</td>\n      <td>0</td>\n      <td>0</td>\n      <td>0</td>\n      <td>0</td>\n      <td>...</td>\n      <td>0</td>\n      <td>0</td>\n      <td>0</td>\n      <td>0</td>\n      <td>0</td>\n      <td>0</td>\n      <td>0</td>\n      <td>0</td>\n      <td>0</td>\n      <td>0</td>\n    </tr>\n    <tr>\n      <th>504566</th>\n      <td>1</td>\n      <td>0</td>\n      <td>0</td>\n      <td>0</td>\n      <td>0</td>\n      <td>0</td>\n      <td>0</td>\n      <td>0</td>\n      <td>0</td>\n      <td>0</td>\n      <td>...</td>\n      <td>0</td>\n      <td>0</td>\n      <td>0</td>\n      <td>0</td>\n      <td>0</td>\n      <td>0</td>\n      <td>0</td>\n      <td>0</td>\n      <td>0</td>\n      <td>0</td>\n    </tr>\n    <tr>\n      <th>504569</th>\n      <td>1</td>\n      <td>0</td>\n      <td>0</td>\n      <td>0</td>\n      <td>0</td>\n      <td>0</td>\n      <td>0</td>\n      <td>0</td>\n      <td>0</td>\n      <td>0</td>\n      <td>...</td>\n      <td>0</td>\n      <td>0</td>\n      <td>0</td>\n      <td>0</td>\n      <td>0</td>\n      <td>0</td>\n      <td>0</td>\n      <td>0</td>\n      <td>0</td>\n      <td>0</td>\n    </tr>\n    <tr>\n      <th>1508636</th>\n      <td>1</td>\n      <td>0</td>\n      <td>0</td>\n      <td>0</td>\n      <td>0</td>\n      <td>0</td>\n      <td>0</td>\n      <td>0</td>\n      <td>0</td>\n      <td>0</td>\n      <td>...</td>\n      <td>0</td>\n      <td>0</td>\n      <td>0</td>\n      <td>0</td>\n      <td>0</td>\n      <td>0</td>\n      <td>0</td>\n      <td>0</td>\n      <td>0</td>\n      <td>0</td>\n    </tr>\n    <tr>\n      <th>...</th>\n      <td>...</td>\n      <td>...</td>\n      <td>...</td>\n      <td>...</td>\n      <td>...</td>\n      <td>...</td>\n      <td>...</td>\n      <td>...</td>\n      <td>...</td>\n      <td>...</td>\n      <td>...</td>\n      <td>...</td>\n      <td>...</td>\n      <td>...</td>\n      <td>...</td>\n      <td>...</td>\n      <td>...</td>\n      <td>...</td>\n      <td>...</td>\n      <td>...</td>\n      <td>...</td>\n    </tr>\n    <tr>\n      <th>1538</th>\n      <td>0</td>\n      <td>0</td>\n      <td>0</td>\n      <td>0</td>\n      <td>0</td>\n      <td>0</td>\n      <td>0</td>\n      <td>0</td>\n      <td>0</td>\n      <td>0</td>\n      <td>...</td>\n      <td>0</td>\n      <td>0</td>\n      <td>0</td>\n      <td>0</td>\n      <td>0</td>\n      <td>0</td>\n      <td>0</td>\n      <td>0</td>\n      <td>1</td>\n      <td>0</td>\n    </tr>\n    <tr>\n      <th>1682</th>\n      <td>0</td>\n      <td>0</td>\n      <td>0</td>\n      <td>0</td>\n      <td>0</td>\n      <td>0</td>\n      <td>0</td>\n      <td>0</td>\n      <td>0</td>\n      <td>0</td>\n      <td>...</td>\n      <td>0</td>\n      <td>0</td>\n      <td>0</td>\n      <td>0</td>\n      <td>0</td>\n      <td>0</td>\n      <td>0</td>\n      <td>0</td>\n      <td>1</td>\n      <td>0</td>\n    </tr>\n    <tr>\n      <th>2583</th>\n      <td>0</td>\n      <td>0</td>\n      <td>0</td>\n      <td>0</td>\n      <td>0</td>\n      <td>0</td>\n      <td>0</td>\n      <td>0</td>\n      <td>0</td>\n      <td>0</td>\n      <td>...</td>\n      <td>0</td>\n      <td>0</td>\n      <td>0</td>\n      <td>0</td>\n      <td>0</td>\n      <td>0</td>\n      <td>0</td>\n      <td>0</td>\n      <td>1</td>\n      <td>0</td>\n    </tr>\n    <tr>\n      <th>652208</th>\n      <td>0</td>\n      <td>0</td>\n      <td>0</td>\n      <td>0</td>\n      <td>0</td>\n      <td>0</td>\n      <td>0</td>\n      <td>0</td>\n      <td>0</td>\n      <td>0</td>\n      <td>...</td>\n      <td>0</td>\n      <td>0</td>\n      <td>0</td>\n      <td>0</td>\n      <td>0</td>\n      <td>0</td>\n      <td>0</td>\n      <td>0</td>\n      <td>0</td>\n      <td>1</td>\n    </tr>\n    <tr>\n      <th>652241</th>\n      <td>0</td>\n      <td>0</td>\n      <td>0</td>\n      <td>0</td>\n      <td>0</td>\n      <td>0</td>\n      <td>0</td>\n      <td>0</td>\n      <td>0</td>\n      <td>0</td>\n      <td>...</td>\n      <td>0</td>\n      <td>0</td>\n      <td>0</td>\n      <td>0</td>\n      <td>0</td>\n      <td>0</td>\n      <td>0</td>\n      <td>0</td>\n      <td>0</td>\n      <td>1</td>\n    </tr>\n  </tbody>\n</table>\n<p>2050 rows × 442 columns</p>\n</div>"
     },
     "execution_count": 42,
     "metadata": {},
     "output_type": "execute_result"
    }
   ],
   "source": [
    "# create the F matrix\n",
    "\n",
    "F_matrix = pd.DataFrame(index=genes_aids.PUBCHEM_AID.unique().astype(int), columns=genes_aids.GeneSymbol.unique())\n",
    "\n",
    "for aop, aop_data in genes_aids.groupby('GeneSymbol'):\n",
    "    for aid in aop_data.PUBCHEM_AID.unique():\n",
    "        F_matrix.loc[aid, aop] = 1\n",
    "F_matrix = F_matrix.fillna(0)\n",
    "F_matrix\n"
   ],
   "metadata": {
    "collapsed": false,
    "pycharm": {
     "name": "#%%\n"
    }
   }
  },
  {
   "cell_type": "code",
   "execution_count": 43,
   "outputs": [],
   "source": [
    "frames = {}\n",
    "cids = []\n",
    "\n",
    "\n",
    "for cid, d in dfs.groupby('CID'):\n",
    "    training_wide = d.pivot(columns='log(Concentration)', index='AID', values='Response')\n",
    "    # fill missing data AIDs\n",
    "    training_wide = training_wide.reindex(F_matrix.index).fillna(0)\n",
    "    frames[cid] = training_wide\n",
    "    cids.append(cid)"
   ],
   "metadata": {
    "collapsed": false,
    "pycharm": {
     "name": "#%%\n"
    }
   }
  },
  {
   "cell_type": "code",
   "execution_count": 44,
   "outputs": [],
   "source": [
    "cr_responses = np.stack([frames[cas].values for cas in cids], axis=2)"
   ],
   "metadata": {
    "collapsed": false,
    "pycharm": {
     "name": "#%%\n"
    }
   }
  },
  {
   "cell_type": "code",
   "execution_count": 45,
   "outputs": [
    {
     "data": {
      "text/plain": "(2050, 45, 20573)"
     },
     "execution_count": 45,
     "metadata": {},
     "output_type": "execute_result"
    }
   ],
   "source": [
    "cr_responses.shape"
   ],
   "metadata": {
    "collapsed": false,
    "pycharm": {
     "name": "#%%\n"
    }
   }
  },
  {
   "cell_type": "code",
   "execution_count": 46,
   "outputs": [
    {
     "data": {
      "text/plain": "1689       0.0\n489002     0.0\n504566     0.0\n504569     0.0\n1508636    0.0\n          ... \n1538       0.0\n1682       0.0\n2583       0.0\n652208     0.0\n652241     0.0\nLength: 2050, dtype: float64"
     },
     "execution_count": 46,
     "metadata": {},
     "output_type": "execute_result"
    }
   ],
   "source": [
    "# check scales, will need to normalize to 0-1 eventually\n",
    "\n",
    "training_wide.max(1)"
   ],
   "metadata": {
    "collapsed": false,
    "pycharm": {
     "name": "#%%\n"
    }
   }
  },
  {
   "cell_type": "code",
   "execution_count": null,
   "outputs": [],
   "source": [
    "\n",
    "EPOCHS = 750\n",
    "STEPS = 100\n",
    "INITIAL_LR = 1\n",
    "GAMMA = 0.5\n",
    "\n",
    "F = torch.tensor(F_matrix.values, dtype=torch.float)\n",
    "R = torch.tensor(np.random.random(size=(F.shape[1], cr_responses.shape[1], cr_responses.shape[2])),\n",
    "                 dtype=torch.float, requires_grad=True)\n",
    "\n",
    "# R = torch.tensor(torch.clamp(R, min=0, max=1), requires_grad=True)\n",
    "\n",
    "\n",
    "y = torch.tensor(cr_responses)\n",
    "\n",
    "optimizer = optim.Adam([R], lr=INITIAL_LR)\n",
    "#scheduler = StepLR(optimizer, step_size=STEPS, gamma=0.9)\n",
    "scheduler = ReduceLROnPlateau(optimizer, factor=0.1, patience=50)"
   ],
   "metadata": {
    "collapsed": false,
    "pycharm": {
     "name": "#%%\n",
     "is_executing": true
    }
   }
  },
  {
   "cell_type": "code",
   "execution_count": null,
   "outputs": [],
   "source": [
    "losses = np.array([])\n",
    "\n",
    "for epoch in range(EPOCHS):\n",
    "    # model is y = FR\n",
    "    optimizer.zero_grad()\n",
    "    #R = torch.clamp(R, min=0, max=1)\n",
    "    model = torch.tensordot(F, R, dims=([1], [0]))\n",
    "\n",
    "\n",
    "    ss_term = torch.mean(torch.square(model - y))\n",
    "\n",
    "    x = torch.sum(R)\n",
    "    penalty_term = x ** 10 / (x ** 10 + 0.5 ** 10)\n",
    "\n",
    "    loss = ss_term + penalty_term\n",
    "    loss = ss_term\n",
    "\n",
    "    loss.backward()\n",
    "    optimizer.step()\n",
    "    losses = np.append(losses, loss.detach().numpy())\n",
    "#     if losses[-50:].var() < 0.1 and epoch>10:\n",
    "#         #print(\"Reducing LR...\")\n",
    "#         for g in optimizer.param_groups:\n",
    "#             g['lr'] = g['lr']*GAMMA\n",
    "    scheduler.step(loss)\n",
    "    if epoch % STEPS == 0:\n",
    "        print(loss)\n",
    "        print('Epoch-{0} lr: {1}'.format(epoch, optimizer.param_groups[0]['lr']))"
   ],
   "metadata": {
    "collapsed": false,
    "pycharm": {
     "name": "#%%\n",
     "is_executing": true
    }
   }
  },
  {
   "cell_type": "code",
   "execution_count": null,
   "outputs": [],
   "source": [
    "plt.plot(losses)\n",
    "plt.show()"
   ],
   "metadata": {
    "collapsed": false,
    "pycharm": {
     "name": "#%%\n",
     "is_executing": true
    }
   }
  },
  {
   "cell_type": "code",
   "execution_count": null,
   "outputs": [],
   "source": [],
   "metadata": {
    "collapsed": false,
    "pycharm": {
     "name": "#%%\n",
     "is_executing": true
    }
   }
  },
  {
   "cell_type": "code",
   "execution_count": null,
   "outputs": [],
   "source": [],
   "metadata": {
    "collapsed": false,
    "pycharm": {
     "name": "#%%\n",
     "is_executing": true
    }
   }
  },
  {
   "cell_type": "code",
   "execution_count": null,
   "outputs": [],
   "source": [
    "from curve_fitting import auc_score\n",
    "\n",
    "scores = R.detach().numpy()\n",
    "\n",
    "cmp_score_dic = {}\n",
    "\n",
    "for i, casnumber in enumerate(cids):\n",
    "    cmp_r_scores = pd.DataFrame(scores[:, :, i], index=F_matrix.columns, columns=np.log10(xs))\n",
    "    cmp_auc_scores = auc_score(cmp_r_scores)\n",
    "    cmp_score_dic[casnumber] = (cmp_r_scores, cmp_auc_scores)"
   ],
   "metadata": {
    "collapsed": false,
    "pycharm": {
     "name": "#%%\n",
     "is_executing": true
    }
   }
  },
  {
   "cell_type": "code",
   "execution_count": null,
   "outputs": [],
   "source": [
    "auc_score(cmp_r_scores)"
   ],
   "metadata": {
    "collapsed": false,
    "pycharm": {
     "name": "#%%\n",
     "is_executing": true
    }
   }
  },
  {
   "cell_type": "code",
   "execution_count": null,
   "outputs": [],
   "source": [
    "d = [cmp_score_dic[cas][1] for cas in cids]\n",
    "\n",
    "score_frame = pd.DataFrame(d, index=cids)"
   ],
   "metadata": {
    "collapsed": false,
    "pycharm": {
     "name": "#%%\n",
     "is_executing": true
    }
   }
  },
  {
   "cell_type": "code",
   "execution_count": null,
   "outputs": [],
   "source": [
    "score_frame"
   ],
   "metadata": {
    "collapsed": false,
    "pycharm": {
     "name": "#%%\n",
     "is_executing": true
    }
   }
  },
  {
   "cell_type": "code",
   "execution_count": null,
   "outputs": [],
   "source": [
    "score_frame_norm = score_frame.divide(score_frame.max()).fillna(0)\n",
    "\n",
    "scores_norm = scores.copy()\n",
    "\n",
    "for r in range(scores_norm.shape[0]):\n",
    "    scaler = scores[r, :, :].max()\n",
    "    if scaler != 0:\n",
    "        scores_norm[r, :, :] = scores_norm[r, :, :]*1/scaler\n",
    "\n",
    "cmp_score_norm_dic = {}\n",
    "\n",
    "for i, casnumber in enumerate(cids):\n",
    "    cmp_r_scores = pd.DataFrame(scores_norm[:, :, i], index=F_matrix.columns, columns=np.log10(xs))\n",
    "    cmp_score_norm_dic[casnumber] = cmp_r_scores"
   ],
   "metadata": {
    "collapsed": false,
    "pycharm": {
     "name": "#%%\n",
     "is_executing": true
    }
   }
  },
  {
   "cell_type": "code",
   "execution_count": null,
   "outputs": [],
   "source": [
    "ranked = score_frame_norm.sort_values('ESR1', ascending=False)\n",
    "ranked['ESR1_Rank'] = list(range(1, ranked.shape[0]+1))"
   ],
   "metadata": {
    "collapsed": false,
    "pycharm": {
     "name": "#%%\n",
     "is_executing": true
    }
   }
  },
  {
   "cell_type": "code",
   "execution_count": null,
   "outputs": [],
   "source": [
    "ax = sns.scatterplot(data=ranked, x='ESR1_Rank', y='ESR1', s=10)\n",
    "ax.axhline(0, ls='--', lw=2, color='r')"
   ],
   "metadata": {
    "collapsed": false,
    "pycharm": {
     "name": "#%%\n",
     "is_executing": true
    }
   }
  },
  {
   "cell_type": "code",
   "execution_count": null,
   "outputs": [],
   "source": [
    "ranked2 = score_frame_norm.sort_values('TP53', ascending=False)\n",
    "ranked2['TP53_Rank'] = list(range(1, ranked2.shape[0]+1))\n",
    "\n",
    "ax = sns.scatterplot(data=ranked2, x='TP53_Rank', y='TP53', s=10)\n",
    "ax.axhline(0, ls='--', lw=2, color='r')"
   ],
   "metadata": {
    "collapsed": false,
    "pycharm": {
     "name": "#%%\n",
     "is_executing": true
    }
   }
  },
  {
   "cell_type": "code",
   "execution_count": null,
   "outputs": [],
   "source": [
    "target_cid = ranked2.index[-1]\n",
    "target_cid"
   ],
   "metadata": {
    "collapsed": false,
    "pycharm": {
     "name": "#%%\n",
     "is_executing": true
    }
   }
  },
  {
   "cell_type": "code",
   "execution_count": null,
   "outputs": [],
   "source": [
    "ranked2"
   ],
   "metadata": {
    "collapsed": false,
    "pycharm": {
     "name": "#%%\n",
     "is_executing": true
    }
   }
  },
  {
   "cell_type": "code",
   "execution_count": null,
   "outputs": [],
   "source": [
    "target = TARGETS[1]\n",
    "data = dfs.query(f'CID == {target_cid} and Target == \"{target}\"').pivot(columns='log(Concentration)', index='AID', values='Response').T\n",
    "sns.lineplot(data=data, palette='Accent')\n",
    "plt.legend(bbox_to_anchor=(1.02, 1), loc='upper left', borderaxespad=0)\n",
    "plt.title(f\"Avg. Dose Responses for\\nTarget {target} and CID {target_cid}\")"
   ],
   "metadata": {
    "collapsed": false,
    "pycharm": {
     "name": "#%%\n",
     "is_executing": true
    }
   }
  },
  {
   "cell_type": "code",
   "execution_count": null,
   "outputs": [],
   "source": [
    "r = cmp_score_norm_dic[target_cid].T\n",
    "r.head()"
   ],
   "metadata": {
    "collapsed": false,
    "pycharm": {
     "name": "#%%\n",
     "is_executing": true
    }
   }
  },
  {
   "cell_type": "code",
   "execution_count": null,
   "outputs": [],
   "source": [
    "\n",
    "\n",
    "sns.lineplot(data=r, palette='Accent')\n",
    "plt.legend(bbox_to_anchor=(1.02, 1), loc='upper left', borderaxespad=0)\n",
    "plt.title(f\"AOP Curve for\\nTarget {target} and CID {target_cid}\")"
   ],
   "metadata": {
    "collapsed": false,
    "pycharm": {
     "name": "#%%\n",
     "is_executing": true
    }
   }
  },
  {
   "cell_type": "code",
   "execution_count": null,
   "outputs": [],
   "source": [
    "\n",
    "target_cid"
   ],
   "metadata": {
    "collapsed": false,
    "pycharm": {
     "name": "#%%\n",
     "is_executing": true
    }
   }
  },
  {
   "cell_type": "code",
   "execution_count": null,
   "outputs": [],
   "source": [
    "score_frame_norm.loc[target_cid]"
   ],
   "metadata": {
    "collapsed": false,
    "pycharm": {
     "name": "#%%\n",
     "is_executing": true
    }
   }
  },
  {
   "cell_type": "code",
   "execution_count": null,
   "outputs": [],
   "source": [
    "auc_score(r.T)"
   ],
   "metadata": {
    "collapsed": false,
    "pycharm": {
     "name": "#%%\n",
     "is_executing": true
    }
   }
  },
  {
   "cell_type": "code",
   "execution_count": null,
   "outputs": [],
   "source": [
    "score_frame.max()"
   ],
   "metadata": {
    "collapsed": false,
    "pycharm": {
     "name": "#%%\n",
     "is_executing": true
    }
   }
  },
  {
   "cell_type": "code",
   "execution_count": null,
   "outputs": [],
   "source": [
    "-0.029  * (1 / 14)"
   ],
   "metadata": {
    "collapsed": false,
    "pycharm": {
     "name": "#%%\n",
     "is_executing": true
    }
   }
  },
  {
   "cell_type": "code",
   "execution_count": null,
   "outputs": [],
   "source": [
    "np.sign(r.T.diff(axis=1))"
   ],
   "metadata": {
    "collapsed": false,
    "pycharm": {
     "name": "#%%\n",
     "is_executing": true
    }
   }
  },
  {
   "cell_type": "code",
   "execution_count": null,
   "outputs": [],
   "source": [
    "r.T.sum(axis=1)"
   ],
   "metadata": {
    "collapsed": false,
    "pycharm": {
     "name": "#%%\n",
     "is_executing": true
    }
   }
  },
  {
   "cell_type": "code",
   "execution_count": null,
   "outputs": [],
   "source": [],
   "metadata": {
    "collapsed": false,
    "pycharm": {
     "name": "#%%\n",
     "is_executing": true
    }
   }
  },
  {
   "cell_type": "code",
   "execution_count": null,
   "outputs": [],
   "source": [
    "signss = cmp_r_scores.diff(axis=1)\n",
    "np.sign(cmp_r_scores.sum(1))"
   ],
   "metadata": {
    "collapsed": false,
    "pycharm": {
     "name": "#%%\n",
     "is_executing": true
    }
   }
  },
  {
   "cell_type": "code",
   "execution_count": null,
   "outputs": [],
   "source": [
    "cmp_r_scores.diff(axis=1)"
   ],
   "metadata": {
    "collapsed": false,
    "pycharm": {
     "name": "#%%\n",
     "is_executing": true
    }
   }
  },
  {
   "cell_type": "code",
   "execution_count": null,
   "outputs": [],
   "source": [
    "-1 - 1"
   ],
   "metadata": {
    "collapsed": false,
    "pycharm": {
     "name": "#%%\n",
     "is_executing": true
    }
   }
  },
  {
   "cell_type": "code",
   "execution_count": null,
   "outputs": [],
   "source": [
    "sns.lineplot(data=cmp_r_scores.T)"
   ],
   "metadata": {
    "collapsed": false,
    "pycharm": {
     "name": "#%%\n",
     "is_executing": true
    }
   }
  },
  {
   "cell_type": "code",
   "execution_count": null,
   "outputs": [],
   "source": [
    "sns.lineplot(data=r)"
   ],
   "metadata": {
    "collapsed": false,
    "pycharm": {
     "name": "#%%\n",
     "is_executing": true
    }
   }
  },
  {
   "cell_type": "code",
   "execution_count": null,
   "outputs": [],
   "source": [],
   "metadata": {
    "collapsed": false,
    "pycharm": {
     "name": "#%%\n",
     "is_executing": true
    }
   }
  }
 ],
 "metadata": {
  "kernelspec": {
   "display_name": "Python 3",
   "language": "python",
   "name": "python3"
  },
  "language_info": {
   "codemirror_mode": {
    "name": "ipython",
    "version": 2
   },
   "file_extension": ".py",
   "mimetype": "text/x-python",
   "name": "python",
   "nbconvert_exporter": "python",
   "pygments_lexer": "ipython2",
   "version": "2.7.6"
  }
 },
 "nbformat": 4,
 "nbformat_minor": 0
}