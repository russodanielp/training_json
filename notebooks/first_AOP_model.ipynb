{
 "cells": [
  {
   "cell_type": "markdown",
   "source": [
    "# Model AOPs\n",
    "\n",
    "First attempt at modeling AOPs.  For not will now use hill curves because the data is very noisy and don't know how\n",
    "to assess goodness-of-fit.\n",
    "\n",
    "Instead a simple approach could be done as follows\n",
    "\n",
    "1) get chemical response data for target\n",
    "2) use curveP to correct noise and establish monotonicity\n",
    "3) put all concentrations on same scale\n",
    "\n",
    "Imports..."
   ],
   "metadata": {
    "collapsed": false,
    "pycharm": {
     "name": "#%% md\n"
    }
   }
  },
  {
   "cell_type": "code",
   "execution_count": null,
   "outputs": [],
   "source": [
    "import pandas as pd\n",
    "import config\n",
    "import seaborn as sns\n",
    "import numpy as np\n",
    "from curvep import curveP, CONCLIST\n",
    "import matplotlib.pyplot as plt\n",
    "import torch\n",
    "import torch.optim as optim\n",
    "from torch.optim.lr_scheduler import StepLR, ReduceLROnPlateau\n",
    "\n",
    "\n",
    "sns.set(style=\"ticks\", context=\"talk\")\n",
    "plt.style.use(\"dark_background\")\n",
    "\n"
   ],
   "metadata": {
    "collapsed": false,
    "pycharm": {
     "name": "#%%\n"
    }
   }
  },
  {
   "cell_type": "markdown",
   "source": [
    "### Get data\n",
    "\n",
    "First get all the AIDs associated with a set of targets.\n",
    "\n",
    "This part can be modified once its decided how assays will be grouped.  E.g, here ESR1, ESR2 will represent two different AOPs, pathways, etc."
   ],
   "metadata": {
    "collapsed": false,
    "pycharm": {
     "name": "#%% md\n"
    }
   }
  },
  {
   "cell_type": "code",
   "execution_count": null,
   "outputs": [
    {
     "name": "stdout",
     "output_type": "stream",
     "text": [
      "      SID  AID    conc    resp      CID\n",
      "0  842142  713  1.5625   1.160  5770444\n",
      "1  842142  713  1.5625  83.107  5770444\n",
      "2  842142  713  3.1250   1.040  5770444\n",
      "3  842142  713  3.1250  66.953  5770444\n",
      "4  842142  713  6.2500   1.130  5770444\n"
     ]
    }
   ],
   "source": [
    "# get AIDs associated with target\n",
    "TARGETS = ['ESR1', 'ESR2']\n",
    "TARGETS_STR_LIST = [\"\\'\" + t + \"\\'\" for t in TARGETS]\n",
    "TARGETS_STR = \", \".join(map(str, TARGETS_STR_LIST))\n",
    "targets_array = f'({TARGETS_STR})'\n",
    "\n",
    "# get assays that belong to a particular\n",
    "# target\n",
    "query = 'SELECT tG.PUBCHEM_AID, tG.GeneSymbol ' \\\n",
    "        'FROM targets tG ' \\\n",
    "        'WHERE GeneSymbol in {}' \\\n",
    "        ''.format(targets_array)\n",
    "\n",
    "genes_aids = pd.read_sql_query(query, con=config.Config.DB_URI)\n",
    "\n",
    "# get active compounds in AIDS\n",
    "\n",
    "aid_list = [str(aid)for aid in genes_aids.PUBCHEM_AID]\n",
    "\n",
    "aid_string = \", \".join(map(str, aid_list))\n",
    "aid_query = f'({aid_string})'\n",
    "\n",
    "actives_query = 'SELECT c.PUBCHEM_CID as CID, c.PUBCHEM_AID as AID, c.PUBCHEM_SID as SID ' \\\n",
    "                'FROM concise c ' \\\n",
    "                'WHERE c.PUBCHEM_AID in {} AND c.PUBCHEM_ACTIVITY_OUTCOME == \"Active\" AND ' \\\n",
    "                'c.PUBCHEM_CID is not null AND c.PUBCHEM_SID is not null'.format(aid_query)\n",
    "\n",
    "active_cmps = pd.read_sql_query(actives_query, con=config.Config.DB_URI)\n",
    "active_cmps['SID'] = active_cmps['SID'].astype(int)\n",
    "\n",
    "sid_list = [str(sid)for sid in active_cmps.SID]\n",
    "\n",
    "sid_string = \", \".join(map(str, sid_list))\n",
    "sid_query = f'({sid_string})'\n",
    "\n",
    "dr_query = 'SELECT  SID, AID, concentration as conc, response as resp ' \\\n",
    "                'FROM dose_response ' \\\n",
    "                'WHERE AID in {} AND SID in {} '.format(aid_query, sid_query)\n",
    "\n",
    "dose_responses = pd.read_sql_query(dr_query, con=config.Config.DB_URI)\n",
    "\n",
    "# this merge is necessary because\n",
    "# the former query gathers all data\n",
    "# for all sid and aid that have any active cmps\n",
    "# not just the pairs of active sid, aid\n",
    "# could be solved by a SQLite join, but\n",
    "# right now takes too long\n",
    "dr_merged = pd.merge(dose_responses, active_cmps[['SID', 'CID', 'AID']].drop_duplicates(['SID', 'CID', 'AID']), on=['SID', 'AID'])\n",
    "print(dr_merged.head())\n",
    "\n"
   ],
   "metadata": {
    "collapsed": false,
    "pycharm": {
     "name": "#%%\n"
    }
   }
  },
  {
   "cell_type": "markdown",
   "source": [
    "One of the first attempts at standardizing different concentrations between assays is \"binning\" concentrations by rounding to two decimals.  This is important at least because some assays report concentrations with high preciesion....in order to responses that different by decimals..."
   ],
   "metadata": {
    "collapsed": false,
    "pycharm": {
     "name": "#%% md\n"
    }
   }
  },
  {
   "cell_type": "code",
   "execution_count": null,
   "outputs": [
    {
     "data": {
      "text/plain": "   AID   CID  log(conc)     resp\n0  713  2406       0.19  39.6215\n1  713  2406       0.49  29.6565\n2  713  2406       0.80  17.5800\n3  713  2406       1.10   0.0000\n4  713  2406       1.40   0.0000",
      "text/html": "<div>\n<style scoped>\n    .dataframe tbody tr th:only-of-type {\n        vertical-align: middle;\n    }\n\n    .dataframe tbody tr th {\n        vertical-align: top;\n    }\n\n    .dataframe thead th {\n        text-align: right;\n    }\n</style>\n<table border=\"1\" class=\"dataframe\">\n  <thead>\n    <tr style=\"text-align: right;\">\n      <th></th>\n      <th>AID</th>\n      <th>CID</th>\n      <th>log(conc)</th>\n      <th>resp</th>\n    </tr>\n  </thead>\n  <tbody>\n    <tr>\n      <th>0</th>\n      <td>713</td>\n      <td>2406</td>\n      <td>0.19</td>\n      <td>39.6215</td>\n    </tr>\n    <tr>\n      <th>1</th>\n      <td>713</td>\n      <td>2406</td>\n      <td>0.49</td>\n      <td>29.6565</td>\n    </tr>\n    <tr>\n      <th>2</th>\n      <td>713</td>\n      <td>2406</td>\n      <td>0.80</td>\n      <td>17.5800</td>\n    </tr>\n    <tr>\n      <th>3</th>\n      <td>713</td>\n      <td>2406</td>\n      <td>1.10</td>\n      <td>0.0000</td>\n    </tr>\n    <tr>\n      <th>4</th>\n      <td>713</td>\n      <td>2406</td>\n      <td>1.40</td>\n      <td>0.0000</td>\n    </tr>\n  </tbody>\n</table>\n</div>"
     },
     "execution_count": 4,
     "metadata": {},
     "output_type": "execute_result"
    }
   ],
   "source": [
    "dr_merged['log(conc)'] = np.log10(dr_merged.conc)\n",
    "\n",
    "dr_merged['log(conc)'] = dr_merged['log(conc)'].round(2)\n",
    "\n",
    "# average multiple responses per concentration\n",
    "# then apply curveP to correct points\n",
    "response_avg = dr_merged.groupby(['AID', 'CID', 'log(conc)'])['resp'].mean().reset_index()\n",
    "response_avg_corrected = response_avg.groupby(['AID', 'CID']).apply(curveP).reset_index(drop=True)\n",
    "response_avg_corrected.head()"
   ],
   "metadata": {
    "collapsed": false,
    "pycharm": {
     "name": "#%%\n"
    }
   }
  },
  {
   "cell_type": "markdown",
   "source": [
    "The second part of standardizing concentrations between assays involved putting them all on the same scale.\n",
    "\n",
    "The way this is currently behind handled is using the 45 different concentrations ToxCast/Tox21 assays were tested for each compound.  If a chemical wasn't tested at that concentration just impute with the closet smaller concentration.\n",
    "\n",
    "If we do hill modeling, this would be uneccesary."
   ],
   "metadata": {
    "collapsed": false,
    "pycharm": {
     "name": "#%% md\n"
    }
   }
  },
  {
   "cell_type": "code",
   "execution_count": null,
   "outputs": [
    {
     "data": {
      "text/plain": "   log(conc)  resp  AID   CID\n0      -6.00   0.0  713  2406\n1      -5.57   0.0  713  2406\n2      -5.40   0.0  713  2406\n3      -5.22   0.0  713  2406\n4      -5.04   0.0  713  2406",
      "text/html": "<div>\n<style scoped>\n    .dataframe tbody tr th:only-of-type {\n        vertical-align: middle;\n    }\n\n    .dataframe tbody tr th {\n        vertical-align: top;\n    }\n\n    .dataframe thead th {\n        text-align: right;\n    }\n</style>\n<table border=\"1\" class=\"dataframe\">\n  <thead>\n    <tr style=\"text-align: right;\">\n      <th></th>\n      <th>log(conc)</th>\n      <th>resp</th>\n      <th>AID</th>\n      <th>CID</th>\n    </tr>\n  </thead>\n  <tbody>\n    <tr>\n      <th>0</th>\n      <td>-6.00</td>\n      <td>0.0</td>\n      <td>713</td>\n      <td>2406</td>\n    </tr>\n    <tr>\n      <th>1</th>\n      <td>-5.57</td>\n      <td>0.0</td>\n      <td>713</td>\n      <td>2406</td>\n    </tr>\n    <tr>\n      <th>2</th>\n      <td>-5.40</td>\n      <td>0.0</td>\n      <td>713</td>\n      <td>2406</td>\n    </tr>\n    <tr>\n      <th>3</th>\n      <td>-5.22</td>\n      <td>0.0</td>\n      <td>713</td>\n      <td>2406</td>\n    </tr>\n    <tr>\n      <th>4</th>\n      <td>-5.04</td>\n      <td>0.0</td>\n      <td>713</td>\n      <td>2406</td>\n    </tr>\n  </tbody>\n</table>\n</div>"
     },
     "execution_count": 5,
     "metadata": {},
     "output_type": "execute_result"
    }
   ],
   "source": [
    "# put all concentrations on same scale\n",
    "scaled_data = []\n",
    "scaled_concentrations = pd.Index(np.round(np.log10(CONCLIST), 2))\n",
    "scaled_concentrations.name = 'log(conc)'\n",
    "\n",
    "response_avg_corrected = response_avg_corrected.sort_values(['AID', 'CID', 'log(conc)'])\n",
    "for gp, data in response_avg_corrected.groupby(['AID', 'CID']):\n",
    "    new_data = data[['log(conc)', 'resp']].set_index('log(conc)').drop_duplicates()\n",
    "\n",
    "    new_data = new_data.reindex( scaled_concentrations, method='ffill' ).fillna(0)\n",
    "    new_data['AID'] = gp[0]\n",
    "    new_data['CID'] = gp[1]\n",
    "    scaled_data.append(new_data.reset_index())\n",
    "\n",
    "scaled_data = pd.concat(scaled_data)\n",
    "\n",
    "# use curveP one more time\n",
    "\n",
    "scaled_data_corrected = scaled_data.groupby(['AID', 'CID']).apply(curveP).reset_index(drop=True)\n",
    "\n",
    "scaled_data_corrected.head()"
   ],
   "metadata": {
    "collapsed": false,
    "pycharm": {
     "name": "#%%\n"
    }
   }
  },
  {
   "cell_type": "markdown",
   "source": [
    "Now, create an example model just using one compound....\n",
    "\n",
    "This can be extended to create models for $n$ compounds when ready..."
   ],
   "metadata": {
    "collapsed": false,
    "pycharm": {
     "name": "#%% md\n"
    }
   }
  },
  {
   "cell_type": "code",
   "execution_count": 19,
   "outputs": [],
   "source": [
    "counts = scaled_data_corrected.groupby('CID')['AID'].nunique().sort_values()\n",
    "\n",
    "scaled_data_corrected = scaled_data_corrected.merge(genes_aids.rename(columns={'PUBCHEM_AID': 'AID', 'GeneSymbol': 'Target'}))\n",
    "\n",
    "example_cid = 73864\n",
    "\n",
    "training_data = scaled_data_corrected.query(f\"CID == {example_cid}\")"
   ],
   "metadata": {
    "collapsed": false,
    "pycharm": {
     "name": "#%%\n"
    }
   }
  },
  {
   "cell_type": "code",
   "execution_count": 20,
   "outputs": [
    {
     "data": {
      "text/plain": "        log(conc)       resp      AID    CID Target\n25110       -6.00   0.000000   588513  73864   ESR1\n25111       -5.57   0.000000   588513  73864   ESR1\n25112       -5.40   0.000000   588513  73864   ESR1\n25113       -5.22   0.000000   588513  73864   ESR1\n25114       -5.04   0.000000   588513  73864   ESR1\n...           ...        ...      ...    ...    ...\n181435       1.30  64.641900  1259383  73864   ESR1\n181436       1.47  64.641900  1259383  73864   ESR1\n181437       1.65  70.329344  1259383  73864   ESR1\n181438       1.82  70.329344  1259383  73864   ESR1\n181439       2.00  70.329344  1259383  73864   ESR1\n\n[405 rows x 5 columns]",
      "text/html": "<div>\n<style scoped>\n    .dataframe tbody tr th:only-of-type {\n        vertical-align: middle;\n    }\n\n    .dataframe tbody tr th {\n        vertical-align: top;\n    }\n\n    .dataframe thead th {\n        text-align: right;\n    }\n</style>\n<table border=\"1\" class=\"dataframe\">\n  <thead>\n    <tr style=\"text-align: right;\">\n      <th></th>\n      <th>log(conc)</th>\n      <th>resp</th>\n      <th>AID</th>\n      <th>CID</th>\n      <th>Target</th>\n    </tr>\n  </thead>\n  <tbody>\n    <tr>\n      <th>25110</th>\n      <td>-6.00</td>\n      <td>0.000000</td>\n      <td>588513</td>\n      <td>73864</td>\n      <td>ESR1</td>\n    </tr>\n    <tr>\n      <th>25111</th>\n      <td>-5.57</td>\n      <td>0.000000</td>\n      <td>588513</td>\n      <td>73864</td>\n      <td>ESR1</td>\n    </tr>\n    <tr>\n      <th>25112</th>\n      <td>-5.40</td>\n      <td>0.000000</td>\n      <td>588513</td>\n      <td>73864</td>\n      <td>ESR1</td>\n    </tr>\n    <tr>\n      <th>25113</th>\n      <td>-5.22</td>\n      <td>0.000000</td>\n      <td>588513</td>\n      <td>73864</td>\n      <td>ESR1</td>\n    </tr>\n    <tr>\n      <th>25114</th>\n      <td>-5.04</td>\n      <td>0.000000</td>\n      <td>588513</td>\n      <td>73864</td>\n      <td>ESR1</td>\n    </tr>\n    <tr>\n      <th>...</th>\n      <td>...</td>\n      <td>...</td>\n      <td>...</td>\n      <td>...</td>\n      <td>...</td>\n    </tr>\n    <tr>\n      <th>181435</th>\n      <td>1.30</td>\n      <td>64.641900</td>\n      <td>1259383</td>\n      <td>73864</td>\n      <td>ESR1</td>\n    </tr>\n    <tr>\n      <th>181436</th>\n      <td>1.47</td>\n      <td>64.641900</td>\n      <td>1259383</td>\n      <td>73864</td>\n      <td>ESR1</td>\n    </tr>\n    <tr>\n      <th>181437</th>\n      <td>1.65</td>\n      <td>70.329344</td>\n      <td>1259383</td>\n      <td>73864</td>\n      <td>ESR1</td>\n    </tr>\n    <tr>\n      <th>181438</th>\n      <td>1.82</td>\n      <td>70.329344</td>\n      <td>1259383</td>\n      <td>73864</td>\n      <td>ESR1</td>\n    </tr>\n    <tr>\n      <th>181439</th>\n      <td>2.00</td>\n      <td>70.329344</td>\n      <td>1259383</td>\n      <td>73864</td>\n      <td>ESR1</td>\n    </tr>\n  </tbody>\n</table>\n<p>405 rows × 5 columns</p>\n</div>"
     },
     "execution_count": 20,
     "metadata": {},
     "output_type": "execute_result"
    }
   ],
   "source": [
    "training_data"
   ],
   "metadata": {
    "collapsed": false,
    "pycharm": {
     "name": "#%%\n"
    }
   }
  },
  {
   "cell_type": "code",
   "execution_count": 26,
   "outputs": [
    {
     "data": {
      "text/plain": "Text(0.5, 1.0, 'Avg. Dose Responses for\\nTarget ESR2 and CID 73864')"
     },
     "execution_count": 26,
     "metadata": {},
     "output_type": "execute_result"
    },
    {
     "data": {
      "text/plain": "<Figure size 432x288 with 1 Axes>",
      "image/png": "[encoded data removed]"
     },
     "metadata": {},
     "output_type": "display_data"
    }
   ],
   "source": [
    "#sns.scatterplot(data=training_data, x='log(conc)', y='resp', hue='AID', legend=False, palette='Accent')\n",
    "\n",
    "target = TARGETS[1]\n",
    "sns.lineplot(data=training_data.query(f'Target == \"{target}\"'), x='log(conc)', y='resp', hue='AID', palette='Accent')\n",
    "plt.legend(bbox_to_anchor=(1.02, 1), loc='upper left', borderaxespad=0)\n",
    "plt.title(f\"Avg. Dose Responses for\\nTarget {target} and CID {example_cid}\")"
   ],
   "metadata": {
    "collapsed": false,
    "pycharm": {
     "name": "#%%\n"
    }
   }
  },
  {
   "cell_type": "code",
   "execution_count": 27,
   "outputs": [
    {
     "data": {
      "text/plain": "         ESR1  ESR2\n713         1     0\n737         1     0\n1078        1     0\n1079        1     0\n1223        1     0\n588513      1     0\n588514      1     0\n743069      1     0\n743075      1     0\n743079      1     0\n743080      1     0\n1259244     1     0\n1259383     1     0\n733         0     1\n1060        0     1\n1221        0     1\n1259377     0     1\n1259378     0     1",
      "text/html": "<div>\n<style scoped>\n    .dataframe tbody tr th:only-of-type {\n        vertical-align: middle;\n    }\n\n    .dataframe tbody tr th {\n        vertical-align: top;\n    }\n\n    .dataframe thead th {\n        text-align: right;\n    }\n</style>\n<table border=\"1\" class=\"dataframe\">\n  <thead>\n    <tr style=\"text-align: right;\">\n      <th></th>\n      <th>ESR1</th>\n      <th>ESR2</th>\n    </tr>\n  </thead>\n  <tbody>\n    <tr>\n      <th>713</th>\n      <td>1</td>\n      <td>0</td>\n    </tr>\n    <tr>\n      <th>737</th>\n      <td>1</td>\n      <td>0</td>\n    </tr>\n    <tr>\n      <th>1078</th>\n      <td>1</td>\n      <td>0</td>\n    </tr>\n    <tr>\n      <th>1079</th>\n      <td>1</td>\n      <td>0</td>\n    </tr>\n    <tr>\n      <th>1223</th>\n      <td>1</td>\n      <td>0</td>\n    </tr>\n    <tr>\n      <th>588513</th>\n      <td>1</td>\n      <td>0</td>\n    </tr>\n    <tr>\n      <th>588514</th>\n      <td>1</td>\n      <td>0</td>\n    </tr>\n    <tr>\n      <th>743069</th>\n      <td>1</td>\n      <td>0</td>\n    </tr>\n    <tr>\n      <th>743075</th>\n      <td>1</td>\n      <td>0</td>\n    </tr>\n    <tr>\n      <th>743079</th>\n      <td>1</td>\n      <td>0</td>\n    </tr>\n    <tr>\n      <th>743080</th>\n      <td>1</td>\n      <td>0</td>\n    </tr>\n    <tr>\n      <th>1259244</th>\n      <td>1</td>\n      <td>0</td>\n    </tr>\n    <tr>\n      <th>1259383</th>\n      <td>1</td>\n      <td>0</td>\n    </tr>\n    <tr>\n      <th>733</th>\n      <td>0</td>\n      <td>1</td>\n    </tr>\n    <tr>\n      <th>1060</th>\n      <td>0</td>\n      <td>1</td>\n    </tr>\n    <tr>\n      <th>1221</th>\n      <td>0</td>\n      <td>1</td>\n    </tr>\n    <tr>\n      <th>1259377</th>\n      <td>0</td>\n      <td>1</td>\n    </tr>\n    <tr>\n      <th>1259378</th>\n      <td>0</td>\n      <td>1</td>\n    </tr>\n  </tbody>\n</table>\n</div>"
     },
     "execution_count": 27,
     "metadata": {},
     "output_type": "execute_result"
    }
   ],
   "source": [
    "# create the F matrix\n",
    "\n",
    "F_matrix = pd.DataFrame(index=genes_aids.PUBCHEM_AID.unique().astype(int), columns=genes_aids.GeneSymbol.unique())\n",
    "\n",
    "for aop, aop_data in genes_aids.groupby('GeneSymbol'):\n",
    "    for aid in aop_data.PUBCHEM_AID.unique():\n",
    "        F_matrix.loc[aid, aop] = 1\n",
    "F_matrix = F_matrix.fillna(0)\n",
    "F_matrix\n"
   ],
   "metadata": {
    "collapsed": false,
    "pycharm": {
     "name": "#%%\n"
    }
   }
  },
  {
   "cell_type": "code",
   "execution_count": 28,
   "outputs": [
    {
     "data": {
      "text/plain": "(9, 45)"
     },
     "execution_count": 28,
     "metadata": {},
     "output_type": "execute_result"
    }
   ],
   "source": [
    "training_wide = training_data.pivot(columns='log(conc)', index='AID', values='resp')\n",
    "training_wide.shape"
   ],
   "metadata": {
    "collapsed": false,
    "pycharm": {
     "name": "#%%\n"
    }
   }
  },
  {
   "cell_type": "code",
   "execution_count": 29,
   "outputs": [],
   "source": [
    "# fill missing data AIDs\n",
    "training_wide = training_wide.reindex(F_matrix.index).fillna(0)"
   ],
   "metadata": {
    "collapsed": false,
    "pycharm": {
     "name": "#%%\n"
    }
   }
  },
  {
   "cell_type": "code",
   "execution_count": 30,
   "outputs": [
    {
     "data": {
      "text/plain": "713         0.000000\n737         0.000000\n1078        0.000000\n1079        0.000000\n1223        0.000000\n588513      0.000000\n588514     67.011800\n743069      0.000000\n743075     21.066041\n743079     85.737800\n743080      0.000000\n1259244     0.000000\n1259383    70.329344\n733         0.000000\n1060        0.000000\n1221        0.000000\n1259377     0.000000\n1259378     0.000000\ndtype: float64"
     },
     "execution_count": 30,
     "metadata": {},
     "output_type": "execute_result"
    }
   ],
   "source": [
    "# check scales, will need to normalize to 0-1 eventually\n",
    "\n",
    "training_wide.max(1)"
   ],
   "metadata": {
    "collapsed": false,
    "pycharm": {
     "name": "#%%\n"
    }
   }
  },
  {
   "cell_type": "code",
   "execution_count": 31,
   "outputs": [],
   "source": [
    "\n",
    "EPOCHS = 750\n",
    "STEPS = 100\n",
    "INITIAL_LR = 1\n",
    "GAMMA = 0.5\n",
    "\n",
    "F = torch.tensor(F_matrix.values, dtype=torch.float)\n",
    "R = torch.tensor(np.random.random(size=(F.shape[1], training_wide.shape[1])),\n",
    "                 dtype=torch.float, requires_grad=True)\n",
    "\n",
    "# R = torch.tensor(torch.clamp(R, min=0, max=1), requires_grad=True)\n",
    "\n",
    "\n",
    "y = torch.tensor(training_wide.values)\n",
    "\n",
    "optimizer = optim.Adam([R], lr=INITIAL_LR)\n",
    "#scheduler = StepLR(optimizer, step_size=STEPS, gamma=0.9)\n",
    "scheduler = ReduceLROnPlateau(optimizer, factor=0.1, patience=50)"
   ],
   "metadata": {
    "collapsed": false,
    "pycharm": {
     "name": "#%%\n"
    }
   }
  },
  {
   "cell_type": "code",
   "execution_count": 32,
   "outputs": [
    {
     "name": "stdout",
     "output_type": "stream",
     "text": [
      "tensor(233.8789, dtype=torch.float64, grad_fn=<MeanBackward0>)\n",
      "Epoch-0 lr: 1\n",
      "tensor(208.7584, dtype=torch.float64, grad_fn=<MeanBackward0>)\n",
      "Epoch-100 lr: 1\n",
      "tensor(208.7581, dtype=torch.float64, grad_fn=<MeanBackward0>)\n",
      "Epoch-200 lr: 0.010000000000000002\n",
      "tensor(208.7581, dtype=torch.float64, grad_fn=<MeanBackward0>)\n",
      "Epoch-300 lr: 0.00010000000000000003\n",
      "tensor(208.7581, dtype=torch.float64, grad_fn=<MeanBackward0>)\n",
      "Epoch-400 lr: 1.0000000000000004e-06\n",
      "tensor(208.7581, dtype=torch.float64, grad_fn=<MeanBackward0>)\n",
      "Epoch-500 lr: 1.0000000000000005e-08\n",
      "tensor(208.7581, dtype=torch.float64, grad_fn=<MeanBackward0>)\n",
      "Epoch-600 lr: 1.0000000000000005e-08\n",
      "tensor(208.7581, dtype=torch.float64, grad_fn=<MeanBackward0>)\n",
      "Epoch-700 lr: 1.0000000000000005e-08\n"
     ]
    }
   ],
   "source": [
    "losses = np.array([])\n",
    "\n",
    "for epoch in range(EPOCHS):\n",
    "    # model is y = FR\n",
    "    optimizer.zero_grad()\n",
    "    #R = torch.clamp(R, min=0, max=1)\n",
    "    model = torch.tensordot(F, R, dims=([1], [0]))\n",
    "\n",
    "\n",
    "    ss_term = torch.mean(torch.square(model - y))\n",
    "\n",
    "    x = torch.sum(R)\n",
    "    penalty_term = x ** 10 / (x ** 10 + 0.5 ** 10)\n",
    "\n",
    "    loss = ss_term + penalty_term\n",
    "    loss = ss_term\n",
    "\n",
    "    loss.backward()\n",
    "    optimizer.step()\n",
    "    losses = np.append(losses, loss.detach().numpy())\n",
    "#     if losses[-50:].var() < 0.1 and epoch>10:\n",
    "#         #print(\"Reducing LR...\")\n",
    "#         for g in optimizer.param_groups:\n",
    "#             g['lr'] = g['lr']*GAMMA\n",
    "    scheduler.step(loss)\n",
    "    if epoch % STEPS == 0:\n",
    "        print(loss)\n",
    "        print('Epoch-{0} lr: {1}'.format(epoch, optimizer.param_groups[0]['lr']))"
   ],
   "metadata": {
    "collapsed": false,
    "pycharm": {
     "name": "#%%\n"
    }
   }
  },
  {
   "cell_type": "code",
   "execution_count": 33,
   "outputs": [
    {
     "data": {
      "text/plain": "<Figure size 432x288 with 1 Axes>",
      "image/png": "[encoded data removed]"
     },
     "metadata": {},
     "output_type": "display_data"
    }
   ],
   "source": [
    "plt.plot(losses)\n",
    "plt.show()"
   ],
   "metadata": {
    "collapsed": false,
    "pycharm": {
     "name": "#%%\n"
    }
   }
  },
  {
   "cell_type": "code",
   "execution_count": 40,
   "outputs": [
    {
     "data": {
      "text/plain": "<Figure size 432x288 with 1 Axes>",
      "image/png": "[encoded data removed]"
     },
     "metadata": {},
     "output_type": "display_data"
    }
   ],
   "source": [
    "scores = pd.DataFrame(R.detach().numpy(),\n",
    "                      index=F_matrix.columns,\n",
    "                      columns=training_wide.columns).T.reset_index().melt(id_vars='log(conc)')\n",
    "scores = scores.rename(columns={'variable': 'Target', 'value': 'Response'})\n",
    "sns.lineplot(data=scores, x='log(conc)', y='Response', hue='Target')\n",
    "\n",
    "plt.legend(bbox_to_anchor=(1.02, 1), loc='upper left', borderaxespad=0)\n",
    "plt.title(f\"PubChem AOP curves for\\nCID {example_cid} for {len(TARGETS)} AOPs\")\n",
    "\n",
    "plt.show()"
   ],
   "metadata": {
    "collapsed": false,
    "pycharm": {
     "name": "#%%\n"
    }
   }
  }
 ],
 "metadata": {
  "kernelspec": {
   "display_name": "Python 3",
   "language": "python",
   "name": "python3"
  },
  "language_info": {
   "codemirror_mode": {
    "name": "ipython",
    "version": 2
   },
   "file_extension": ".py",
   "mimetype": "text/x-python",
   "name": "python",
   "nbconvert_exporter": "python",
   "pygments_lexer": "ipython2",
   "version": "2.7.6"
  }
 },
 "nbformat": 4,
 "nbformat_minor": 0
}