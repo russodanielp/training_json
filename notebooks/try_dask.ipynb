{
 "cells": [
  {
   "cell_type": "code",
   "execution_count": 2,
   "metadata": {
    "collapsed": true
   },
   "outputs": [
    {
     "name": "stdout",
     "output_type": "stream",
     "text": [
      "             AID        SID  Concentration Concentration Unit  Response  \\\n",
      "0            713     842142       1.562500                 um    1.1600   \n",
      "1            713     842142       1.562500                 um   83.1070   \n",
      "2            713     842142       3.125000                 um    1.0400   \n",
      "3            713     842142       3.125000                 um   66.9530   \n",
      "4            713     842142       6.250000                 um    1.1300   \n",
      "...          ...        ...            ...                ...       ...   \n",
      "5191940  1259383  251919991      42.458599                 um   -0.9850   \n",
      "5191941  1259383  251919991      42.458599                 um   -0.4206   \n",
      "5191942  1259383  251919991      92.407204                 um   -2.2592   \n",
      "5191943  1259383  251919991      92.407204                 um   -1.9833   \n",
      "5191944  1259383  251919991      92.407204                 um   -0.1991   \n",
      "\n",
      "        Response Unit         ID  \n",
      "0               ratio  301475102  \n",
      "1             percent  301475101  \n",
      "2               ratio  301475097  \n",
      "3             percent  301475092  \n",
      "4               ratio  301475099  \n",
      "...               ...        ...  \n",
      "5191940       percent   35546301  \n",
      "5191941       percent   35546303  \n",
      "5191942       percent   35546292  \n",
      "5191943       percent   35546281  \n",
      "5191944       percent   35546307  \n",
      "\n",
      "[5191945 rows x 7 columns]\n",
      "CPU times: user 30.2 s, sys: 31.3 s, total: 1min 1s\n",
      "Wall time: 10min 8s\n"
     ]
    }
   ],
   "source": [
    "%%time\n",
    "import pandas as pd\n",
    "import config\n",
    "\n",
    "\n",
    "q = 'SELECT dr.* ' \\\n",
    "    'FROM dose_response dr ' \\\n",
    "    'INNER JOIN targets tg on dr.AID == tg.PUBCHEM_AID ' \\\n",
    "    'WHERE tg.GeneSymbol == \"ESR1\"'\n",
    "\n",
    "target_data = pd.read_sql_query(q, con=config.Config.DB_URI)\n",
    "\n",
    "print(target_data)"
   ]
  }
 ],
 "metadata": {
  "kernelspec": {
   "display_name": "Python 3",
   "language": "python",
   "name": "python3"
  },
  "language_info": {
   "codemirror_mode": {
    "name": "ipython",
    "version": 2
   },
   "file_extension": ".py",
   "mimetype": "text/x-python",
   "name": "python",
   "nbconvert_exporter": "python",
   "pygments_lexer": "ipython2",
   "version": "2.7.6"
  }
 },
 "nbformat": 4,
 "nbformat_minor": 0
}