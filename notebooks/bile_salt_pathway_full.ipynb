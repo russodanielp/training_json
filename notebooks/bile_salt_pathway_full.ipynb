{
 "cells": [
  {
   "cell_type": "markdown",
   "source": [
    "Here is an example of a pathway that may work for screening hepatotoxicants\n",
    "\n",
    "\n",
    "This pathway: https://www.wikipathways.org/index.php/Pathway:WP2289\n",
    "\n",
    "Is the Drug induction of bile acid pathway.\n",
    "\n",
    "NOTE: could turn this into a networkX pathway and highlight nodes for a chemical based on activiation"
   ],
   "metadata": {
    "collapsed": false,
    "pycharm": {
     "name": "#%% md\n"
    }
   }
  },
  {
   "cell_type": "code",
   "execution_count": 2,
   "outputs": [],
   "source": [
    "# Could find GENE ids with the above PugREST URL,\n",
    "# then need to map these to GeneIDs using PugREST\n",
    "\n",
    "WIKI_PATHWAY = 'WP2289'\n",
    "\n",
    "target_url = 'https://pubchem.ncbi.nlm.nih.gov/rest/pug/gene/geneid/{}/summary/JSON'\n",
    "pathway_url = f'https://pubchem.ncbi.nlm.nih.gov/rest/pug/pathway/pwacc/wikipathways:{WIKI_PATHWAY}/geneids/TXT'"
   ],
   "metadata": {
    "collapsed": false,
    "pycharm": {
     "name": "#%%\n"
    }
   }
  },
  {
   "cell_type": "code",
   "execution_count": 3,
   "outputs": [],
   "source": [
    "import requests, json\n",
    "import pandas as pd\n",
    "\n",
    "\n",
    "url = requests.get(pathway_url)\n",
    "pathway_gene_ids = [f for f in url.text.split('\\n') if f]"
   ],
   "metadata": {
    "collapsed": false,
    "pycharm": {
     "name": "#%%\n"
    }
   }
  },
  {
   "cell_type": "code",
   "execution_count": 4,
   "outputs": [
    {
     "data": {
      "text/plain": "['570',\n '1244',\n '1576',\n '1581',\n '5243',\n '6554',\n '6822',\n '7421',\n '8647',\n '8714',\n '8856',\n '9970',\n '9971',\n '10257',\n '10599',\n '123264',\n '200931']"
     },
     "execution_count": 4,
     "metadata": {},
     "output_type": "execute_result"
    }
   ],
   "source": [
    "pathway_gene_ids"
   ],
   "metadata": {
    "collapsed": false,
    "pycharm": {
     "name": "#%%\n"
    }
   }
  },
  {
   "cell_type": "code",
   "execution_count": 5,
   "outputs": [],
   "source": [
    "url = requests.get(target_url.format(','.join(pathway_gene_ids)))\n",
    "text = url.text\n",
    "\n",
    "data = json.loads(text)\n"
   ],
   "metadata": {
    "collapsed": false,
    "pycharm": {
     "name": "#%%\n"
    }
   }
  },
  {
   "cell_type": "markdown",
   "source": [
    "Make a dictionary of all genes involved in pathway"
   ],
   "metadata": {
    "collapsed": false,
    "pycharm": {
     "name": "#%% md\n"
    }
   }
  },
  {
   "cell_type": "code",
   "execution_count": 6,
   "outputs": [],
   "source": [
    "targets_symbols2 = []\n",
    "for s in data['GeneSummaries']['GeneSummary']:\n",
    "    targets_symbols2.append((s['Symbol'], s['GeneID']))\n",
    "t_mapper = pd.DataFrame(targets_symbols2, columns=['GeneSymbol', 'Gene IDs'])"
   ],
   "metadata": {
    "collapsed": false,
    "pycharm": {
     "name": "#%%\n"
    }
   }
  },
  {
   "cell_type": "code",
   "execution_count": 7,
   "outputs": [
    {
     "data": {
      "text/plain": "   GeneSymbol  Gene IDs\n0        BAAT       570\n1       ABCC2      1244\n2      CYP3A4      1576\n3      CYP7A1      1581\n4       ABCB1      5243\n5     SLC10A1      6554\n6     SULT2A1      6822\n7         VDR      7421\n8      ABCB11      8647\n9       ABCC3      8714\n10      NR1I2      8856\n11      NR1I3      9970\n12      NR1H4      9971\n13      ABCC4     10257\n14    SLCO1B1     10599\n15     SLC51B    123264\n16     SLC51A    200931",
      "text/html": "<div>\n<style scoped>\n    .dataframe tbody tr th:only-of-type {\n        vertical-align: middle;\n    }\n\n    .dataframe tbody tr th {\n        vertical-align: top;\n    }\n\n    .dataframe thead th {\n        text-align: right;\n    }\n</style>\n<table border=\"1\" class=\"dataframe\">\n  <thead>\n    <tr style=\"text-align: right;\">\n      <th></th>\n      <th>GeneSymbol</th>\n      <th>Gene IDs</th>\n    </tr>\n  </thead>\n  <tbody>\n    <tr>\n      <th>0</th>\n      <td>BAAT</td>\n      <td>570</td>\n    </tr>\n    <tr>\n      <th>1</th>\n      <td>ABCC2</td>\n      <td>1244</td>\n    </tr>\n    <tr>\n      <th>2</th>\n      <td>CYP3A4</td>\n      <td>1576</td>\n    </tr>\n    <tr>\n      <th>3</th>\n      <td>CYP7A1</td>\n      <td>1581</td>\n    </tr>\n    <tr>\n      <th>4</th>\n      <td>ABCB1</td>\n      <td>5243</td>\n    </tr>\n    <tr>\n      <th>5</th>\n      <td>SLC10A1</td>\n      <td>6554</td>\n    </tr>\n    <tr>\n      <th>6</th>\n      <td>SULT2A1</td>\n      <td>6822</td>\n    </tr>\n    <tr>\n      <th>7</th>\n      <td>VDR</td>\n      <td>7421</td>\n    </tr>\n    <tr>\n      <th>8</th>\n      <td>ABCB11</td>\n      <td>8647</td>\n    </tr>\n    <tr>\n      <th>9</th>\n      <td>ABCC3</td>\n      <td>8714</td>\n    </tr>\n    <tr>\n      <th>10</th>\n      <td>NR1I2</td>\n      <td>8856</td>\n    </tr>\n    <tr>\n      <th>11</th>\n      <td>NR1I3</td>\n      <td>9970</td>\n    </tr>\n    <tr>\n      <th>12</th>\n      <td>NR1H4</td>\n      <td>9971</td>\n    </tr>\n    <tr>\n      <th>13</th>\n      <td>ABCC4</td>\n      <td>10257</td>\n    </tr>\n    <tr>\n      <th>14</th>\n      <td>SLCO1B1</td>\n      <td>10599</td>\n    </tr>\n    <tr>\n      <th>15</th>\n      <td>SLC51B</td>\n      <td>123264</td>\n    </tr>\n    <tr>\n      <th>16</th>\n      <td>SLC51A</td>\n      <td>200931</td>\n    </tr>\n  </tbody>\n</table>\n</div>"
     },
     "execution_count": 7,
     "metadata": {},
     "output_type": "execute_result"
    }
   ],
   "source": [
    "t_mapper"
   ],
   "metadata": {
    "collapsed": false,
    "pycharm": {
     "name": "#%%\n"
    }
   }
  },
  {
   "cell_type": "code",
   "execution_count": 8,
   "outputs": [
    {
     "name": "stdout",
     "output_type": "stream",
     "text": [
      "There are 17 Genes in this pathway\n"
     ]
    }
   ],
   "source": [
    "print(f\"There are {t_mapper.GeneSymbol.nunique()} Genes in this pathway\")"
   ],
   "metadata": {
    "collapsed": false,
    "pycharm": {
     "name": "#%%\n"
    }
   }
  },
  {
   "cell_type": "markdown",
   "source": [
    "Query the bioassays table to map gene IDs to PubChem Assays"
   ],
   "metadata": {
    "collapsed": false,
    "pycharm": {
     "name": "#%% md\n"
    }
   }
  },
  {
   "cell_type": "code",
   "execution_count": 9,
   "outputs": [],
   "source": [
    "import pandas as pd\n",
    "import config\n",
    "import numpy as np\n",
    "\n",
    "#targets = pd.read_sql_query('select PUBCHEM_AID, GeneSymbol from targets WHERE GeneSymbol IS NOT NULL', con=config.Config.DB_URI)\n",
    "targets = pd.read_sql_query('select AID, \"Gene IDs\", \"Bioassay Name\" from bioassays WHERE \"Gene IDs\" IS NOT NULL', con=config.Config.DB_URI)"
   ],
   "metadata": {
    "collapsed": false,
    "pycharm": {
     "name": "#%%\n"
    }
   }
  },
  {
   "cell_type": "markdown",
   "source": [
    "Some assays have multiple targets."
   ],
   "metadata": {
    "collapsed": false,
    "pycharm": {
     "name": "#%% md\n"
    }
   }
  },
  {
   "cell_type": "code",
   "execution_count": 10,
   "outputs": [
    {
     "data": {
      "text/plain": "            AID  Gene IDs                                      BioAssay Name\n0           361  58572631                                    Pyruvate Kinase\n1           362      2357        Formylpeptide Receptor Ligand Binding Assay\n2           365    946955                         E. coli RNase H Inhibition\n2           365  66671496                         E. coli RNase H Inhibition\n3           366    246243                           human RNase H Inhibition\n...         ...       ...                                                ...\n390698  1745839      5742  Cyclooxygenase COX-1 Eurofins-Panlabs enzyme a...\n390699  1745840      5743  Cyclooxygenase COX-2 Eurofins-Panlabs enzyme a...\n390700  1745841       246   Lipoxygenase 15-LO Eurofins-Panlabs enzyme assay\n390701  1745842      4843  Nitric Oxide Synthase, Inducible (iNOS) Eurofi...\n390702  1745843      5144  Phosphodiesterase PDE4D2 Eurofins-Panlabs enzy...\n\n[1010029 rows x 3 columns]",
      "text/html": "<div>\n<style scoped>\n    .dataframe tbody tr th:only-of-type {\n        vertical-align: middle;\n    }\n\n    .dataframe tbody tr th {\n        vertical-align: top;\n    }\n\n    .dataframe thead th {\n        text-align: right;\n    }\n</style>\n<table border=\"1\" class=\"dataframe\">\n  <thead>\n    <tr style=\"text-align: right;\">\n      <th></th>\n      <th>AID</th>\n      <th>Gene IDs</th>\n      <th>BioAssay Name</th>\n    </tr>\n  </thead>\n  <tbody>\n    <tr>\n      <th>0</th>\n      <td>361</td>\n      <td>58572631</td>\n      <td>Pyruvate Kinase</td>\n    </tr>\n    <tr>\n      <th>1</th>\n      <td>362</td>\n      <td>2357</td>\n      <td>Formylpeptide Receptor Ligand Binding Assay</td>\n    </tr>\n    <tr>\n      <th>2</th>\n      <td>365</td>\n      <td>946955</td>\n      <td>E. coli RNase H Inhibition</td>\n    </tr>\n    <tr>\n      <th>2</th>\n      <td>365</td>\n      <td>66671496</td>\n      <td>E. coli RNase H Inhibition</td>\n    </tr>\n    <tr>\n      <th>3</th>\n      <td>366</td>\n      <td>246243</td>\n      <td>human RNase H Inhibition</td>\n    </tr>\n    <tr>\n      <th>...</th>\n      <td>...</td>\n      <td>...</td>\n      <td>...</td>\n    </tr>\n    <tr>\n      <th>390698</th>\n      <td>1745839</td>\n      <td>5742</td>\n      <td>Cyclooxygenase COX-1 Eurofins-Panlabs enzyme a...</td>\n    </tr>\n    <tr>\n      <th>390699</th>\n      <td>1745840</td>\n      <td>5743</td>\n      <td>Cyclooxygenase COX-2 Eurofins-Panlabs enzyme a...</td>\n    </tr>\n    <tr>\n      <th>390700</th>\n      <td>1745841</td>\n      <td>246</td>\n      <td>Lipoxygenase 15-LO Eurofins-Panlabs enzyme assay</td>\n    </tr>\n    <tr>\n      <th>390701</th>\n      <td>1745842</td>\n      <td>4843</td>\n      <td>Nitric Oxide Synthase, Inducible (iNOS) Eurofi...</td>\n    </tr>\n    <tr>\n      <th>390702</th>\n      <td>1745843</td>\n      <td>5144</td>\n      <td>Phosphodiesterase PDE4D2 Eurofins-Panlabs enzy...</td>\n    </tr>\n  </tbody>\n</table>\n<p>1010029 rows × 3 columns</p>\n</div>"
     },
     "execution_count": 10,
     "metadata": {},
     "output_type": "execute_result"
    }
   ],
   "source": [
    "targets['Gene IDs'] = targets['Gene IDs'].str.split('|')\n",
    "targets = targets.explode('Gene IDs')\n",
    "targets['Gene IDs'] = targets['Gene IDs'].astype(int)\n",
    "targets"
   ],
   "metadata": {
    "collapsed": false,
    "pycharm": {
     "name": "#%%\n"
    }
   }
  },
  {
   "cell_type": "markdown",
   "source": [
    "Find subset of AIDs that have targets in our pathway"
   ],
   "metadata": {
    "collapsed": false,
    "pycharm": {
     "name": "#%% md\n"
    }
   }
  },
  {
   "cell_type": "code",
   "execution_count": 11,
   "outputs": [],
   "source": [
    "pathway_gene_ids = list(map(int, t_mapper['Gene IDs'].values))\n",
    "assays_aop = targets.query('`Gene IDs` in @pathway_gene_ids')"
   ],
   "metadata": {
    "collapsed": false,
    "pycharm": {
     "name": "#%%\n"
    }
   }
  },
  {
   "cell_type": "code",
   "execution_count": 12,
   "outputs": [
    {
     "data": {
      "text/plain": "9470"
     },
     "execution_count": 12,
     "metadata": {},
     "output_type": "execute_result"
    }
   ],
   "source": [
    "assays_aop.AID.nunique()"
   ],
   "metadata": {
    "collapsed": false,
    "pycharm": {
     "name": "#%%\n"
    }
   }
  },
  {
   "cell_type": "code",
   "execution_count": 13,
   "outputs": [
    {
     "data": {
      "text/plain": "          AID  Gene IDs                                      BioAssay Name  \\\n0         377      5243                                              MDR-1   \n1        1326      5243  High-throughput multiplex screening for ABC tr...   \n2        1451      5243  Single point confirmation for ABC transporter ...   \n3        1689      5243  Dose Response for ABC transporter inhibitors: ...   \n4        1818      5243  Summary of High-throughput multiplex screening...   \n...       ...       ...                                                ...   \n9680  1159506    200931  Identification of proteins required for the pr...   \n9681  1159578    200931  A screen to identify genes that regulate lymph...   \n9682  1159584    200931  A screen to identify synthetic lethal interact...   \n9683  1224830    200931  Genome-wide siRNA screen of genes regulating t...   \n9684  1508588    200931  RNAi screen for vemurafenib enhancer genes in ...   \n\n     GeneSymbol  \n0         ABCB1  \n1         ABCB1  \n2         ABCB1  \n3         ABCB1  \n4         ABCB1  \n...         ...  \n9680     SLC51A  \n9681     SLC51A  \n9682     SLC51A  \n9683     SLC51A  \n9684     SLC51A  \n\n[9685 rows x 4 columns]",
      "text/html": "<div>\n<style scoped>\n    .dataframe tbody tr th:only-of-type {\n        vertical-align: middle;\n    }\n\n    .dataframe tbody tr th {\n        vertical-align: top;\n    }\n\n    .dataframe thead th {\n        text-align: right;\n    }\n</style>\n<table border=\"1\" class=\"dataframe\">\n  <thead>\n    <tr style=\"text-align: right;\">\n      <th></th>\n      <th>AID</th>\n      <th>Gene IDs</th>\n      <th>BioAssay Name</th>\n      <th>GeneSymbol</th>\n    </tr>\n  </thead>\n  <tbody>\n    <tr>\n      <th>0</th>\n      <td>377</td>\n      <td>5243</td>\n      <td>MDR-1</td>\n      <td>ABCB1</td>\n    </tr>\n    <tr>\n      <th>1</th>\n      <td>1326</td>\n      <td>5243</td>\n      <td>High-throughput multiplex screening for ABC tr...</td>\n      <td>ABCB1</td>\n    </tr>\n    <tr>\n      <th>2</th>\n      <td>1451</td>\n      <td>5243</td>\n      <td>Single point confirmation for ABC transporter ...</td>\n      <td>ABCB1</td>\n    </tr>\n    <tr>\n      <th>3</th>\n      <td>1689</td>\n      <td>5243</td>\n      <td>Dose Response for ABC transporter inhibitors: ...</td>\n      <td>ABCB1</td>\n    </tr>\n    <tr>\n      <th>4</th>\n      <td>1818</td>\n      <td>5243</td>\n      <td>Summary of High-throughput multiplex screening...</td>\n      <td>ABCB1</td>\n    </tr>\n    <tr>\n      <th>...</th>\n      <td>...</td>\n      <td>...</td>\n      <td>...</td>\n      <td>...</td>\n    </tr>\n    <tr>\n      <th>9680</th>\n      <td>1159506</td>\n      <td>200931</td>\n      <td>Identification of proteins required for the pr...</td>\n      <td>SLC51A</td>\n    </tr>\n    <tr>\n      <th>9681</th>\n      <td>1159578</td>\n      <td>200931</td>\n      <td>A screen to identify genes that regulate lymph...</td>\n      <td>SLC51A</td>\n    </tr>\n    <tr>\n      <th>9682</th>\n      <td>1159584</td>\n      <td>200931</td>\n      <td>A screen to identify synthetic lethal interact...</td>\n      <td>SLC51A</td>\n    </tr>\n    <tr>\n      <th>9683</th>\n      <td>1224830</td>\n      <td>200931</td>\n      <td>Genome-wide siRNA screen of genes regulating t...</td>\n      <td>SLC51A</td>\n    </tr>\n    <tr>\n      <th>9684</th>\n      <td>1508588</td>\n      <td>200931</td>\n      <td>RNAi screen for vemurafenib enhancer genes in ...</td>\n      <td>SLC51A</td>\n    </tr>\n  </tbody>\n</table>\n<p>9685 rows × 4 columns</p>\n</div>"
     },
     "execution_count": 13,
     "metadata": {},
     "output_type": "execute_result"
    }
   ],
   "source": [
    "assays_aop = assays_aop.merge(t_mapper, on='Gene IDs')\n",
    "assays_aop"
   ],
   "metadata": {
    "collapsed": false,
    "pycharm": {
     "name": "#%%\n"
    }
   }
  },
  {
   "cell_type": "markdown",
   "source": [],
   "metadata": {
    "collapsed": false,
    "pycharm": {
     "name": "#%% md\n"
    }
   }
  },
  {
   "cell_type": "code",
   "execution_count": 14,
   "outputs": [
    {
     "data": {
      "text/plain": "<AxesSubplot:xlabel='GeneSymbol'>"
     },
     "execution_count": 14,
     "metadata": {},
     "output_type": "execute_result"
    },
    {
     "data": {
      "text/plain": "<Figure size 432x288 with 1 Axes>",
      "image/png": "[encoded data removed]"
     },
     "metadata": {
      "needs_background": "light"
     },
     "output_type": "display_data"
    }
   ],
   "source": [
    "assays_aop.groupby('GeneSymbol')['AID'].nunique().sort_values().plot(kind='bar')"
   ],
   "metadata": {
    "collapsed": false,
    "pycharm": {
     "name": "#%%\n"
    }
   }
  },
  {
   "cell_type": "markdown",
   "source": [
    "### Identifying Assay Mechanism\n",
    "\n",
    "Split assays into whether they are either agonists/activators or antagonist/inhibitors"
   ],
   "metadata": {
    "collapsed": false,
    "pycharm": {
     "name": "#%% md\n"
    }
   }
  },
  {
   "cell_type": "code",
   "execution_count": 15,
   "outputs": [],
   "source": [
    "q1 = '((`BioAssay Name`.str.contains(\"agonist\", case=False)) and not (`BioAssay Name`.str.contains(\"antagonist\", case=False)))'\n",
    "q2 = '((`BioAssay Name`.str.contains(\"activat\", case=False)) and not (`BioAssay Name`.str.contains(\"inactiv\", case=False)))'\n",
    "q3 = 'not (`BioAssay Name`.str.contains(\"inhibit\", case=False))'\n",
    "q = q1 + ' or ' + q2 + ' and ' + q3\n",
    "agonists = assays_aop.query(q)"
   ],
   "metadata": {
    "collapsed": false,
    "pycharm": {
     "name": "#%%\n"
    }
   }
  },
  {
   "cell_type": "code",
   "execution_count": 16,
   "outputs": [],
   "source": [
    "q1 = '(`BioAssay Name`.str.contains(\"inhibit\", case=False))'\n",
    "q2 = '(`BioAssay Name`.str.contains(\"antagon\", case=False))'\n",
    "q = q1 + ' or ' + q2\n",
    "antagonists = assays_aop.query(q)"
   ],
   "metadata": {
    "collapsed": false,
    "pycharm": {
     "name": "#%%\n"
    }
   }
  },
  {
   "cell_type": "code",
   "execution_count": 17,
   "outputs": [
    {
     "data": {
      "text/plain": "1373"
     },
     "execution_count": 17,
     "metadata": {},
     "output_type": "execute_result"
    }
   ],
   "source": [
    "agonists.AID.nunique()"
   ],
   "metadata": {
    "collapsed": false,
    "pycharm": {
     "name": "#%%\n"
    }
   }
  },
  {
   "cell_type": "code",
   "execution_count": 18,
   "outputs": [
    {
     "data": {
      "text/plain": "5882"
     },
     "execution_count": 18,
     "metadata": {},
     "output_type": "execute_result"
    }
   ],
   "source": [
    "antagonists.AID.nunique()"
   ],
   "metadata": {
    "collapsed": false,
    "pycharm": {
     "name": "#%%\n"
    }
   }
  },
  {
   "cell_type": "code",
   "execution_count": 19,
   "outputs": [
    {
     "data": {
      "text/plain": "14"
     },
     "execution_count": 19,
     "metadata": {},
     "output_type": "execute_result"
    }
   ],
   "source": [
    "antagonists.GeneSymbol.nunique()"
   ],
   "metadata": {
    "collapsed": false,
    "pycharm": {
     "name": "#%%\n"
    }
   }
  },
  {
   "cell_type": "code",
   "execution_count": 20,
   "outputs": [
    {
     "data": {
      "text/plain": "7"
     },
     "execution_count": 20,
     "metadata": {},
     "output_type": "execute_result"
    }
   ],
   "source": [
    "agonists.GeneSymbol.nunique()"
   ],
   "metadata": {
    "collapsed": false,
    "pycharm": {
     "name": "#%%\n"
    }
   }
  },
  {
   "cell_type": "code",
   "execution_count": 21,
   "outputs": [
    {
     "name": "stderr",
     "output_type": "stream",
     "text": [
      "/opt/anaconda3/envs/intro-chem/lib/python3.7/site-packages/ipykernel_launcher.py:1: SettingWithCopyWarning: \n",
      "A value is trying to be set on a copy of a slice from a DataFrame.\n",
      "Try using .loc[row_indexer,col_indexer] = value instead\n",
      "\n",
      "See the caveats in the documentation: https://pandas.pydata.org/pandas-docs/stable/user_guide/indexing.html#returning-a-view-versus-a-copy\n",
      "  \"\"\"Entry point for launching an IPython kernel.\n",
      "/opt/anaconda3/envs/intro-chem/lib/python3.7/site-packages/ipykernel_launcher.py:2: SettingWithCopyWarning: \n",
      "A value is trying to be set on a copy of a slice from a DataFrame.\n",
      "Try using .loc[row_indexer,col_indexer] = value instead\n",
      "\n",
      "See the caveats in the documentation: https://pandas.pydata.org/pandas-docs/stable/user_guide/indexing.html#returning-a-view-versus-a-copy\n",
      "  \n"
     ]
    },
    {
     "data": {
      "text/plain": "        AID  Gene IDs                                      BioAssay Name  \\\n95   317950      5243  Activation of human P-glycoprotein ATPase in C...   \n97   321880      5243  Activation of human Pgp ATPase in human Caco-2...   \n112  330503      5243  Activation of human P-gp ATPase in human Caco-...   \n202  386353      5243  Activation of ATPase activity of human histidi...   \n203  386354      5243  Activation of ATPase activity of human histidi...   \n\n    GeneSymbol    Target  \n95       ABCB1  ABCB1_UP  \n97       ABCB1  ABCB1_UP  \n112      ABCB1  ABCB1_UP  \n202      ABCB1  ABCB1_UP  \n203      ABCB1  ABCB1_UP  ",
      "text/html": "<div>\n<style scoped>\n    .dataframe tbody tr th:only-of-type {\n        vertical-align: middle;\n    }\n\n    .dataframe tbody tr th {\n        vertical-align: top;\n    }\n\n    .dataframe thead th {\n        text-align: right;\n    }\n</style>\n<table border=\"1\" class=\"dataframe\">\n  <thead>\n    <tr style=\"text-align: right;\">\n      <th></th>\n      <th>AID</th>\n      <th>Gene IDs</th>\n      <th>BioAssay Name</th>\n      <th>GeneSymbol</th>\n      <th>Target</th>\n    </tr>\n  </thead>\n  <tbody>\n    <tr>\n      <th>95</th>\n      <td>317950</td>\n      <td>5243</td>\n      <td>Activation of human P-glycoprotein ATPase in C...</td>\n      <td>ABCB1</td>\n      <td>ABCB1_UP</td>\n    </tr>\n    <tr>\n      <th>97</th>\n      <td>321880</td>\n      <td>5243</td>\n      <td>Activation of human Pgp ATPase in human Caco-2...</td>\n      <td>ABCB1</td>\n      <td>ABCB1_UP</td>\n    </tr>\n    <tr>\n      <th>112</th>\n      <td>330503</td>\n      <td>5243</td>\n      <td>Activation of human P-gp ATPase in human Caco-...</td>\n      <td>ABCB1</td>\n      <td>ABCB1_UP</td>\n    </tr>\n    <tr>\n      <th>202</th>\n      <td>386353</td>\n      <td>5243</td>\n      <td>Activation of ATPase activity of human histidi...</td>\n      <td>ABCB1</td>\n      <td>ABCB1_UP</td>\n    </tr>\n    <tr>\n      <th>203</th>\n      <td>386354</td>\n      <td>5243</td>\n      <td>Activation of ATPase activity of human histidi...</td>\n      <td>ABCB1</td>\n      <td>ABCB1_UP</td>\n    </tr>\n  </tbody>\n</table>\n</div>"
     },
     "execution_count": 21,
     "metadata": {},
     "output_type": "execute_result"
    }
   ],
   "source": [
    "agonists['Target'] = agonists.GeneSymbol.astype('str') + '_UP'\n",
    "antagonists['Target'] = antagonists.GeneSymbol.astype('str') + '_DOWN'\n",
    "pathway_frame = pd.concat([agonists, antagonists])\n",
    "pathway_frame.head()"
   ],
   "metadata": {
    "collapsed": false,
    "pycharm": {
     "name": "#%%\n"
    }
   }
  },
  {
   "cell_type": "markdown",
   "source": [
    "### Profiling\n",
    "\n",
    "#### Binary responses"
   ],
   "metadata": {
    "collapsed": false,
    "pycharm": {
     "name": "#%% md\n"
    }
   }
  },
  {
   "cell_type": "code",
   "execution_count": 22,
   "outputs": [],
   "source": [
    "target_aids = pathway_frame.AID.unique().tolist()"
   ],
   "metadata": {
    "collapsed": false,
    "pycharm": {
     "name": "#%%\n"
    }
   }
  },
  {
   "cell_type": "code",
   "execution_count": 23,
   "outputs": [],
   "source": [
    "profile = pd.read_sql_query('select PUBCHEM_AID AS AID, CAST(PUBCHEM_CID AS INT) AS CID , PUBCHEM_ACTIVITY_OUTCOME AS ACTIVITY  from concise WHERE PUBCHEM_CID NOT NULL and AID in ({})'.format(','.join(map(str, target_aids))), con=\"sqlite:////Volumes/TOSHIBA EXT/data/pubchem/pubchem_concise.db\")"
   ],
   "metadata": {
    "collapsed": false,
    "pycharm": {
     "name": "#%%\n"
    }
   }
  },
  {
   "cell_type": "code",
   "execution_count": 24,
   "outputs": [
    {
     "data": {
      "text/plain": "      AID       CID     ACTIVITY  Gene IDs  \\\n0  442229  44605616       Active      1576   \n1  442229  44605617       Active      1576   \n2  443709  16045493       Active      1576   \n3  443868  45139236  Unspecified      1576   \n4  443868  45485915  Unspecified      1576   \n\n                                BioAssay Name GeneSymbol       Target  \n0                        Inhibition of CYP3A4     CYP3A4  CYP3A4_DOWN  \n1                        Inhibition of CYP3A4     CYP3A4  CYP3A4_DOWN  \n2                        Inhibition of CYP3A4     CYP3A4  CYP3A4_DOWN  \n3  Inhibition of CYP3A4 at 3 uM after 30 mins     CYP3A4  CYP3A4_DOWN  \n4  Inhibition of CYP3A4 at 3 uM after 30 mins     CYP3A4  CYP3A4_DOWN  ",
      "text/html": "<div>\n<style scoped>\n    .dataframe tbody tr th:only-of-type {\n        vertical-align: middle;\n    }\n\n    .dataframe tbody tr th {\n        vertical-align: top;\n    }\n\n    .dataframe thead th {\n        text-align: right;\n    }\n</style>\n<table border=\"1\" class=\"dataframe\">\n  <thead>\n    <tr style=\"text-align: right;\">\n      <th></th>\n      <th>AID</th>\n      <th>CID</th>\n      <th>ACTIVITY</th>\n      <th>Gene IDs</th>\n      <th>BioAssay Name</th>\n      <th>GeneSymbol</th>\n      <th>Target</th>\n    </tr>\n  </thead>\n  <tbody>\n    <tr>\n      <th>0</th>\n      <td>442229</td>\n      <td>44605616</td>\n      <td>Active</td>\n      <td>1576</td>\n      <td>Inhibition of CYP3A4</td>\n      <td>CYP3A4</td>\n      <td>CYP3A4_DOWN</td>\n    </tr>\n    <tr>\n      <th>1</th>\n      <td>442229</td>\n      <td>44605617</td>\n      <td>Active</td>\n      <td>1576</td>\n      <td>Inhibition of CYP3A4</td>\n      <td>CYP3A4</td>\n      <td>CYP3A4_DOWN</td>\n    </tr>\n    <tr>\n      <th>2</th>\n      <td>443709</td>\n      <td>16045493</td>\n      <td>Active</td>\n      <td>1576</td>\n      <td>Inhibition of CYP3A4</td>\n      <td>CYP3A4</td>\n      <td>CYP3A4_DOWN</td>\n    </tr>\n    <tr>\n      <th>3</th>\n      <td>443868</td>\n      <td>45139236</td>\n      <td>Unspecified</td>\n      <td>1576</td>\n      <td>Inhibition of CYP3A4 at 3 uM after 30 mins</td>\n      <td>CYP3A4</td>\n      <td>CYP3A4_DOWN</td>\n    </tr>\n    <tr>\n      <th>4</th>\n      <td>443868</td>\n      <td>45485915</td>\n      <td>Unspecified</td>\n      <td>1576</td>\n      <td>Inhibition of CYP3A4 at 3 uM after 30 mins</td>\n      <td>CYP3A4</td>\n      <td>CYP3A4_DOWN</td>\n    </tr>\n  </tbody>\n</table>\n</div>"
     },
     "execution_count": 24,
     "metadata": {},
     "output_type": "execute_result"
    }
   ],
   "source": [
    "profile_target = profile.merge(pathway_frame, how='left')\n",
    "profile_target.head()"
   ],
   "metadata": {
    "collapsed": false,
    "pycharm": {
     "name": "#%%\n"
    }
   }
  },
  {
   "cell_type": "code",
   "execution_count": 25,
   "outputs": [
    {
     "data": {
      "text/plain": "CID        Target     \n4          CYP3A4_DOWN    0\n           NR1H4_DOWN     0\n           NR1H4_UP       0\n           NR1I2_UP       0\n           NR1I3_DOWN     0\n                         ..\n162676863  CYP3A4_DOWN    1\n162677134  ABCB1_DOWN     0\n162677159  CYP3A4_DOWN    0\n162677188  NR1H4_UP       2\n162677356  CYP3A4_DOWN    0\nName: ACTIVITY, Length: 480243, dtype: int64"
     },
     "execution_count": 25,
     "metadata": {},
     "output_type": "execute_result"
    }
   ],
   "source": [
    "cid_counts = profile_target.groupby(['CID', 'Target'])['ACTIVITY'].apply(lambda x: (x=='Active').sum())\n",
    "cid_counts"
   ],
   "metadata": {
    "collapsed": false,
    "pycharm": {
     "name": "#%%\n"
    }
   }
  },
  {
   "cell_type": "code",
   "execution_count": 26,
   "outputs": [
    {
     "data": {
      "text/plain": "   CID       Target  ACTIVITY\n0    4  CYP3A4_DOWN         0\n1    4   NR1H4_DOWN         0\n2    4     NR1H4_UP         0\n3    4     NR1I2_UP         0\n4    4   NR1I3_DOWN         0",
      "text/html": "<div>\n<style scoped>\n    .dataframe tbody tr th:only-of-type {\n        vertical-align: middle;\n    }\n\n    .dataframe tbody tr th {\n        vertical-align: top;\n    }\n\n    .dataframe thead th {\n        text-align: right;\n    }\n</style>\n<table border=\"1\" class=\"dataframe\">\n  <thead>\n    <tr style=\"text-align: right;\">\n      <th></th>\n      <th>CID</th>\n      <th>Target</th>\n      <th>ACTIVITY</th>\n    </tr>\n  </thead>\n  <tbody>\n    <tr>\n      <th>0</th>\n      <td>4</td>\n      <td>CYP3A4_DOWN</td>\n      <td>0</td>\n    </tr>\n    <tr>\n      <th>1</th>\n      <td>4</td>\n      <td>NR1H4_DOWN</td>\n      <td>0</td>\n    </tr>\n    <tr>\n      <th>2</th>\n      <td>4</td>\n      <td>NR1H4_UP</td>\n      <td>0</td>\n    </tr>\n    <tr>\n      <th>3</th>\n      <td>4</td>\n      <td>NR1I2_UP</td>\n      <td>0</td>\n    </tr>\n    <tr>\n      <th>4</th>\n      <td>4</td>\n      <td>NR1I3_DOWN</td>\n      <td>0</td>\n    </tr>\n  </tbody>\n</table>\n</div>"
     },
     "execution_count": 26,
     "metadata": {},
     "output_type": "execute_result"
    }
   ],
   "source": [
    "cid_counts = cid_counts.reset_index()\n",
    "cid_counts.head()"
   ],
   "metadata": {
    "collapsed": false,
    "pycharm": {
     "name": "#%%\n"
    }
   }
  },
  {
   "cell_type": "code",
   "execution_count": 27,
   "outputs": [
    {
     "data": {
      "text/plain": "Target  ABCB11_DOWN  ABCB1_DOWN  ABCB1_UP  ABCC2_DOWN  ABCC3_DOWN  ABCC4_DOWN  \\\nCID                                                                             \n4               NaN         NaN       NaN         NaN         NaN         NaN   \n6               NaN         NaN       NaN         NaN         NaN         NaN   \n11              NaN         NaN       NaN         NaN         NaN         NaN   \n13              NaN         NaN       NaN         NaN         NaN         NaN   \n19              NaN         NaN       NaN         NaN         NaN         NaN   \n\nTarget  CYP3A4_DOWN  CYP3A4_UP  CYP7A1_DOWN  NR1H4_DOWN  NR1H4_UP  NR1I2_DOWN  \\\nCID                                                                             \n4               0.0        NaN          NaN         0.0       0.0         NaN   \n6               0.0        NaN          NaN         1.0       0.0         NaN   \n11              0.0        NaN          NaN         0.0       0.0         NaN   \n13              0.0        NaN          NaN         0.0       0.0         NaN   \n19              NaN        NaN          NaN         NaN       NaN         NaN   \n\nTarget  NR1I2_UP  NR1I3_DOWN  NR1I3_UP  SLC10A1_DOWN  SLCO1B1_DOWN  VDR_DOWN  \\\nCID                                                                            \n4            0.0         0.0       0.0           NaN           NaN       0.0   \n6            2.0         2.0       0.0           NaN           NaN       2.0   \n11           0.0         0.0       0.0           NaN           NaN       0.0   \n13           0.0         0.0       0.0           NaN           NaN       0.0   \n19           NaN         NaN       NaN           NaN           0.0       0.0   \n\nTarget  VDR_UP  \nCID             \n4          0.0  \n6          0.0  \n11         0.0  \n13         0.0  \n19         NaN  ",
      "text/html": "<div>\n<style scoped>\n    .dataframe tbody tr th:only-of-type {\n        vertical-align: middle;\n    }\n\n    .dataframe tbody tr th {\n        vertical-align: top;\n    }\n\n    .dataframe thead th {\n        text-align: right;\n    }\n</style>\n<table border=\"1\" class=\"dataframe\">\n  <thead>\n    <tr style=\"text-align: right;\">\n      <th>Target</th>\n      <th>ABCB11_DOWN</th>\n      <th>ABCB1_DOWN</th>\n      <th>ABCB1_UP</th>\n      <th>ABCC2_DOWN</th>\n      <th>ABCC3_DOWN</th>\n      <th>ABCC4_DOWN</th>\n      <th>CYP3A4_DOWN</th>\n      <th>CYP3A4_UP</th>\n      <th>CYP7A1_DOWN</th>\n      <th>NR1H4_DOWN</th>\n      <th>NR1H4_UP</th>\n      <th>NR1I2_DOWN</th>\n      <th>NR1I2_UP</th>\n      <th>NR1I3_DOWN</th>\n      <th>NR1I3_UP</th>\n      <th>SLC10A1_DOWN</th>\n      <th>SLCO1B1_DOWN</th>\n      <th>VDR_DOWN</th>\n      <th>VDR_UP</th>\n    </tr>\n    <tr>\n      <th>CID</th>\n      <th></th>\n      <th></th>\n      <th></th>\n      <th></th>\n      <th></th>\n      <th></th>\n      <th></th>\n      <th></th>\n      <th></th>\n      <th></th>\n      <th></th>\n      <th></th>\n      <th></th>\n      <th></th>\n      <th></th>\n      <th></th>\n      <th></th>\n      <th></th>\n      <th></th>\n    </tr>\n  </thead>\n  <tbody>\n    <tr>\n      <th>4</th>\n      <td>NaN</td>\n      <td>NaN</td>\n      <td>NaN</td>\n      <td>NaN</td>\n      <td>NaN</td>\n      <td>NaN</td>\n      <td>0.0</td>\n      <td>NaN</td>\n      <td>NaN</td>\n      <td>0.0</td>\n      <td>0.0</td>\n      <td>NaN</td>\n      <td>0.0</td>\n      <td>0.0</td>\n      <td>0.0</td>\n      <td>NaN</td>\n      <td>NaN</td>\n      <td>0.0</td>\n      <td>0.0</td>\n    </tr>\n    <tr>\n      <th>6</th>\n      <td>NaN</td>\n      <td>NaN</td>\n      <td>NaN</td>\n      <td>NaN</td>\n      <td>NaN</td>\n      <td>NaN</td>\n      <td>0.0</td>\n      <td>NaN</td>\n      <td>NaN</td>\n      <td>1.0</td>\n      <td>0.0</td>\n      <td>NaN</td>\n      <td>2.0</td>\n      <td>2.0</td>\n      <td>0.0</td>\n      <td>NaN</td>\n      <td>NaN</td>\n      <td>2.0</td>\n      <td>0.0</td>\n    </tr>\n    <tr>\n      <th>11</th>\n      <td>NaN</td>\n      <td>NaN</td>\n      <td>NaN</td>\n      <td>NaN</td>\n      <td>NaN</td>\n      <td>NaN</td>\n      <td>0.0</td>\n      <td>NaN</td>\n      <td>NaN</td>\n      <td>0.0</td>\n      <td>0.0</td>\n      <td>NaN</td>\n      <td>0.0</td>\n      <td>0.0</td>\n      <td>0.0</td>\n      <td>NaN</td>\n      <td>NaN</td>\n      <td>0.0</td>\n      <td>0.0</td>\n    </tr>\n    <tr>\n      <th>13</th>\n      <td>NaN</td>\n      <td>NaN</td>\n      <td>NaN</td>\n      <td>NaN</td>\n      <td>NaN</td>\n      <td>NaN</td>\n      <td>0.0</td>\n      <td>NaN</td>\n      <td>NaN</td>\n      <td>0.0</td>\n      <td>0.0</td>\n      <td>NaN</td>\n      <td>0.0</td>\n      <td>0.0</td>\n      <td>0.0</td>\n      <td>NaN</td>\n      <td>NaN</td>\n      <td>0.0</td>\n      <td>0.0</td>\n    </tr>\n    <tr>\n      <th>19</th>\n      <td>NaN</td>\n      <td>NaN</td>\n      <td>NaN</td>\n      <td>NaN</td>\n      <td>NaN</td>\n      <td>NaN</td>\n      <td>NaN</td>\n      <td>NaN</td>\n      <td>NaN</td>\n      <td>NaN</td>\n      <td>NaN</td>\n      <td>NaN</td>\n      <td>NaN</td>\n      <td>NaN</td>\n      <td>NaN</td>\n      <td>NaN</td>\n      <td>0.0</td>\n      <td>0.0</td>\n      <td>NaN</td>\n    </tr>\n  </tbody>\n</table>\n</div>"
     },
     "execution_count": 27,
     "metadata": {},
     "output_type": "execute_result"
    }
   ],
   "source": [
    "cid_x_targets = cid_counts.pivot(index='CID', columns='Target', values='ACTIVITY')\n",
    "cid_x_targets.head()"
   ],
   "metadata": {
    "collapsed": false,
    "pycharm": {
     "name": "#%%\n"
    }
   }
  },
  {
   "cell_type": "markdown",
   "source": [],
   "metadata": {
    "collapsed": false,
    "pycharm": {
     "name": "#%% md\n"
    }
   }
  },
  {
   "cell_type": "code",
   "execution_count": 28,
   "outputs": [
    {
     "data": {
      "text/plain": "CID\n5284373      0.242174\n3238389      0.178235\n135398735    0.128091\n5339         0.124591\n2520         0.123696\n               ...   \n7998995      0.000000\n7999036      0.000000\n7999043      0.000000\n7999054      0.000000\n4            0.000000\nLength: 419562, dtype: float64"
     },
     "execution_count": 28,
     "metadata": {},
     "output_type": "execute_result"
    }
   ],
   "source": [
    "cid_x_targets_norm = (cid_x_targets / cid_x_targets.max())\n",
    "cid_x_targets_norm.fillna(0).mean(1).sort_values(ascending=False)"
   ],
   "metadata": {
    "collapsed": false,
    "pycharm": {
     "name": "#%%\n"
    }
   }
  },
  {
   "cell_type": "markdown",
   "source": [
    "#### Dose Response Assays"
   ],
   "metadata": {
    "collapsed": false,
    "pycharm": {
     "name": "#%% md\n"
    }
   }
  },
  {
   "cell_type": "code",
   "execution_count": 29,
   "outputs": [
    {
     "name": "stdout",
     "output_type": "stream",
     "text": [
      "      SID     AID        AC50         TOP     SLOPE           MSE        CID\n",
      "0  842408  504847  105.442945 -120.000000  8.000000  1.218814e-01     644675\n",
      "1  842823  504847   59.544619  -65.618356  7.969804  1.667165e-09  135450609\n",
      "2  843190  504847   22.986003  -75.974782  1.246930  6.912329e+00      70863\n",
      "3  843534  602199    9.968555  -93.127690  7.998962  3.487031e-08    6603145\n",
      "4  843534  602200    4.534788  -98.670421  2.198862  8.087151e-02    6603145\n"
     ]
    }
   ],
   "source": [
    "aid_list = [str(aid) for aid in target_aids]\n",
    "\n",
    "aid_string = \", \".join(map(str, aid_list))\n",
    "aid_query = f'({aid_string})'\n",
    "\n",
    "actives_query = 'SELECT c.PUBCHEM_CID as CID, c.PUBCHEM_AID as AID, c.PUBCHEM_SID as SID ' \\\n",
    "                'FROM concise c ' \\\n",
    "                'WHERE c.PUBCHEM_AID in {} AND c.PUBCHEM_ACTIVITY_OUTCOME == \"Active\" AND ' \\\n",
    "                'c.PUBCHEM_CID is not null AND c.PUBCHEM_SID is not null'.format(aid_query)\n",
    "\n",
    "active_cmps = pd.read_sql_query(actives_query, con=config.Config.DB_URI)\n",
    "active_cmps['SID'] = active_cmps['SID'].astype(int)\n",
    "\n",
    "sid_list = [str(sid)for sid in active_cmps.SID]\n",
    "\n",
    "sid_string = \", \".join(map(str, sid_list))\n",
    "sid_query = f'({sid_string})'\n",
    "\n",
    "hill_params_query = 'SELECT  SID, AID, AC50, TOP, SLOPE, MSE ' \\\n",
    "                    'FROM hill_models ' \\\n",
    "                    'WHERE AID in {} AND SID in {} '.format(aid_query, sid_query)\n",
    "\n",
    "hill_params = pd.read_sql_query(hill_params_query, con=config.Config.DB_URI)\n",
    "\n",
    "# this merge is necessary because\n",
    "# the former query gathers all data\n",
    "# for all sid and aid that have any active cmps\n",
    "# not just the pairs of active sid, aid\n",
    "# could be solved by a SQLite join, but\n",
    "# right now takes too long\n",
    "hill_merged = pd.merge(hill_params, active_cmps[['SID', 'CID', 'AID']].drop_duplicates(['SID', 'CID', 'AID']), on=['SID', 'AID'])\n",
    "print(hill_merged.head())"
   ],
   "metadata": {
    "collapsed": false,
    "pycharm": {
     "name": "#%%\n"
    }
   }
  },
  {
   "cell_type": "code",
   "execution_count": 30,
   "outputs": [
    {
     "data": {
      "text/plain": "26"
     },
     "execution_count": 30,
     "metadata": {},
     "output_type": "execute_result"
    }
   ],
   "source": [
    "hill_merged.AID.nunique()"
   ],
   "metadata": {
    "collapsed": false,
    "pycharm": {
     "name": "#%%\n"
    }
   }
  },
  {
   "cell_type": "code",
   "execution_count": 31,
   "outputs": [
    {
     "data": {
      "text/plain": "array(['CYP3A4_UP', 'VDR_UP', 'NR1I2_UP', 'NR1I3_UP', 'NR1H4_UP',\n       'ABCB1_DOWN', 'CYP3A4_DOWN', 'VDR_DOWN', 'NR1I3_DOWN',\n       'NR1H4_DOWN'], dtype=object)"
     },
     "execution_count": 31,
     "metadata": {},
     "output_type": "execute_result"
    }
   ],
   "source": [
    "pathway_frame[pathway_frame.AID.isin(hill_merged.AID.unique())].Target.unique()"
   ],
   "metadata": {
    "collapsed": false,
    "pycharm": {
     "name": "#%%\n"
    }
   }
  },
  {
   "cell_type": "code",
   "execution_count": 32,
   "outputs": [
    {
     "data": {
      "text/plain": "      SID     AID        AC50         TOP     SLOPE           MSE        CID  \\\n0  842408  504847  105.442945 -120.000000  8.000000  1.218814e-01     644675   \n1  842823  504847   59.544619  -65.618356  7.969804  1.667165e-09  135450609   \n2  843190  504847   22.986003  -75.974782  1.246930  6.912329e+00      70863   \n3  844303  504847   66.547961  -74.743820  7.897751  4.766213e-10     646623   \n4  844835  504847  114.213096 -120.000000  8.000000  3.412183e-02     647166   \n\n     Target  \n0  VDR_DOWN  \n1  VDR_DOWN  \n2  VDR_DOWN  \n3  VDR_DOWN  \n4  VDR_DOWN  ",
      "text/html": "<div>\n<style scoped>\n    .dataframe tbody tr th:only-of-type {\n        vertical-align: middle;\n    }\n\n    .dataframe tbody tr th {\n        vertical-align: top;\n    }\n\n    .dataframe thead th {\n        text-align: right;\n    }\n</style>\n<table border=\"1\" class=\"dataframe\">\n  <thead>\n    <tr style=\"text-align: right;\">\n      <th></th>\n      <th>SID</th>\n      <th>AID</th>\n      <th>AC50</th>\n      <th>TOP</th>\n      <th>SLOPE</th>\n      <th>MSE</th>\n      <th>CID</th>\n      <th>Target</th>\n    </tr>\n  </thead>\n  <tbody>\n    <tr>\n      <th>0</th>\n      <td>842408</td>\n      <td>504847</td>\n      <td>105.442945</td>\n      <td>-120.000000</td>\n      <td>8.000000</td>\n      <td>1.218814e-01</td>\n      <td>644675</td>\n      <td>VDR_DOWN</td>\n    </tr>\n    <tr>\n      <th>1</th>\n      <td>842823</td>\n      <td>504847</td>\n      <td>59.544619</td>\n      <td>-65.618356</td>\n      <td>7.969804</td>\n      <td>1.667165e-09</td>\n      <td>135450609</td>\n      <td>VDR_DOWN</td>\n    </tr>\n    <tr>\n      <th>2</th>\n      <td>843190</td>\n      <td>504847</td>\n      <td>22.986003</td>\n      <td>-75.974782</td>\n      <td>1.246930</td>\n      <td>6.912329e+00</td>\n      <td>70863</td>\n      <td>VDR_DOWN</td>\n    </tr>\n    <tr>\n      <th>3</th>\n      <td>844303</td>\n      <td>504847</td>\n      <td>66.547961</td>\n      <td>-74.743820</td>\n      <td>7.897751</td>\n      <td>4.766213e-10</td>\n      <td>646623</td>\n      <td>VDR_DOWN</td>\n    </tr>\n    <tr>\n      <th>4</th>\n      <td>844835</td>\n      <td>504847</td>\n      <td>114.213096</td>\n      <td>-120.000000</td>\n      <td>8.000000</td>\n      <td>3.412183e-02</td>\n      <td>647166</td>\n      <td>VDR_DOWN</td>\n    </tr>\n  </tbody>\n</table>\n</div>"
     },
     "execution_count": 32,
     "metadata": {},
     "output_type": "execute_result"
    }
   ],
   "source": [
    "hill_merged = hill_merged.merge(pathway_frame[['AID', 'Target']].drop_duplicates())\n",
    "hill_merged.head()"
   ],
   "metadata": {
    "collapsed": false,
    "pycharm": {
     "name": "#%%\n"
    }
   }
  },
  {
   "cell_type": "markdown",
   "source": [
    "#### AOP Model"
   ],
   "metadata": {
    "collapsed": false,
    "pycharm": {
     "name": "#%% md\n"
    }
   }
  },
  {
   "cell_type": "code",
   "execution_count": 33,
   "outputs": [
    {
     "name": "stdout",
     "output_type": "stream",
     "text": [
      "             SID      AID       AC50         TOP  SLOPE       MSE    CID  \\\n",
      "12633  144209922  1346982  29.132675 -102.205456    8.0  1.662619  14425   \n",
      "13489  144213796  1346982  29.132675 -102.205456    8.0  1.662619  14425   \n",
      "\n",
      "         Target  \n",
      "12633  NR1I2_UP  \n",
      "13489  NR1I2_UP  \n",
      "             SID      AID       AC50         TOP  SLOPE       MSE    CID  \\\n",
      "12533  144209523  1346982  29.132675 -102.205456    8.0  1.662619  22772   \n",
      "12918  144211375  1346982  29.132675 -102.205456    8.0  1.662619  22772   \n",
      "\n",
      "         Target  \n",
      "12533  NR1I2_UP  \n",
      "12918  NR1I2_UP  \n"
     ]
    }
   ],
   "source": [
    "from curve_fitting import hill_curve\n",
    "from curvep import curveP, CONCLIST\n",
    "\n",
    "xs = np.asarray(CONCLIST)\n",
    "\n",
    "dfs = []\n",
    "\n",
    "for (aid, cid), params in hill_merged.groupby(['AID', 'CID']):\n",
    "\n",
    "    params = params[params.MSE == params.MSE.min()]\n",
    "\n",
    "    if params.shape[0] > 1:\n",
    "        print(params)\n",
    "    if params.empty:\n",
    "        continue\n",
    "    curve = hill_curve(xs, params.AC50.iloc[0], params.TOP.iloc[0], params.SLOPE.iloc[0])\n",
    "    df = pd.DataFrame()\n",
    "    df['log(Concentration)'] = np.log10(xs)\n",
    "    df['Response'] = curve\n",
    "    df['AID'] = aid\n",
    "    df['CID'] = cid\n",
    "    df['Target'] = params.Target.iloc[0]\n",
    "    dfs.append(df)\n",
    "dfs = pd.concat(dfs)"
   ],
   "metadata": {
    "collapsed": false,
    "pycharm": {
     "name": "#%%\n"
    }
   }
  },
  {
   "cell_type": "code",
   "execution_count": 34,
   "outputs": [
    {
     "data": {
      "text/plain": "         WP2289\n504847        1\n602199        1\n602200        1\n602201        1\n602202        1\n884           1\n885           1\n720659        1\n588526        1\n588541        1\n1645841       1\n588527        1\n588543        1\n1689          1\n504566        1\n504569        1\n489002        1\n1346985       1\n1346982       1\n1671201       1\n1224838       1\n1224839       1\n743222        1\n743220        1\n743217        1\n743223        1",
      "text/html": "<div>\n<style scoped>\n    .dataframe tbody tr th:only-of-type {\n        vertical-align: middle;\n    }\n\n    .dataframe tbody tr th {\n        vertical-align: top;\n    }\n\n    .dataframe thead th {\n        text-align: right;\n    }\n</style>\n<table border=\"1\" class=\"dataframe\">\n  <thead>\n    <tr style=\"text-align: right;\">\n      <th></th>\n      <th>WP2289</th>\n    </tr>\n  </thead>\n  <tbody>\n    <tr>\n      <th>504847</th>\n      <td>1</td>\n    </tr>\n    <tr>\n      <th>602199</th>\n      <td>1</td>\n    </tr>\n    <tr>\n      <th>602200</th>\n      <td>1</td>\n    </tr>\n    <tr>\n      <th>602201</th>\n      <td>1</td>\n    </tr>\n    <tr>\n      <th>602202</th>\n      <td>1</td>\n    </tr>\n    <tr>\n      <th>884</th>\n      <td>1</td>\n    </tr>\n    <tr>\n      <th>885</th>\n      <td>1</td>\n    </tr>\n    <tr>\n      <th>720659</th>\n      <td>1</td>\n    </tr>\n    <tr>\n      <th>588526</th>\n      <td>1</td>\n    </tr>\n    <tr>\n      <th>588541</th>\n      <td>1</td>\n    </tr>\n    <tr>\n      <th>1645841</th>\n      <td>1</td>\n    </tr>\n    <tr>\n      <th>588527</th>\n      <td>1</td>\n    </tr>\n    <tr>\n      <th>588543</th>\n      <td>1</td>\n    </tr>\n    <tr>\n      <th>1689</th>\n      <td>1</td>\n    </tr>\n    <tr>\n      <th>504566</th>\n      <td>1</td>\n    </tr>\n    <tr>\n      <th>504569</th>\n      <td>1</td>\n    </tr>\n    <tr>\n      <th>489002</th>\n      <td>1</td>\n    </tr>\n    <tr>\n      <th>1346985</th>\n      <td>1</td>\n    </tr>\n    <tr>\n      <th>1346982</th>\n      <td>1</td>\n    </tr>\n    <tr>\n      <th>1671201</th>\n      <td>1</td>\n    </tr>\n    <tr>\n      <th>1224838</th>\n      <td>1</td>\n    </tr>\n    <tr>\n      <th>1224839</th>\n      <td>1</td>\n    </tr>\n    <tr>\n      <th>743222</th>\n      <td>1</td>\n    </tr>\n    <tr>\n      <th>743220</th>\n      <td>1</td>\n    </tr>\n    <tr>\n      <th>743217</th>\n      <td>1</td>\n    </tr>\n    <tr>\n      <th>743223</th>\n      <td>1</td>\n    </tr>\n  </tbody>\n</table>\n</div>"
     },
     "execution_count": 34,
     "metadata": {},
     "output_type": "execute_result"
    }
   ],
   "source": [
    "genes_aids = hill_merged.copy()\n",
    "genes_aids['Pathway'] = WIKI_PATHWAY\n",
    "\n",
    "F_matrix = pd.DataFrame(index=hill_merged.AID.unique().astype(int), columns=[WIKI_PATHWAY])\n",
    "\n",
    "for aop, aop_data in genes_aids.groupby('Pathway'):\n",
    "    for aid in aop_data.AID.unique():\n",
    "        F_matrix.loc[aid, aop] = 1\n",
    "F_matrix = F_matrix.fillna(0)\n",
    "F_matrix\n"
   ],
   "metadata": {
    "collapsed": false,
    "pycharm": {
     "name": "#%%\n"
    }
   }
  },
  {
   "cell_type": "code",
   "execution_count": 35,
   "outputs": [],
   "source": [
    "frames = {}\n",
    "cids = []\n",
    "\n",
    "\n",
    "for cid, d in dfs.groupby('CID'):\n",
    "    training_wide = d.pivot(columns='log(Concentration)', index='AID', values='Response')\n",
    "    # fill missing data AIDs\n",
    "    training_wide = training_wide.reindex(F_matrix.index).fillna(0)\n",
    "    frames[cid] = training_wide\n",
    "    cids.append(cid)"
   ],
   "metadata": {
    "collapsed": false,
    "pycharm": {
     "name": "#%%\n"
    }
   }
  },
  {
   "cell_type": "code",
   "execution_count": 36,
   "outputs": [],
   "source": [
    "cr_responses = np.stack([frames[cas].values for cas in cids], axis=2)"
   ],
   "metadata": {
    "collapsed": false,
    "pycharm": {
     "name": "#%%\n"
    }
   }
  },
  {
   "cell_type": "code",
   "execution_count": 37,
   "outputs": [],
   "source": [
    "import torch\n",
    "import torch.optim as optim\n",
    "from torch.optim.lr_scheduler import StepLR, ReduceLROnPlateau"
   ],
   "metadata": {
    "collapsed": false,
    "pycharm": {
     "name": "#%%\n"
    }
   }
  },
  {
   "cell_type": "code",
   "execution_count": 38,
   "outputs": [],
   "source": [
    "EPOCHS = 750\n",
    "STEPS = 100\n",
    "INITIAL_LR = 1\n",
    "GAMMA = 0.5\n",
    "\n",
    "F = torch.tensor(F_matrix.values, dtype=torch.float)\n",
    "R = torch.tensor(np.random.random(size=(F.shape[1], cr_responses.shape[1], cr_responses.shape[2])),\n",
    "                 dtype=torch.float, requires_grad=True)\n",
    "\n",
    "# R = torch.tensor(torch.clamp(R, min=0, max=1), requires_grad=True)\n",
    "\n",
    "\n",
    "y = torch.tensor(cr_responses)\n",
    "\n",
    "optimizer = optim.Adam([R], lr=INITIAL_LR)\n",
    "#scheduler = StepLR(optimizer, step_size=STEPS, gamma=0.9)\n",
    "scheduler = ReduceLROnPlateau(optimizer, factor=0.1, patience=50)"
   ],
   "metadata": {
    "collapsed": false,
    "pycharm": {
     "name": "#%%\n"
    }
   }
  },
  {
   "cell_type": "code",
   "execution_count": 39,
   "outputs": [
    {
     "name": "stdout",
     "output_type": "stream",
     "text": [
      "tensor(47.6560, dtype=torch.float64, grad_fn=<MeanBackward0>)\n",
      "Epoch-0 lr: 1\n",
      "tensor(44.4192, dtype=torch.float64, grad_fn=<MeanBackward0>)\n",
      "Epoch-100 lr: 1\n",
      "tensor(44.4191, dtype=torch.float64, grad_fn=<MeanBackward0>)\n",
      "Epoch-200 lr: 0.010000000000000002\n",
      "tensor(44.4191, dtype=torch.float64, grad_fn=<MeanBackward0>)\n",
      "Epoch-300 lr: 0.00010000000000000003\n",
      "tensor(44.4191, dtype=torch.float64, grad_fn=<MeanBackward0>)\n",
      "Epoch-400 lr: 1.0000000000000004e-06\n",
      "tensor(44.4191, dtype=torch.float64, grad_fn=<MeanBackward0>)\n",
      "Epoch-500 lr: 1.0000000000000005e-08\n",
      "tensor(44.4191, dtype=torch.float64, grad_fn=<MeanBackward0>)\n",
      "Epoch-600 lr: 1.0000000000000005e-08\n",
      "tensor(44.4191, dtype=torch.float64, grad_fn=<MeanBackward0>)\n",
      "Epoch-700 lr: 1.0000000000000005e-08\n"
     ]
    }
   ],
   "source": [
    "losses = np.array([])\n",
    "\n",
    "for epoch in range(EPOCHS):\n",
    "    # model is y = FR\n",
    "    optimizer.zero_grad()\n",
    "    #R = torch.clamp(R, min=0, max=1)\n",
    "    model = torch.tensordot(F, R, dims=([1], [0]))\n",
    "\n",
    "\n",
    "    ss_term = torch.mean(torch.square(model - y))\n",
    "\n",
    "    x = torch.sum(R)\n",
    "    penalty_term = x ** 10 / (x ** 10 + 0.5 ** 10)\n",
    "\n",
    "    loss = ss_term + penalty_term\n",
    "    loss = ss_term\n",
    "\n",
    "    loss.backward()\n",
    "    optimizer.step()\n",
    "    losses = np.append(losses, loss.detach().numpy())\n",
    "    #     if losses[-50:].var() < 0.1 and epoch>10:\n",
    "    #         #print(\"Reducing LR...\")\n",
    "    #         for g in optimizer.param_groups:\n",
    "    #             g['lr'] = g['lr']*GAMMA\n",
    "    scheduler.step(loss)\n",
    "    if epoch % STEPS == 0:\n",
    "        print(loss)\n",
    "        print('Epoch-{0} lr: {1}'.format(epoch, optimizer.param_groups[0]['lr']))"
   ],
   "metadata": {
    "collapsed": false,
    "pycharm": {
     "name": "#%%\n"
    }
   }
  },
  {
   "cell_type": "code",
   "execution_count": 40,
   "outputs": [],
   "source": [
    "from curve_fitting import auc_score\n",
    "\n",
    "scores = R.detach().numpy()\n",
    "\n",
    "cmp_score_dic = {}\n",
    "\n",
    "for i, casnumber in enumerate(cids):\n",
    "    cmp_r_scores = pd.DataFrame(scores[:, :, i], index=F_matrix.columns, columns=np.log10(xs))\n",
    "    cmp_auc_scores = auc_score(cmp_r_scores)\n",
    "    cmp_score_dic[casnumber] = (cmp_r_scores, cmp_auc_scores)"
   ],
   "metadata": {
    "collapsed": false,
    "pycharm": {
     "name": "#%%\n"
    }
   }
  },
  {
   "cell_type": "code",
   "execution_count": 41,
   "outputs": [],
   "source": [
    "d = [cmp_score_dic[cas][1] for cas in cids]\n",
    "\n",
    "score_frame = pd.DataFrame(d, index=cids)"
   ],
   "metadata": {
    "collapsed": false,
    "pycharm": {
     "name": "#%%\n"
    }
   }
  },
  {
   "cell_type": "code",
   "execution_count": 42,
   "outputs": [],
   "source": [
    "score_frame_norm = score_frame.divide(score_frame.max()).fillna(0)\n",
    "\n",
    "scores_norm = scores.copy()\n",
    "\n",
    "for r in range(scores_norm.shape[0]):\n",
    "    scaler = scores[r, :, :].max()\n",
    "    if scaler != 0:\n",
    "        scores_norm[r, :, :] = scores_norm[r, :, :]*1/scaler\n",
    "\n",
    "cmp_score_norm_dic = {}\n",
    "\n",
    "for i, casnumber in enumerate(cids):\n",
    "    cmp_r_scores = pd.DataFrame(scores_norm[:, :, i], index=F_matrix.columns, columns=np.log10(xs))\n",
    "    cmp_score_norm_dic[casnumber] = cmp_r_scores"
   ],
   "metadata": {
    "collapsed": false,
    "pycharm": {
     "name": "#%%\n"
    }
   }
  },
  {
   "cell_type": "code",
   "execution_count": 43,
   "outputs": [
    {
     "data": {
      "text/plain": "       WP2289\n6   -0.385755\n177  0.019746\n190  0.026798\n204 -0.062412\n289  0.060649",
      "text/html": "<div>\n<style scoped>\n    .dataframe tbody tr th:only-of-type {\n        vertical-align: middle;\n    }\n\n    .dataframe tbody tr th {\n        vertical-align: top;\n    }\n\n    .dataframe thead th {\n        text-align: right;\n    }\n</style>\n<table border=\"1\" class=\"dataframe\">\n  <thead>\n    <tr style=\"text-align: right;\">\n      <th></th>\n      <th>WP2289</th>\n    </tr>\n  </thead>\n  <tbody>\n    <tr>\n      <th>6</th>\n      <td>-0.385755</td>\n    </tr>\n    <tr>\n      <th>177</th>\n      <td>0.019746</td>\n    </tr>\n    <tr>\n      <th>190</th>\n      <td>0.026798</td>\n    </tr>\n    <tr>\n      <th>204</th>\n      <td>-0.062412</td>\n    </tr>\n    <tr>\n      <th>289</th>\n      <td>0.060649</td>\n    </tr>\n  </tbody>\n</table>\n</div>"
     },
     "execution_count": 43,
     "metadata": {},
     "output_type": "execute_result"
    }
   ],
   "source": [
    "score_frame_norm.head()"
   ],
   "metadata": {
    "collapsed": false,
    "pycharm": {
     "name": "#%%\n"
    }
   }
  },
  {
   "cell_type": "code",
   "execution_count": 44,
   "outputs": [
    {
     "data": {
      "text/plain": "            WP2289\n68589    -1.736601\n456201   -1.694288\n16682730 -1.593441\n15910    -1.555007\n4641     -1.369535\n...            ...\n44640183  0.787377\n44629742  0.795134\n44630540  0.824401\n5288783   0.990127\n44623842  1.000000\n\n[11390 rows x 1 columns]",
      "text/html": "<div>\n<style scoped>\n    .dataframe tbody tr th:only-of-type {\n        vertical-align: middle;\n    }\n\n    .dataframe tbody tr th {\n        vertical-align: top;\n    }\n\n    .dataframe thead th {\n        text-align: right;\n    }\n</style>\n<table border=\"1\" class=\"dataframe\">\n  <thead>\n    <tr style=\"text-align: right;\">\n      <th></th>\n      <th>WP2289</th>\n    </tr>\n  </thead>\n  <tbody>\n    <tr>\n      <th>68589</th>\n      <td>-1.736601</td>\n    </tr>\n    <tr>\n      <th>456201</th>\n      <td>-1.694288</td>\n    </tr>\n    <tr>\n      <th>16682730</th>\n      <td>-1.593441</td>\n    </tr>\n    <tr>\n      <th>15910</th>\n      <td>-1.555007</td>\n    </tr>\n    <tr>\n      <th>4641</th>\n      <td>-1.369535</td>\n    </tr>\n    <tr>\n      <th>...</th>\n      <td>...</td>\n    </tr>\n    <tr>\n      <th>44640183</th>\n      <td>0.787377</td>\n    </tr>\n    <tr>\n      <th>44629742</th>\n      <td>0.795134</td>\n    </tr>\n    <tr>\n      <th>44630540</th>\n      <td>0.824401</td>\n    </tr>\n    <tr>\n      <th>5288783</th>\n      <td>0.990127</td>\n    </tr>\n    <tr>\n      <th>44623842</th>\n      <td>1.000000</td>\n    </tr>\n  </tbody>\n</table>\n<p>11390 rows × 1 columns</p>\n</div>"
     },
     "execution_count": 44,
     "metadata": {},
     "output_type": "execute_result"
    }
   ],
   "source": [
    "score_frame_norm.sort_values(WIKI_PATHWAY)"
   ],
   "metadata": {
    "collapsed": false,
    "pycharm": {
     "name": "#%%\n"
    }
   }
  },
  {
   "cell_type": "code",
   "execution_count": 47,
   "outputs": [
    {
     "data": {
      "text/plain": "                                        CleanedInChI      CID         NAME  \\\n0  InChI=1S/C10Cl10/c11-1-2(12)6(16)9(19,5(1)15)1...  16686.0          nan   \n1  InChI=1S/C10Cl10O/c11-2-1(21)3(12)6(15)4(2,13)...    299.0  chlordecone   \n2  InChI=1S/C10Cl12/c11-1-2(12)7(17)4(14)3(13,5(1...  16945.0          nan   \n3  InChI=1S/C10H10Cl2O3/c11-7-3-4-9(8(12)6-7)15-5...   1489.0          nan   \n4  InChI=1S/C10H10N2O/c1-8-7-10(13)12(11-8)9-5-3-...      nan          nan   \n\n  H_HT_class H_CC_class H_MF_class H_MFHB_class H_MFHC_class PC_HT_class  \\\n0        nan        nan        nan          nan          nan         1.0   \n1        1.0        nan        nan          nan          nan         1.0   \n2        nan        nan        nan          nan          nan         1.0   \n3        nan        nan        nan          nan          nan         1.0   \n4        nan        nan        nan          nan          nan         1.0   \n\n  PC_CC_class  ... PC_CCHBdl500_class PC_MFHCdl500_class PC_MFHBdl500_class  \\\n0         0.0  ...                nan                nan                nan   \n1         0.0  ...                nan                nan                nan   \n2         0.0  ...                nan                nan                nan   \n3         nan  ...                nan                nan                nan   \n4         nan  ...                nan                nan                nan   \n\n  H_CCHB_class H_CCHC_class        CAS Original-Mol-ID          Dataset-ID ID  \\\n0          nan          nan  2227-17-0        Mol-3576  HepatoBinary-Mol-0      \n1          nan          nan   143-50-0         Mol-396  HepatoBinary-Mol-1      \n2          nan          nan  2385-85-5        Mol-3633  HepatoBinary-Mol-2      \n3          nan          nan    94-82-6        Mol-2819  HepatoBinary-Mol-3      \n4          nan          nan    89-25-8        Mol-2486  HepatoBinary-Mol-4      \n\n                                               ROMol  \n0  <img data-content=\"rdkit/molecule\" src=\"data:i...  \n1  <img data-content=\"rdkit/molecule\" src=\"data:i...  \n2  <img data-content=\"rdkit/molecule\" src=\"data:i...  \n3  <img data-content=\"rdkit/molecule\" src=\"data:i...  \n4  <img data-content=\"rdkit/molecule\" src=\"data:i...  \n\n[5 rows x 29 columns]",
      "text/html": "<div>\n<style scoped>\n    .dataframe tbody tr th:only-of-type {\n        vertical-align: middle;\n    }\n\n    .dataframe tbody tr th {\n        vertical-align: top;\n    }\n\n    .dataframe thead th {\n        text-align: right;\n    }\n</style>\n<table border=\"1\" class=\"dataframe\">\n  <thead>\n    <tr style=\"text-align: right;\">\n      <th></th>\n      <th>CleanedInChI</th>\n      <th>CID</th>\n      <th>NAME</th>\n      <th>H_HT_class</th>\n      <th>H_CC_class</th>\n      <th>H_MF_class</th>\n      <th>H_MFHB_class</th>\n      <th>H_MFHC_class</th>\n      <th>PC_HT_class</th>\n      <th>PC_CC_class</th>\n      <th>...</th>\n      <th>PC_CCHBdl500_class</th>\n      <th>PC_MFHCdl500_class</th>\n      <th>PC_MFHBdl500_class</th>\n      <th>H_CCHB_class</th>\n      <th>H_CCHC_class</th>\n      <th>CAS</th>\n      <th>Original-Mol-ID</th>\n      <th>Dataset-ID</th>\n      <th>ID</th>\n      <th>ROMol</th>\n    </tr>\n  </thead>\n  <tbody>\n    <tr>\n      <th>0</th>\n      <td>InChI=1S/C10Cl10/c11-1-2(12)6(16)9(19,5(1)15)1...</td>\n      <td>16686.0</td>\n      <td>nan</td>\n      <td>nan</td>\n      <td>nan</td>\n      <td>nan</td>\n      <td>nan</td>\n      <td>nan</td>\n      <td>1.0</td>\n      <td>0.0</td>\n      <td>...</td>\n      <td>nan</td>\n      <td>nan</td>\n      <td>nan</td>\n      <td>nan</td>\n      <td>nan</td>\n      <td>2227-17-0</td>\n      <td>Mol-3576</td>\n      <td>HepatoBinary-Mol-0</td>\n      <td></td>\n      <td><img data-content=\"rdkit/molecule\" src=\"data:image/png;base64,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\" alt=\"Mol\"/></td>\n    </tr>\n    <tr>\n      <th>1</th>\n      <td>InChI=1S/C10Cl10O/c11-2-1(21)3(12)6(15)4(2,13)...</td>\n      <td>299.0</td>\n      <td>chlordecone</td>\n      <td>1.0</td>\n      <td>nan</td>\n      <td>nan</td>\n      <td>nan</td>\n      <td>nan</td>\n      <td>1.0</td>\n      <td>0.0</td>\n      <td>...</td>\n      <td>nan</td>\n      <td>nan</td>\n      <td>nan</td>\n      <td>nan</td>\n      <td>nan</td>\n      <td>143-50-0</td>\n      <td>Mol-396</td>\n      <td>HepatoBinary-Mol-1</td>\n      <td></td>\n      <td><img data-content=\"rdkit/molecule\" src=\"data:image/png;base64,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\" alt=\"Mol\"/></td>\n    </tr>\n    <tr>\n      <th>2</th>\n      <td>InChI=1S/C10Cl12/c11-1-2(12)7(17)4(14)3(13,5(1...</td>\n      <td>16945.0</td>\n      <td>nan</td>\n      <td>nan</td>\n      <td>nan</td>\n      <td>nan</td>\n      <td>nan</td>\n      <td>nan</td>\n      <td>1.0</td>\n      <td>0.0</td>\n      <td>...</td>\n      <td>nan</td>\n      <td>nan</td>\n      <td>nan</td>\n      <td>nan</td>\n      <td>nan</td>\n      <td>2385-85-5</td>\n      <td>Mol-3633</td>\n      <td>HepatoBinary-Mol-2</td>\n      <td></td>\n      <td><img data-content=\"rdkit/molecule\" src=\"data:image/png;base64,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\" alt=\"Mol\"/></td>\n    </tr>\n    <tr>\n      <th>3</th>\n      <td>InChI=1S/C10H10Cl2O3/c11-7-3-4-9(8(12)6-7)15-5...</td>\n      <td>1489.0</td>\n      <td>nan</td>\n      <td>nan</td>\n      <td>nan</td>\n      <td>nan</td>\n      <td>nan</td>\n      <td>nan</td>\n      <td>1.0</td>\n      <td>nan</td>\n      <td>...</td>\n      <td>nan</td>\n      <td>nan</td>\n      <td>nan</td>\n      <td>nan</td>\n      <td>nan</td>\n      <td>94-82-6</td>\n      <td>Mol-2819</td>\n      <td>HepatoBinary-Mol-3</td>\n      <td></td>\n      <td><img data-content=\"rdkit/molecule\" src=\"data:image/png;base64,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\" alt=\"Mol\"/></td>\n    </tr>\n    <tr>\n      <th>4</th>\n      <td>InChI=1S/C10H10N2O/c1-8-7-10(13)12(11-8)9-5-3-...</td>\n      <td>nan</td>\n      <td>nan</td>\n      <td>nan</td>\n      <td>nan</td>\n      <td>nan</td>\n      <td>nan</td>\n      <td>nan</td>\n      <td>1.0</td>\n      <td>nan</td>\n      <td>...</td>\n      <td>nan</td>\n      <td>nan</td>\n      <td>nan</td>\n      <td>nan</td>\n      <td>nan</td>\n      <td>89-25-8</td>\n      <td>Mol-2486</td>\n      <td>HepatoBinary-Mol-4</td>\n      <td></td>\n      <td><img data-content=\"rdkit/molecule\" src=\"data:image/png;base64,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\" alt=\"Mol\"/></td>\n    </tr>\n  </tbody>\n</table>\n<p>5 rows × 29 columns</p>\n</div>"
     },
     "execution_count": 47,
     "metadata": {},
     "output_type": "execute_result"
    }
   ],
   "source": [
    "from rdkit.Chem import PandasTools\n",
    "\n",
    "sdfile = '/Volumes/TOSHIBA EXT/data/Yitao/Public_compounds_heptox_classification_curated_CID.sdf'\n",
    "\n",
    "hepatotoxicity = PandasTools.LoadSDF(sdfile)\n",
    "\n",
    "hepatotoxicity.head()"
   ],
   "metadata": {
    "collapsed": false,
    "pycharm": {
     "name": "#%%\n"
    }
   }
  },
  {
   "cell_type": "code",
   "execution_count": 48,
   "outputs": [],
   "source": [
    "hepatotoxicity = hepatotoxicity.replace('nan', np.nan)"
   ],
   "metadata": {
    "collapsed": false,
    "pycharm": {
     "name": "#%%\n"
    }
   }
  },
  {
   "cell_type": "code",
   "execution_count": 54,
   "outputs": [],
   "source": [
    "hepatotoxicity = hepatotoxicity[hepatotoxicity.CID.notnull()]\n",
    "hepatotoxicity['CID'] = hepatotoxicity.CID.astype(float).astype(int)\n",
    "hepatotoxicity = hepatotoxicity.set_index('CID')"
   ],
   "metadata": {
    "collapsed": false,
    "pycharm": {
     "name": "#%%\n"
    }
   }
  },
  {
   "cell_type": "code",
   "execution_count": 55,
   "outputs": [
    {
     "data": {
      "text/plain": "                                            CleanedInChI  \\\nCID                                                        \n16686  InChI=1S/C10Cl10/c11-1-2(12)6(16)9(19,5(1)15)1...   \n299    InChI=1S/C10Cl10O/c11-2-1(21)3(12)6(15)4(2,13)...   \n16945  InChI=1S/C10Cl12/c11-1-2(12)7(17)4(14)3(13,5(1...   \n1489   InChI=1S/C10H10Cl2O3/c11-7-3-4-9(8(12)6-7)15-5...   \n5215   InChI=1S/C10H10N4O2S/c11-8-2-4-9(5-3-8)17(15,1...   \n\n                                   NAME H_HT_class H_CC_class H_MF_class  \\\nCID                                                                        \n16686                               NaN        NaN        NaN        NaN   \n299                         chlordecone        1.0        NaN        NaN   \n16945                               NaN        NaN        NaN        NaN   \n1489                                NaN        NaN        NaN        NaN   \n5215   sulfadiazine;sulfadiazine sodium        1.0        0.0        1.0   \n\n      H_MFHB_class H_MFHC_class PC_HT_class PC_CC_class PC_MF_class  ...  \\\nCID                                                                  ...   \n16686          NaN          NaN         1.0         0.0         1.0  ...   \n299            NaN          NaN         1.0         0.0         1.0  ...   \n16945          NaN          NaN         1.0         0.0         1.0  ...   \n1489           NaN          NaN         1.0         NaN         NaN  ...   \n5215           0.0          1.0         0.0         0.0         0.0  ...   \n\n      PC_CCHBdl500_class PC_MFHCdl500_class PC_MFHBdl500_class H_CCHB_class  \\\nCID                                                                           \n16686                NaN                NaN                NaN          NaN   \n299                  NaN                NaN                NaN          NaN   \n16945                NaN                NaN                NaN          NaN   \n1489                 NaN                NaN                NaN          NaN   \n5215                 0.0                0.0                0.0          0.0   \n\n      H_CCHC_class        CAS Original-Mol-ID          Dataset-ID ID  \\\nCID                                                                    \n16686          NaN  2227-17-0        Mol-3576  HepatoBinary-Mol-0      \n299            NaN   143-50-0         Mol-396  HepatoBinary-Mol-1      \n16945          NaN  2385-85-5        Mol-3633  HepatoBinary-Mol-2      \n1489           NaN    94-82-6        Mol-2819  HepatoBinary-Mol-3      \n5215           0.0        NaN        Mol-1740  HepatoBinary-Mol-5      \n\n                                                   ROMol  \nCID                                                       \n16686  <img data-content=\"rdkit/molecule\" src=\"data:i...  \n299    <img data-content=\"rdkit/molecule\" src=\"data:i...  \n16945  <img data-content=\"rdkit/molecule\" src=\"data:i...  \n1489   <img data-content=\"rdkit/molecule\" src=\"data:i...  \n5215   <img data-content=\"rdkit/molecule\" src=\"data:i...  \n\n[5 rows x 28 columns]",
      "text/html": "<div>\n<style scoped>\n    .dataframe tbody tr th:only-of-type {\n        vertical-align: middle;\n    }\n\n    .dataframe tbody tr th {\n        vertical-align: top;\n    }\n\n    .dataframe thead th {\n        text-align: right;\n    }\n</style>\n<table border=\"1\" class=\"dataframe\">\n  <thead>\n    <tr style=\"text-align: right;\">\n      <th></th>\n      <th>CleanedInChI</th>\n      <th>NAME</th>\n      <th>H_HT_class</th>\n      <th>H_CC_class</th>\n      <th>H_MF_class</th>\n      <th>H_MFHB_class</th>\n      <th>H_MFHC_class</th>\n      <th>PC_HT_class</th>\n      <th>PC_CC_class</th>\n      <th>PC_MF_class</th>\n      <th>...</th>\n      <th>PC_CCHBdl500_class</th>\n      <th>PC_MFHCdl500_class</th>\n      <th>PC_MFHBdl500_class</th>\n      <th>H_CCHB_class</th>\n      <th>H_CCHC_class</th>\n      <th>CAS</th>\n      <th>Original-Mol-ID</th>\n      <th>Dataset-ID</th>\n      <th>ID</th>\n      <th>ROMol</th>\n    </tr>\n    <tr>\n      <th>CID</th>\n      <th></th>\n      <th></th>\n      <th></th>\n      <th></th>\n      <th></th>\n      <th></th>\n      <th></th>\n      <th></th>\n      <th></th>\n      <th></th>\n      <th></th>\n      <th></th>\n      <th></th>\n      <th></th>\n      <th></th>\n      <th></th>\n      <th></th>\n      <th></th>\n      <th></th>\n      <th></th>\n      <th></th>\n    </tr>\n  </thead>\n  <tbody>\n    <tr>\n      <th>16686</th>\n      <td>InChI=1S/C10Cl10/c11-1-2(12)6(16)9(19,5(1)15)1...</td>\n      <td>NaN</td>\n      <td>NaN</td>\n      <td>NaN</td>\n      <td>NaN</td>\n      <td>NaN</td>\n      <td>NaN</td>\n      <td>1.0</td>\n      <td>0.0</td>\n      <td>1.0</td>\n      <td>...</td>\n      <td>NaN</td>\n      <td>NaN</td>\n      <td>NaN</td>\n      <td>NaN</td>\n      <td>NaN</td>\n      <td>2227-17-0</td>\n      <td>Mol-3576</td>\n      <td>HepatoBinary-Mol-0</td>\n      <td></td>\n      <td><img data-content=\"rdkit/molecule\" src=\"data:image/png;base64,iVBORw0KGgoAAAANSUhEUgAAAMgAAADICAIAAAAiOjnJAAAABmJLR0QA/wD/AP+gvaeTAAAgAElEQVR4nO2deVwT19rHn0lIAgFkUVlkFzc2W0HwIqBVW6wWt1rFDatya7XeUq+1Va61+FZ91VZbaKt16VWhishHqVKXWrcqUAtlURBZBGSXNQSykHXm/WPum+YikAQymQyd76d/1Jk58/xSfz3nzMx5noNgGAY0NPqGQbYAmqEJbSwaQqCNRUMItLFoCIE2Fg0h0MaiIQTaWDSEQBuLhhBoY1EGDLBsUfb5jvNXO6+KUBEAXOBfmFMxh2xdvWNCtgAarWiSN82vnP9M9iyQG9gob2xWNKd7pnej3e2KdrKl9Q5tLGoQXRvNQBjlPuU2TBsASOlIcWO7lUpKydbVJ7SxKABfyb/eef2Xsb/grgKAZTbLyJWkEXqORQGqpFUYYAHcALKF6ABtLArQjXYDAAfhkC1EB2hjUQB3jjsAVEmryBaiA7SxKMAo1qixnLGHWw+TLUQH6Mk7BUAA+c71u4jKCL6S/4bVGzJMdrXz6v+O+l+ydfUH3WNRg1mWswomFDixndL4aZnCzPBh4U5sp3GccW9av0m2tN5B6KXJlGBz/WZ3tvu64euGMYeRrUUraGNRgDZFm2ORIxOYLRNbqGIseiikAGn8NAWmCB8WThVXAW0sSnCRfxEAFlsvJluIDtBDobHDV/LtC+0xwJr8mmxNbMmWoy10j2XsXOJfkmGyGZYzKOQqoI1l/FBxHAR6KDRyBEqBXZGdHJM3+jXamdiRLUcH6B7LqLnSdUWCSsIswqjlKqCNZeRc7KDkOAj0UGjMiFGxXaGdGBXX+Na4sF3IlqMbQ7nHqpZVX+u8dldwF1/PlCfOm1I2hWxROnC967oIFQWbB1POVTBUVzd0o93ratZd6rw00WyiQCloU7Sd8zjHQTjUWtKUeS4zbHTYErslZAsZCEPTWDuf7/xN9FuhV+FYzlgAON9x3s7ErlPZSbYuHZBKpSe3n+zq6jpdeZpsLQNhaA6Fie2J2+23464CgEibSD8zP3Il6crNmze7uroCAgJGjx5NtpaBMASN1ansbFO0BZkHkS1kUFy8eBEAFi+m3vMgzhA0lgAVAIAZw6zXs43yxsVVi+vl9YYVpRtyuTw9PR0AFi1aRLaWATIEjTWKNYqDcKql1b2e/ajhozR+2kslL13iXzKsLh24e/cuj8fz8/ObMGEC2VoGyBA0FgMYwRbB37d/3+vZBOeEeVbzeAreoqpFq6tXi1GxgeVpA9XHQRiqL0jzxHkzns4ItwxfZruMhbBud91earMUABZVLWqd2AoASbykjbUbxajYy9QrxSNlotlEsiX/CYqiTk5OTU1NRUVFvr6+ZMsZIEOwxwKAAG5A/oR8Z7bz8bbjp9pODTcZPpozeqTJSFXqwWrb1TkTcvzM/EokJVPKpiS0JJArWJ2MjIympqaxY8dS11UAANhfGLFSHFMXA3kAebCwcmG7vJ1sRRiGYe+//z4AxMbGki1kUAzNoVAn0vhp79S+w1PwXNguZ9zPTLOYRqIYDMPc3Nzq6upyc3MDAqhUrKEnZDvbKKiR1oSWhUIeMPOZ2+q3yVAZWUouXboEAO7u7iiKkqVBLwzNOZauuLJd7469u8NhBwAcaD4w6+msus46QwqoqalJSEgIDQ1dtGiRm5ubg4MDgiCGFKB/yHa2cXG3665zofNLOS/ZjrA9d+4c0eFKSkr27t3r7++v+uvgcrkmJiYAcOHCBaKjEwptrJ60ydui/hmF/zVv2LBBLBbrPcTjx4/j4uLUp1BcLjciIiIxMVEgEHz77bcAYG1t/ezZM72HNhi0sXonMTGRy+UCgJeX18OHD/VyT9xP6i/TbWxsoqKi0tPTJRKJ+pULFy4EgNDQULlcrpfQhoc2Vp8UFxdPnDgRAExNTePj4wc2m1Yqlbm5uXFxcWPHjlX5afjw4bifpFJpr614PJ6rqysAxMXFDeo3kAdtrP7o7u6OiYnB3bBgwYK2tjYtGyqVyoyMjJiYGCcnJ5WfnJ2d169fn56erk0/dP/+fSaTyWAwbt++PbgfQQ60sTSTlpZma2uLO+PXX3/t50qFQoH7ycHBQeUnNze3mJiYjIwMXfu8nTt34kG1N7TxQBtLK2pra8PCwgCAwWDExMTIZP/1oqu7uzs9PX39+vUjR45U+Wn06NHa+AlF0QcPHmzdujUqKqrHKblcHhISAgBvvPEG5V5r0cbSFoVCERcXx2QyASAoKKiyslIsFqenp0dFRQ0b9mcRGG9v77i4uNzc3P7vphornZ2d8YYMBqOxsbHHZbW1tXhneeTIEcJ+GSHQxtKNX3/9FbeCubm5qakp7gkEQQIDA/fv3//06dP+m6vGSkdHR5UXXV1d8b5NqVS+2OTChQv4A4S+Hk4NA20sneHz+a+++qqTkxOCIAEBAXFxcRr9JJFIbt68GRMTY2f3Z0Kzh4eHlnOvd955B+8LRSKR/n4HsdDGGgh4LzJ37tz+L8PnXlFRUVZWVupj5bZt2zIyMrQP193d7efnBwAbN24cnHDDQRtrIODGevPNN3s9KxKJcD9ZWlr2mHs9efJkYBGLiorMzMwAICUlZRDCDQdtrIHQq7HEYvHp06fnzZunPvcKDg4+ePBgVVXV4IN+/fXX+Kee6urqwd+NaGhjDYRejSUQCPBOhcFghISExMfH19XV6TEoiqILFiwAgLCwMIVCocc7E8HQzIQmBQsLi23btjk6Oi5cuFB9kq4vEAQ5derUyy+/nJGRsWfPnri4OL2H0CdkO5uS9D/HIpR79+7hn3ru3Llj+OjaQy/0oxjTpk3bvn07iqKrV69ubzfS7VVhqGbpDG127do1derU+vr69evXk62lT2hjUQ8TE5OUlBRbW9u0tLRjx46RLad3aGNREhcXF9xSmzdvLiwsJFtOL9DGoipvvfVWdHS0RCJZsWJFd3c3obFaFa2/i34vlhRjgAHAfeH9Zc80bEpNG4vCJCQkeHl5FRcXf/TRRwSFEKPiqOoopyKnNTVrppdP937iXSwp5il4j7of9d+QNhaFMTc3T01NNTMzO3z4MJ6QqHe2NmzNEmY99n5c6l3aOrH1nRHvoBiqTUP6BSm18fX13bdv3+bNm9etW+fj4+PiorkMLmKCYAzN6e8IgjCBear91HHX4+M44wAAAWSL3RYAqJRWamxOG4tK4MsDX3nlFfWDMTExV65cuXPnzrhx47S5ybSfpt0fdV/jZQxgVPhWSFDJVPOpA5BKD4VUYu/evTNnzty1a5f6QQzD8GwfExMTjhawEBYH4Wj8x5RhylfwAWBgmyTSPRZlyMzM3L17N4Ig+Op7Ffv378/IyLCzs3v06JF6Esfg4Sl4AFAnqxtpMlLjxT2geyxqwOfzo6KiFApFbGzsrFmzVMf/+OOPXbt2MRiMM2fO6NdVAGBrYjuWMzaJlzSAthTosTKEGSWSkvUjdP58wVPwOtFOD7YHEaoMzMaNG6urqwMDA9UXNXR2dkZGRsrl8o8//vi1114jIu6Xzl++WfUmAsh8q/kIID93/bxuxDptGhpXj6XElHua9ngWezLyGXaFdlvqt0gxab44P42fprFttax69/Pd62vXb23Ymi/OB4CUjpS/1/ydeNWEc+zYsZSUFCsrq/Pnz7NYLNXx995779mzZwEBAbt37yYodIRVxK/jfm2SN21t2Po/Tf+jBKUFw8KeZR9qEdp/Q+PqsT5s+PAc79wJtxNhFmHV0urtjduLu4u1aXhbcHte5bzXLF+bbjm9VlY7rXza9THXiVZrGJ48ebJlyxYAOHLkiIfHn73vyZMnk5OTLSwskpOT2Ww2cQKmmk+d6vFfD4ajWKOCzYM1NCN73c6f8BQ8dj77HK9n8aD45vjZT2f301CBKtyK3DbVblIdqZJWoRh6uOXwzPKZREg12HosiUTy0ksvAUB0dLT68adPn+IL6n/44QeiNQwMIxoKSyWlMkwWYRWha8MKaUWNrAZ/d4fjwfZA4D+FyxSYQm8SDc6HH3746NGjMWPGfPXVV6qDUql06dKlAoFg9erVq1atIlFePxiRsZrkTVwG14JhoWvDalk1C2G5sd16PZvIS3QocphXOe9A84FMYaYUkw5aqYG4du3akSNHOBxOamqqesLP9u3bCwoKPD09v/nmGxLl9Y8RzbEcWA5iVCxQCiyZlpqvVoONsJWYUglKJjBfPPtQ/LBZ3nyl88qVzisAwGVwA7mBoRahU82nTrWYas201o96fdPQ0PD2229jGHbgwIFJkyapjl+/fj0hIYHFYp09e1Y9td/YMCJjjeeMZyGsn7t+XmLTyw59CkzRpGhyZjm/eMqT44kC+rj7sT/X/8Wz37h8E+sQmyXMyhRlZgmzCsQF94T37gnv4WdHc0aHmIeEWoSGWIR4m3qrBlBywVcet7W1zZkzR1VHCQCam5vXrl2LYdi+ffumTDHuTT1JnuP9N+/VvudU6HSr65YMlQmVwnO8c1JUGt8cH1Ia4lHkEVQa1FfDKaVT5lbM7VZ243/E/6XXyXubvC2dn769YXtoWahpgSle5B3/x7HQcVPCpq+++io7O7v/ElZET94/++wzALC3t29qalIdVCqVr776KgDMnj3b+IvPGFGPBQDxzvFWTKvlz5Z3KjuZCDPEPCTMIoyNsG1NbCtllTminLuCuzMsZ7zYMMk9aW7FXN8S32kW0ySo5Kbg5m/jf+s1xHCT4fOs5s2zmgcACkzxqPtRpjAzS5R1T3CvRdHyw4Efuhq7AIDL5U6aNCkgICA0NHTmzJnDhw8n9Ierk5OTs3v3bvxlur29ver4gQMHbt26ZWdnd/r0aQrUVCbb2b0jVAp7HNn9fDfkQT/vHSSo5Cf+T4dbDifzkqukVRiGVUgqfhX0VyetB+WC8lOnTkVHR3t5ean/zTEYDF9f3w0bNiQlJVVWVmJE9lgdHR3u7u7wws4UOTk5bDYbQZArV67oPSgRGKmxXoSn4Fk+tIQ8yBPlGSBcW1tbenr6tm3bQkNDVSnzOI6OjsHBwQDw2muv6T3u8uXLASAwMFC9PKlAIMBLmH700Ud6j0gQlDEWhmFb6rZAHiyvWm7guHK5PDc3Nz4+fsmSJaoUZwsLC1Ar26eXQMePH8fvXF5ern585cqVABAQENBXMVwjhErGqpfVs/PZzHzmU4mGelSEUlZWNnfuXADAKzXgjBkzZtu2bTk5OQOeVpeXl+NmPXPmjPrxkydP4m4rLS3Vh3wDQSVjYRi2tnot5MF7te+RK2PGjBkAkJ6ejpfnGzVqlMphLi4uMTExN2/e1LVE+7Vr16ysrNasWaN+UPXpJikpSa+/gHAoZqzS7lJGHsO0wPS57DlZGpRKJf5msrm5WXUkIyNj27Ztnp6eKoeNGDECL+beoxJuP1RVVQkEAtUfZTJZUFAQACxdulT/P4NgKGYsDMMWVCyAPNjRsIMsAUVFRQDg4eHR61l8+4nx48erHGZra9v/dgF98c9//hMAPD09Ozs79SHcoFDPWNnCbMgDq4dWfAWfFAH//ve/AWDZsmX9X4Y7zNvbW+Uwa2vrJUuWJCYmCoU9X6a8yPXr1xEEYbFYDx480JNwg0I9Y2EYNq1sGuTBwaaDpER/9913AeDLL7/U8vrKysr4+PiQkBDVuzEzMzN8S6aurq5emzQ3N+PrjD///HP9CTcolDTWVf5VyAOnQicpSsLj98svvwwAmZmZujZ89uxZD4eZmpriDuPz/+x9lUolvs44PDy81wLdlICSxkIxdOKTiePyxyXfSzZwaLFYzGKxTExMBlMZu7a2Nj4+/tVXX8W3JgQAJpOJV5dsamrav38/AIwcOfLF/QQoBCWNhWFY6q1UhIF4eXkZ+P/pjIwMAJg0aZJe7tbY2Hj48OGZM2fiG17gDmMwGAiCXLt2TS8hyIKqxlIoFPiz/Y8//mjIuIcOHQKADRs26Pe27e3tiYmJERERLBbLxcXF19dXv/c3PFQ1FoZh+PrJoKA+19IQQWRkJACcPHmSoPs/efKEzWYzmUyNu10YORQ2lkgkwnfb6n+rN/2CLz14/PgxcSHWrl0LlNqEolcobCzs/xfEzZkzxzDhWlpaAMDS0pLQMuulpaUMBsPU1JTSk3cjSqYYAJs2bbKwsLh+/XpBQYEBwmVnZwPA5MmTVXNtIhg/fvz8+fMlEgm+6zhFobaxbG1t8Z2xDh48aIBwOTk5AGCAxeaxsbEAcPjw4c7OTqJjEQS1jQUAW7ZsYbPZ58+fr6zUXA1skODGwj8ME0pQUND06dM7OztPnDhBdCyiIHss1gNr1qwBgE2bNmm+dBCgKIqvfK+vryc0EM61a9cAwMnJiUKL+9QZCsYqKSnBZ7vPnxO4lqasrAwARo0aRVyIHuDphN9//73BIuoRyg+FADBhwoR58+ZJJJLDhw8TFwUfB//2t78RF6IHW7duBYAvvvgCRbWqJ2tUDAVjAcC//vUvAPjmm29KS0sJCoEbKzAwkKD7v0hkZKSnp2dZWdnly5cNFlRfDBFj+fv729nZ2djYeHl5+fj47Nq1q7y8XL8hDPZIqILJZOJr/VLLUw0WVG+QPRbrhx07dgCAhYWFubm56qf5+/vv3btXLzkIUqmUw+EwGAwDL+YUiUTB+cGQB3e77hoy7uAZCsZS38Kv1/29B5+khb8a9fHx0aNsLfms8TPIg9efvm740IOB8sbi8Xiurq4AsGvXLvXjCoUCT6FRz1J3d3fHHaZrkhb+wXvdunV61a4VBs7U1RfUNpY22ySrHObo6KhymKurK+4wLZdzRUVFAcB3332nV/naQlam7mCgtrF02th9MElaeNZNfn6+/rTrgJFk6uoEhY1VVFSE5yKnpKTo2hZPoVHfI6SfJK2Ojg78Baz2GYJ6Z031GmPI1NUeqhqru7vbz88PXli3VFJSUlVVpf19cId5eXmpHGZtbR0VFZWamqpK0rpx4wYAhISE6PMH6EhJdwnpmbo6QVVj4YsavL291ZMaxGKxr6+vlZXVAHLxVElaKodxuVw8heaTTz4BgC1btuj1F+gMnqn7ScMn5MrQEkoaCy9PZWpq+vDhQ/XjGzduBICxY8eqJ6rrSnl5+b59+yZPnqxyGL76auXKlVlZWSR+EsYzdW0e2nQpes9GNCqoZ6za2lpbW1sAOHLkiPrxtLQ0AOBwOAUFBXoJVFNTgydpMRgMVZ6WiYlJQEBATExMampqS0uLXgJpD56pe6j5kIHjDgCKGUsul+Oj1aJFi9SP19XV4Wtavv76a70Hxef4kZGRvr6+DMafH8EQBPHy8oqOjj516lRZWZne474IuZm6OkExY+3cuRMAnJ2d29raVAeVSuXMmTMBYM6cOURUfcWn9sXFxRiGdXR0XL169ZNPPpk+fTqXy1X/OGZnZ/d++vtfNH2RJcwa8F98UntSuaS8r7MohgaUBKx+trpN3tbjVJeiS4aS9tD6IlQylurTze3bt9WP4xtDOjk5tba2EhFX3VjqKBSKx48fHzt2LCoqys3NDQD8f/fHCzCb5JsElATE1MWk8lJb5b2rapW3xtTFeBV7uRa5zn46+3fh7xiG+T3xS+Wl9iNGjsoxDHskfnSo+dDOxp3neOdwP/mX+J9tP6ufH6wPKGMs1aebuLg49eMZGRkmJiYMBuPWrVsEhe7LWD2orKw823x2Q80G3ye+jDyGqso3kod4FXv9vebvp9pOlUn+M2KKlCKfYp+g0qBfOn8pFBfue75vaulUBarQaCwMwz5t/JSdz46sitxct9nvid+U0ilyVE4ba4Dgn25CQ0PVP92oagzv2EFguSwtjaVOh6LjKv/qjoYd08umcwu46tXk7R7Zfd70+bHWY8MeDuMpeKomKIZiWvRYWcIsJA+50XkD/6MUlWYLszHj67GMq857X3z77beXL1+2trY+c+aMeupVr9tDGgPWTOu5VnPnWs0FAAWmKJOWZQmzMoWZ94X3a2Q1bIRdIC4Itwy3Ydqommi5KcbVzqvB5sHhw8LxP7IRdpA54ckdA4ACxiouLv74448B4OjRo/hUBqev7SGNDRPExMfUx8fUB98ktlJaacW0WluzdjRn9ADuViWt8jL10nwd2Ri7sSQSyYoVK7q7uzds2IDXTcDpa3tI48eT4wkAI0xGtCvaB3YHDDC9KiIEY1+a/MEHHxQWFnp7e+NlXnCkUumKFSvEYnF0dPSKFStIlDdgvEy9soRZckyua8PRnNElkhIiJOkXozZWWlra8ePHTU1Nk5OT1V8a9bo9JLWIso3iK/mb6zdLUAkACFFhnjhPm4YRVhG/i36/LbhNsMDBotVQKEJF+eJ8GSbzM/OzM7EDgJCykG9dvp3EnaSx7YCpr6/HvzQfOnQI374Wp6/tIamFI8vx+pjr62vXWz2ycmI5NSua3x7+dgA3QGPDYPPgWIfYuRVzl9ksG8MZ81T6tF3ZftXzqgE064bG58bjrcctH1p6PvacXDKZW8Dd/Xw3hmHDHw3PFOhchFN7lErlK6+8AgBvvPGG+sv0+vr6ESNGAEB8fDxx0XswgNcN2tMga6iQVKg2xNPyBXquKHfv8707GnYcbT2KL6Q52362tNuItq7QYKxMQSYjj5HU/p9tER53Pz7ZdhIj3liffvopADg5ORny001fEGqsoYqGoTCRlzjDckaUbRT+R/yxWXW2TdGm5RMKAgjWoe2zTHZ29t69exkMRlJSkvpGgXv27Llz5469vf2pU6cosGHfXxsNxnoqfRpiHtLXWftCexS0yv5GAMECtDUWk8lEUfTjjz/G+ycV7e3tTCbz7Nmz6ok3NMaJBmMJlUJzhnlfZ0eyRioxpTZhGMBAR2hbgEAikQiFwsbGxh7HExISNm7cOGHCBC3vQ0MiGozlxnarkdX0dbbJr0mHUK3aXlhRUeHv7//DDz+Eh4evWrVK/RTtKqqg4T3WVIupF/gXupRdhlGDo3pBtXHjRr2XYKAxDBqMtWHEBmeW89SyqUm8pDuCO/Et8V+1GOKdJP5KXSgUrly5UiaTGSAijX7RYCwug5sxLmOF7YpkXvKepj1PJE8CuYEAMN9q/giTEYQqwz8C5ubm4q8eaCgG2e87+iMnJ4fFYjEYjF9++YVEGfR7rAFg1N8K8YVWKIquWrWqqUmXBwUasjFqYwFAbGzsrFmzWlpa1q5di2EUWC5Cg2PsxmIwGImJiSNGjPj555/j4+PJlkOjLcZuLABwcnJKSkpCECQ2NjY/P59sOTRaQQFjAcCcOXP+8Y9/SKXSyMhIgUBARAgURTMyMjZv3rxnzx4i7v+Xg+ynB22RSCT4nrn4ZEtfqMqyjRo1Cv8P4uTk1KMaG/1UOAAoYywMw8rLyy0sLADgzJkzg7yVToUkaWMNACoZC8Ow48ePA4CFhUV5eZ956P3Qf+nbvtZ40cYaABQzFoZhy5cvB4DAwEDtKwqJxWLcT+pLmb29vePi4jTaRaFQ4DmxtLF0gnrGUmU/x8bGarwyNTU1KipKvfg77ieNxd9VY6WDgwMA2Nvbv/766+rLWWn6h3rGwjAsOzsb/9Rz8+bNF892dHScOHHi9ddfZ7PZuJkYDMa0adMSEhJqa2v7v3N3d/fly5dXr15tY/NnjrKHhwc+t3Nxcbl37x4xv2moQUljYf+/aa+9vX1TU1OPU7m5ubghmExmSEhIfHx8Q0ND/3dTjZXDhg3r0bfl5uZiGFZbWxsWFoZ7NCYmhsQqt1SBqsbqJ7ECRdE1a9acPHlS48glEolwP+EdkrqfSkpKelysUCji4uLwyhFTpkyprKzU808aWlDVWNggUsF4PF5iYmJERASHw1GNlQEBAXFxcRofNh88eIBn9A8bNiw5OXkQ8oc4FDYWhmFXr15FEITD4WhT2r+trQ33k/rcCx8rddo0lc/nq6pIREVFqap206hDbWNhGLZp0yYAGDNmTFdX77WE6+rqjh07FhERoSpQq5p7DWZH1sTERDzrf8KECfoqpzuUoLyxJBIJnoAfHR2tfry6uhqv267KQDQ1NY2IiDh27Fhzc7NeQhcWFvr4+ACAGdfs+4rv8cppNDiUNxaGYcXFxXjncfbs2aqqqh5+MjMzw/cBIGKrwe7u7piYmOnHp0MezK+Y/2LN2b8sQ8FYGIYdPXoUAFSTcQCwsrJauXLlxYsXxWIx0dEv8i7aPLTBC2VTbsdKgkCwobIs08PDQ6FQCASC+fPnL1myJDw8XN1nRFMnq1tVveq+8D4CyPt27x90OshCjLfIoAEYIsZqa2tzdHRkMpmNjY34vhWGR4kpD7Yc3Nm4U47Jg8yDkt2T8eJ9f02osdBPI2lpaQqFIjw8nCxXAQATYW6z35YxLsOD7ZEjyvEv9U/mJZMlhnSGiLEuXrwIAIsXLyZbCEwxn1LgVbDMZlmXsmtl9crV1auFqJBsUWRA9iRPD3R0dLDZbBaL1d7eTraWP0lsTzQvMIc8GF88Pl/0n/e3MlRWKC4sEBeoKq2FlIXUSjV8GqciQ6HHunTpkkwmmzlzJonj4Iustl2dPSHb18y3TFJ2tO0oAHzf9r19of2sp7MWVC5wKHI4wzsDAFnCLDEqJlus/jH2ctzaYDzjYA98TH1yxuccaD7wkf1HtwS33q1997T7abyK3W3B7SppFdkCCYTyT4UCgcDOzk4ulzc2NtrZ2ZEtp0+WPlsqx+Q/jv6xx3EkHyn1Lh1vOp4UVcRB+aHwp59+kkgkYWFhxuwqACiXlIeah5KtwnBQ3lhGOw72gK/kWzGtNF83VKC2scRi8Y0bNxAEWbhwIdlaNODKdq2T15GtwnBQ21jXrl0TiUTBwcHOzs5ka9FAkHnQOd45LUu2DgGobawHTg+CtgYtXbWUbCGa2Wq3VYSKZlfMvt51PV+cf6LtREpHCtmiCITCT4VSTGpXaNel7KryrfJgU2ADsAZ5w/6m/b+JfsMAG8cZ997I96ZZTJv5dGaSe5Izy9h7XF2hsLF+6vxpfuX8yVZUaYcAAAHKSURBVNzJf0z4g2wtND2h8FB4kX8RABZbG/vz4F8TqvZYckzuUOTAU/CG5NvFIQBVe6w7gjs8Bc/PzI92lXFCVWPR46CRQ0ljKTHlZf5lAHjL5i2ytdD0DiWNlSHMaFG0jOOMU9/jjsaooKSx8HGQ7q6MGeoZCwPsEv8S0BMs44Z6xnogelAvr3dnuxO61TnNIKGesf4Q/cEAxmKbxQjQu/caLxR7QdoobxSjYgQQM4bZKNaoD+o/eNP6zekW08nWRdMTyvRYv4t+n1gy0f2xe0hZyMslL5/lnQWATGFmg6yBbGk0vUANYz2XP59TMSfEPKTrpa7mic33xt1rkjf9ddY2URFqZOmc5Z21ZFp+7fI1XhDBn+vvz/UnWxRNf1CjxyqTloWYh/zFy2xQC2oYq13Rbs20JlsFjQ5Qw1gubJdGeSPZKmh0gBrGCuAG3BbcblW0ki2ERluoYaxIm8hxpuNmV8y+0XWjSlr1c9fP37V+R7Yomv6gxlMhB+HcGXtnT9OeD+s/FKEiV7brStuVAOBt6j3cZDjZ6mh6gWJv3mmoAjWGQhrKQRuLhhBoY9EQAm0sGkKgjUVDCLSxaAiBNhYNIdDGoiGE/wPj4Edhb76OZAAAATl6VFh0cmRraXRQS0wgcmRraXQgMjAyMC4wOS4xAAB4nHu/b+09BiDgAWJGBggQAWJRIG5gZGPQANLMLOTTCkAaRgmCKUYKKW4GRgUGFg0mBi4GRlYNJiCfiVmBiU2DiYmHgZldg4mZl4GFg4GFj4GVg4GVn4GNk4FNgIGdk4FdkIGDk4FDiIFTmEGEiRWomYOFlYmZnZNNHOZxBpEfwYvtYZyND0/a/QieDea/OZB5YPYz2wMgtlqw4QHvE60HkNTsB7EzlFqAtIM9TI1d5QOw+H6+NftnP8s9gKQGSZwXLP5npaEDzN4TM6Lt075rgPllD5bA7T36z+8AQ/5mMDtsfrM9xxoVMNtgN/+BntsXwPbOfhZ5AOimfSA20x7WfQZak8FqsmfJHzA2vgwWz8z/YGvSoAwWFwMA9fBZpBExam8AAAFWelRYdE1PTCByZGtpdCAyMDIwLjA5LjEAAHicpVTLbgMhDLzvV/gHFvmJ4dzNqWoPPfQfKvXY/1dNSAiHRmoIQisPxrPM4N0N2vg4Xr9+YAw+tg0YgQkA/5y1VvhkRNzafkrsGVuEKdbm6AXuUcxz6xVSVS58JLbEskvKxtoiTjU7r7FwckdvkSYq5+gZRfsziiihsPRat0V3J0UULLKmKGpFlbvPTqvuDkX7M4puZ+Fwd/Es0Hy517vfD9x0MS+dLyvSEstuie727v9ZJLH0rrOU0WVNUdwRF+lnMZc1X9rNqJXOl4V8VZGieu+X6z/icRZMJJj7N2211FVFWqV0PiW2NXfjLOSXmzbTJV+iyfj8vAA74w6IRibW8sgw0K0mfNQZ+NgmQDIysaeMjALdauKNdQJkA+Q5k4HyAA6EM/ABypwJUAaocybAoI5lvmbeAE7vx/YL1AIPiQP5D7gAAADRelRYdFNNSUxFUyByZGtpdCAyMDIwLjA5LjEAAHicVVBJDsQgDPvKHFuJRlkJqOqJ7/QJffwQus1cUGJjx0nbG21tavs8nqnxU//AW+O3pLZ/jonBPSdMKwGfBYJUlbR0gMSCQC69ZzCXtHYchXuP4J3tsFYp0SqxDV5UOf4zOYcfkevQm/pQuKPHADcJQECxM8s1OYBsPCQ1h8ViQP/A7aFABU8PlkhtkPGKecYQ8BGju5NgDonVUt9Fnj1YrSSCLOTPFe4jIBTzkhiyIqX5+AIYa0tRrqZs9wAAAABJRU5ErkJggg==\" alt=\"Mol\"/></td>\n    </tr>\n    <tr>\n      <th>299</th>\n      <td>InChI=1S/C10Cl10O/c11-2-1(21)3(12)6(15)4(2,13)...</td>\n      <td>chlordecone</td>\n      <td>1.0</td>\n      <td>NaN</td>\n      <td>NaN</td>\n      <td>NaN</td>\n      <td>NaN</td>\n      <td>1.0</td>\n      <td>0.0</td>\n      <td>1.0</td>\n      <td>...</td>\n      <td>NaN</td>\n      <td>NaN</td>\n      <td>NaN</td>\n      <td>NaN</td>\n      <td>NaN</td>\n      <td>143-50-0</td>\n      <td>Mol-396</td>\n      <td>HepatoBinary-Mol-1</td>\n      <td></td>\n      <td><img data-content=\"rdkit/molecule\" src=\"data:image/png;base64,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\" alt=\"Mol\"/></td>\n    </tr>\n    <tr>\n      <th>16945</th>\n      <td>InChI=1S/C10Cl12/c11-1-2(12)7(17)4(14)3(13,5(1...</td>\n      <td>NaN</td>\n      <td>NaN</td>\n      <td>NaN</td>\n      <td>NaN</td>\n      <td>NaN</td>\n      <td>NaN</td>\n      <td>1.0</td>\n      <td>0.0</td>\n      <td>1.0</td>\n      <td>...</td>\n      <td>NaN</td>\n      <td>NaN</td>\n      <td>NaN</td>\n      <td>NaN</td>\n      <td>NaN</td>\n      <td>2385-85-5</td>\n      <td>Mol-3633</td>\n      <td>HepatoBinary-Mol-2</td>\n      <td></td>\n      <td><img data-content=\"rdkit/molecule\" src=\"data:image/png;base64,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\" alt=\"Mol\"/></td>\n    </tr>\n    <tr>\n      <th>1489</th>\n      <td>InChI=1S/C10H10Cl2O3/c11-7-3-4-9(8(12)6-7)15-5...</td>\n      <td>NaN</td>\n      <td>NaN</td>\n      <td>NaN</td>\n      <td>NaN</td>\n      <td>NaN</td>\n      <td>NaN</td>\n      <td>1.0</td>\n      <td>NaN</td>\n      <td>NaN</td>\n      <td>...</td>\n      <td>NaN</td>\n      <td>NaN</td>\n      <td>NaN</td>\n      <td>NaN</td>\n      <td>NaN</td>\n      <td>94-82-6</td>\n      <td>Mol-2819</td>\n      <td>HepatoBinary-Mol-3</td>\n      <td></td>\n      <td><img data-content=\"rdkit/molecule\" src=\"data:image/png;base64,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\" alt=\"Mol\"/></td>\n    </tr>\n    <tr>\n      <th>5215</th>\n      <td>InChI=1S/C10H10N4O2S/c11-8-2-4-9(5-3-8)17(15,1...</td>\n      <td>sulfadiazine;sulfadiazine sodium</td>\n      <td>1.0</td>\n      <td>0.0</td>\n      <td>1.0</td>\n      <td>0.0</td>\n      <td>1.0</td>\n      <td>0.0</td>\n      <td>0.0</td>\n      <td>0.0</td>\n      <td>...</td>\n      <td>0.0</td>\n      <td>0.0</td>\n      <td>0.0</td>\n      <td>0.0</td>\n      <td>0.0</td>\n      <td>NaN</td>\n      <td>Mol-1740</td>\n      <td>HepatoBinary-Mol-5</td>\n      <td></td>\n      <td><img data-content=\"rdkit/molecule\" src=\"data:image/png;base64,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\" alt=\"Mol\"/></td>\n    </tr>\n  </tbody>\n</table>\n<p>5 rows × 28 columns</p>\n</div>"
     },
     "execution_count": 55,
     "metadata": {},
     "output_type": "execute_result"
    }
   ],
   "source": [
    "hepatotoxicity.head()"
   ],
   "metadata": {
    "collapsed": false,
    "pycharm": {
     "name": "#%%\n"
    }
   }
  },
  {
   "cell_type": "code",
   "execution_count": 60,
   "outputs": [],
   "source": [
    "d = score_frame_norm.join(hepatotoxicity[['H_HT_class']]).dropna()"
   ],
   "metadata": {
    "collapsed": false,
    "pycharm": {
     "name": "#%%\n"
    }
   }
  },
  {
   "cell_type": "code",
   "execution_count": 63,
   "outputs": [
    {
     "data": {
      "text/plain": "          WP2289 H_HT_class\n4641   -1.369535        1.0\n4189   -0.975317        1.0\n71360  -0.922426        1.0\n5455   -0.915021        0.0\n6855   -0.845557        0.0\n...          ...        ...\n4078    0.399506        1.0\n2750    0.423836        1.0\n4615    0.427715        1.0\n134018  0.443583        1.0\n4115    0.463681        1.0\n\n[340 rows x 2 columns]",
      "text/html": "<div>\n<style scoped>\n    .dataframe tbody tr th:only-of-type {\n        vertical-align: middle;\n    }\n\n    .dataframe tbody tr th {\n        vertical-align: top;\n    }\n\n    .dataframe thead th {\n        text-align: right;\n    }\n</style>\n<table border=\"1\" class=\"dataframe\">\n  <thead>\n    <tr style=\"text-align: right;\">\n      <th></th>\n      <th>WP2289</th>\n      <th>H_HT_class</th>\n    </tr>\n  </thead>\n  <tbody>\n    <tr>\n      <th>4641</th>\n      <td>-1.369535</td>\n      <td>1.0</td>\n    </tr>\n    <tr>\n      <th>4189</th>\n      <td>-0.975317</td>\n      <td>1.0</td>\n    </tr>\n    <tr>\n      <th>71360</th>\n      <td>-0.922426</td>\n      <td>1.0</td>\n    </tr>\n    <tr>\n      <th>5455</th>\n      <td>-0.915021</td>\n      <td>0.0</td>\n    </tr>\n    <tr>\n      <th>6855</th>\n      <td>-0.845557</td>\n      <td>0.0</td>\n    </tr>\n    <tr>\n      <th>...</th>\n      <td>...</td>\n      <td>...</td>\n    </tr>\n    <tr>\n      <th>4078</th>\n      <td>0.399506</td>\n      <td>1.0</td>\n    </tr>\n    <tr>\n      <th>2750</th>\n      <td>0.423836</td>\n      <td>1.0</td>\n    </tr>\n    <tr>\n      <th>4615</th>\n      <td>0.427715</td>\n      <td>1.0</td>\n    </tr>\n    <tr>\n      <th>134018</th>\n      <td>0.443583</td>\n      <td>1.0</td>\n    </tr>\n    <tr>\n      <th>4115</th>\n      <td>0.463681</td>\n      <td>1.0</td>\n    </tr>\n  </tbody>\n</table>\n<p>340 rows × 2 columns</p>\n</div>"
     },
     "execution_count": 63,
     "metadata": {},
     "output_type": "execute_result"
    }
   ],
   "source": [
    "d.sort_values('WP2289')"
   ],
   "metadata": {
    "collapsed": false,
    "pycharm": {
     "name": "#%%\n"
    }
   }
  },
  {
   "cell_type": "code",
   "execution_count": 68,
   "outputs": [
    {
     "data": {
      "text/plain": "0.7323529411764705"
     },
     "execution_count": 68,
     "metadata": {},
     "output_type": "execute_result"
    }
   ],
   "source": [
    "d.H_HT_class.astype(float).sum() / d.H_HT_class.shape[0]"
   ],
   "metadata": {
    "collapsed": false,
    "pycharm": {
     "name": "#%%\n"
    }
   }
  },
  {
   "cell_type": "code",
   "execution_count": 75,
   "outputs": [],
   "source": [
    "d=d.sort_values(WIKI_PATHWAY)\n",
    "d['Rank'] = list(range(1, d.shape[0]+1))"
   ],
   "metadata": {
    "collapsed": false,
    "pycharm": {
     "name": "#%%\n"
    }
   }
  },
  {
   "cell_type": "code",
   "execution_count": 80,
   "outputs": [
    {
     "data": {
      "text/plain": "<AxesSubplot:xlabel='WP2289', ylabel='Rank'>"
     },
     "execution_count": 80,
     "metadata": {},
     "output_type": "execute_result"
    },
    {
     "data": {
      "text/plain": "<Figure size 432x288 with 1 Axes>",
      "image/png": "[encoded data removed]"
     },
     "metadata": {
      "needs_background": "light"
     },
     "output_type": "display_data"
    }
   ],
   "source": [
    "import seaborn as sns\n",
    "sns.scatterplot(data=d.sort_values(WIKI_PATHWAY), x=WIKI_PATHWAY, y='Rank', hue='H_HT_class', palette={'1.0': 'red', '0.0':'green'})"
   ],
   "metadata": {
    "collapsed": false,
    "pycharm": {
     "name": "#%%\n"
    }
   }
  },
  {
   "cell_type": "code",
   "execution_count": null,
   "outputs": [],
   "source": [
    "# Try to build this heirarchically\n",
    "# e.g., assays -> receptor\n",
    "# e.g., receptor -> pathways\n",
    "# e.g., pathways -> toxicity\n",
    "# try with Css values"
   ],
   "metadata": {
    "collapsed": false,
    "pycharm": {
     "name": "#%%\n"
    }
   }
  },
  {
   "cell_type": "code",
   "execution_count": 103,
   "outputs": [],
   "source": [
    "css = pd.read_csv('../data/css.csv')\n",
    "css.columns = ['cas', 'css', 'cid']\n",
    "css = css[['css', 'cid']].set_index('cid')"
   ],
   "metadata": {
    "collapsed": false,
    "pycharm": {
     "name": "#%%\n"
    }
   }
  },
  {
   "cell_type": "code",
   "execution_count": 104,
   "outputs": [
    {
     "data": {
      "text/plain": "            css\ncid            \n980    0.821415\n7500   2.534387\n7501   0.493075\n4101   7.893905\n13878  5.111172\n...         ...\n7456   0.196014\n7471   1.561674\n7473   0.412917\n61247  0.302703\n4595   7.311207\n\n[1208 rows x 1 columns]",
      "text/html": "<div>\n<style scoped>\n    .dataframe tbody tr th:only-of-type {\n        vertical-align: middle;\n    }\n\n    .dataframe tbody tr th {\n        vertical-align: top;\n    }\n\n    .dataframe thead th {\n        text-align: right;\n    }\n</style>\n<table border=\"1\" class=\"dataframe\">\n  <thead>\n    <tr style=\"text-align: right;\">\n      <th></th>\n      <th>css</th>\n    </tr>\n    <tr>\n      <th>cid</th>\n      <th></th>\n    </tr>\n  </thead>\n  <tbody>\n    <tr>\n      <th>980</th>\n      <td>0.821415</td>\n    </tr>\n    <tr>\n      <th>7500</th>\n      <td>2.534387</td>\n    </tr>\n    <tr>\n      <th>7501</th>\n      <td>0.493075</td>\n    </tr>\n    <tr>\n      <th>4101</th>\n      <td>7.893905</td>\n    </tr>\n    <tr>\n      <th>13878</th>\n      <td>5.111172</td>\n    </tr>\n    <tr>\n      <th>...</th>\n      <td>...</td>\n    </tr>\n    <tr>\n      <th>7456</th>\n      <td>0.196014</td>\n    </tr>\n    <tr>\n      <th>7471</th>\n      <td>1.561674</td>\n    </tr>\n    <tr>\n      <th>7473</th>\n      <td>0.412917</td>\n    </tr>\n    <tr>\n      <th>61247</th>\n      <td>0.302703</td>\n    </tr>\n    <tr>\n      <th>4595</th>\n      <td>7.311207</td>\n    </tr>\n  </tbody>\n</table>\n<p>1208 rows × 1 columns</p>\n</div>"
     },
     "execution_count": 104,
     "metadata": {},
     "output_type": "execute_result"
    }
   ],
   "source": [
    "css"
   ],
   "metadata": {
    "collapsed": false,
    "pycharm": {
     "name": "#%%\n"
    }
   }
  },
  {
   "cell_type": "code",
   "execution_count": 107,
   "outputs": [
    {
     "data": {
      "text/plain": "         WP2289 H_HT_class  Rank          css\n4115   0.463681        1.0   340     6.306697\n40326  0.271509        1.0   330     0.649849\n4632   0.239422        0.0   327     5.270728\n16850  0.217913        0.0   325    25.995960\n2812   0.212623        1.0   323     0.952820\n...         ...        ...   ...          ...\n3598  -0.576516        0.0    18  9557.713371\n3749  -0.601551        1.0    16     1.115540\n4004  -0.705571        0.0    11     0.014547\n4011  -0.769394        1.0     8    45.935177\n5455  -0.915021        0.0     4    11.361474\n\n[87 rows x 4 columns]",
      "text/html": "<div>\n<style scoped>\n    .dataframe tbody tr th:only-of-type {\n        vertical-align: middle;\n    }\n\n    .dataframe tbody tr th {\n        vertical-align: top;\n    }\n\n    .dataframe thead th {\n        text-align: right;\n    }\n</style>\n<table border=\"1\" class=\"dataframe\">\n  <thead>\n    <tr style=\"text-align: right;\">\n      <th></th>\n      <th>WP2289</th>\n      <th>H_HT_class</th>\n      <th>Rank</th>\n      <th>css</th>\n    </tr>\n  </thead>\n  <tbody>\n    <tr>\n      <th>4115</th>\n      <td>0.463681</td>\n      <td>1.0</td>\n      <td>340</td>\n      <td>6.306697</td>\n    </tr>\n    <tr>\n      <th>40326</th>\n      <td>0.271509</td>\n      <td>1.0</td>\n      <td>330</td>\n      <td>0.649849</td>\n    </tr>\n    <tr>\n      <th>4632</th>\n      <td>0.239422</td>\n      <td>0.0</td>\n      <td>327</td>\n      <td>5.270728</td>\n    </tr>\n    <tr>\n      <th>16850</th>\n      <td>0.217913</td>\n      <td>0.0</td>\n      <td>325</td>\n      <td>25.995960</td>\n    </tr>\n    <tr>\n      <th>2812</th>\n      <td>0.212623</td>\n      <td>1.0</td>\n      <td>323</td>\n      <td>0.952820</td>\n    </tr>\n    <tr>\n      <th>...</th>\n      <td>...</td>\n      <td>...</td>\n      <td>...</td>\n      <td>...</td>\n    </tr>\n    <tr>\n      <th>3598</th>\n      <td>-0.576516</td>\n      <td>0.0</td>\n      <td>18</td>\n      <td>9557.713371</td>\n    </tr>\n    <tr>\n      <th>3749</th>\n      <td>-0.601551</td>\n      <td>1.0</td>\n      <td>16</td>\n      <td>1.115540</td>\n    </tr>\n    <tr>\n      <th>4004</th>\n      <td>-0.705571</td>\n      <td>0.0</td>\n      <td>11</td>\n      <td>0.014547</td>\n    </tr>\n    <tr>\n      <th>4011</th>\n      <td>-0.769394</td>\n      <td>1.0</td>\n      <td>8</td>\n      <td>45.935177</td>\n    </tr>\n    <tr>\n      <th>5455</th>\n      <td>-0.915021</td>\n      <td>0.0</td>\n      <td>4</td>\n      <td>11.361474</td>\n    </tr>\n  </tbody>\n</table>\n<p>87 rows × 4 columns</p>\n</div>"
     },
     "execution_count": 107,
     "metadata": {},
     "output_type": "execute_result"
    }
   ],
   "source": [
    "d.join(css, how='inner').sort_values(WIKI_PATHWAY, ascending=False)"
   ],
   "metadata": {
    "collapsed": false,
    "pycharm": {
     "name": "#%%\n"
    }
   }
  },
  {
   "cell_type": "code",
   "execution_count": 110,
   "outputs": [
    {
     "data": {
      "text/plain": "          WP2289 H_HT_class  Rank\n4115    0.463681        1.0   340\n134018  0.443583        1.0   339\n4615    0.427715        1.0   338\n2750    0.423836        1.0   337\n4078    0.399506        1.0   336\n...          ...        ...   ...\n6855   -0.845557        0.0     5\n5455   -0.915021        0.0     4\n71360  -0.922426        1.0     3\n4189   -0.975317        1.0     2\n4641   -1.369535        1.0     1\n\n[340 rows x 3 columns]",
      "text/html": "<div>\n<style scoped>\n    .dataframe tbody tr th:only-of-type {\n        vertical-align: middle;\n    }\n\n    .dataframe tbody tr th {\n        vertical-align: top;\n    }\n\n    .dataframe thead th {\n        text-align: right;\n    }\n</style>\n<table border=\"1\" class=\"dataframe\">\n  <thead>\n    <tr style=\"text-align: right;\">\n      <th></th>\n      <th>WP2289</th>\n      <th>H_HT_class</th>\n      <th>Rank</th>\n    </tr>\n  </thead>\n  <tbody>\n    <tr>\n      <th>4115</th>\n      <td>0.463681</td>\n      <td>1.0</td>\n      <td>340</td>\n    </tr>\n    <tr>\n      <th>134018</th>\n      <td>0.443583</td>\n      <td>1.0</td>\n      <td>339</td>\n    </tr>\n    <tr>\n      <th>4615</th>\n      <td>0.427715</td>\n      <td>1.0</td>\n      <td>338</td>\n    </tr>\n    <tr>\n      <th>2750</th>\n      <td>0.423836</td>\n      <td>1.0</td>\n      <td>337</td>\n    </tr>\n    <tr>\n      <th>4078</th>\n      <td>0.399506</td>\n      <td>1.0</td>\n      <td>336</td>\n    </tr>\n    <tr>\n      <th>...</th>\n      <td>...</td>\n      <td>...</td>\n      <td>...</td>\n    </tr>\n    <tr>\n      <th>6855</th>\n      <td>-0.845557</td>\n      <td>0.0</td>\n      <td>5</td>\n    </tr>\n    <tr>\n      <th>5455</th>\n      <td>-0.915021</td>\n      <td>0.0</td>\n      <td>4</td>\n    </tr>\n    <tr>\n      <th>71360</th>\n      <td>-0.922426</td>\n      <td>1.0</td>\n      <td>3</td>\n    </tr>\n    <tr>\n      <th>4189</th>\n      <td>-0.975317</td>\n      <td>1.0</td>\n      <td>2</td>\n    </tr>\n    <tr>\n      <th>4641</th>\n      <td>-1.369535</td>\n      <td>1.0</td>\n      <td>1</td>\n    </tr>\n  </tbody>\n</table>\n<p>340 rows × 3 columns</p>\n</div>"
     },
     "execution_count": 110,
     "metadata": {},
     "output_type": "execute_result"
    }
   ],
   "source": [
    "d.sort_values(WIKI_PATHWAY, ascending=False)"
   ],
   "metadata": {
    "collapsed": false,
    "pycharm": {
     "name": "#%%\n"
    }
   }
  },
  {
   "cell_type": "code",
   "execution_count": 112,
   "outputs": [
    {
     "data": {
      "text/plain": "             SID      AID      AC50        TOP     SLOPE        MSE     CID  \\\n13706  170465220  1346982  0.050000  53.365200  1.617874  55.562581  134018   \n17108  170465220  1224839  0.036201  35.485006  2.224077   3.723844  134018   \n\n         Target  \n13706  NR1I2_UP  \n17108  NR1I3_UP  ",
      "text/html": "<div>\n<style scoped>\n    .dataframe tbody tr th:only-of-type {\n        vertical-align: middle;\n    }\n\n    .dataframe tbody tr th {\n        vertical-align: top;\n    }\n\n    .dataframe thead th {\n        text-align: right;\n    }\n</style>\n<table border=\"1\" class=\"dataframe\">\n  <thead>\n    <tr style=\"text-align: right;\">\n      <th></th>\n      <th>SID</th>\n      <th>AID</th>\n      <th>AC50</th>\n      <th>TOP</th>\n      <th>SLOPE</th>\n      <th>MSE</th>\n      <th>CID</th>\n      <th>Target</th>\n    </tr>\n  </thead>\n  <tbody>\n    <tr>\n      <th>13706</th>\n      <td>170465220</td>\n      <td>1346982</td>\n      <td>0.050000</td>\n      <td>53.365200</td>\n      <td>1.617874</td>\n      <td>55.562581</td>\n      <td>134018</td>\n      <td>NR1I2_UP</td>\n    </tr>\n    <tr>\n      <th>17108</th>\n      <td>170465220</td>\n      <td>1224839</td>\n      <td>0.036201</td>\n      <td>35.485006</td>\n      <td>2.224077</td>\n      <td>3.723844</td>\n      <td>134018</td>\n      <td>NR1I3_UP</td>\n    </tr>\n  </tbody>\n</table>\n</div>"
     },
     "execution_count": 112,
     "metadata": {},
     "output_type": "execute_result"
    }
   ],
   "source": [
    "hill_merged.query(\"CID == 134018\")"
   ],
   "metadata": {
    "collapsed": false,
    "pycharm": {
     "name": "#%%\n"
    }
   }
  },
  {
   "cell_type": "code",
   "execution_count": null,
   "outputs": [],
   "source": [],
   "metadata": {
    "collapsed": false,
    "pycharm": {
     "name": "#%%\n"
    }
   }
  }
 ],
 "metadata": {
  "kernelspec": {
   "display_name": "Python 3",
   "language": "python",
   "name": "python3"
  },
  "language_info": {
   "codemirror_mode": {
    "name": "ipython",
    "version": 2
   },
   "file_extension": ".py",
   "mimetype": "text/x-python",
   "name": "python",
   "nbconvert_exporter": "python",
   "pygments_lexer": "ipython2",
   "version": "2.7.6"
  }
 },
 "nbformat": 4,
 "nbformat_minor": 0
}