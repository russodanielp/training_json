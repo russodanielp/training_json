{
 "cells": [
  {
   "cell_type": "code",
   "execution_count": 16,
   "outputs": [],
   "source": [
    "# imports\n",
    "import pandas as pd\n",
    "import numpy as np\n",
    "import config\n",
    "import seaborn as sns\n",
    "import matplotlib.pyplot as plt\n",
    "\n",
    "sns.set_style('dark')\n",
    "sns.set_style('ticks')\n",
    "sns.set(style=\"ticks\", context=\"talk\")\n",
    "plt.style.use(\"dark_background\")\n"
   ],
   "metadata": {
    "collapsed": false,
    "pycharm": {
     "name": "#%%\n"
    }
   }
  },
  {
   "cell_type": "code",
   "execution_count": 2,
   "outputs": [
    {
     "name": "stdout",
     "output_type": "stream",
     "text": [
      "   AID     SID       AC50         TOP     SLOPE           MSE\n",
      "0  411  842150  57.698629  -95.606255  7.999998  7.892736e-09\n",
      "1  411  842180  11.939105  -61.100214  7.988266  1.871814e-09\n",
      "2  411  842209  57.681462  -81.881479  7.999998  5.816926e-09\n",
      "3  411  842268  11.123286  -42.140094  7.916468  3.461023e-09\n",
      "4  411  842291   2.617825 -105.899148  0.963853  5.957853e+00\n"
     ]
    }
   ],
   "source": [
    "query = \"select AID, SID, AC50, TOP, SLOPE, MSE from hill_models \"\n",
    "\n",
    "data = pd.read_sql_query(query, con=config.Config.DB_URI)\n",
    "\n",
    "print(data.head())"
   ],
   "metadata": {
    "collapsed": false,
    "pycharm": {
     "name": "#%%\n"
    }
   }
  },
  {
   "cell_type": "markdown",
   "source": [
    "How many unique AIDs?"
   ],
   "metadata": {
    "collapsed": false,
    "pycharm": {
     "name": "#%% md\n"
    }
   }
  },
  {
   "cell_type": "code",
   "execution_count": 3,
   "outputs": [
    {
     "data": {
      "text/plain": "3293"
     },
     "execution_count": 3,
     "metadata": {},
     "output_type": "execute_result"
    }
   ],
   "source": [
    "data.AID.nunique()"
   ],
   "metadata": {
    "collapsed": false,
    "pycharm": {
     "name": "#%%\n"
    }
   }
  },
  {
   "cell_type": "markdown",
   "source": [
    "About 38% are missing?"
   ],
   "metadata": {
    "collapsed": false,
    "pycharm": {
     "name": "#%% md\n"
    }
   }
  },
  {
   "cell_type": "code",
   "execution_count": 4,
   "outputs": [
    {
     "data": {
      "text/plain": "0.004744942633160541"
     },
     "execution_count": 4,
     "metadata": {},
     "output_type": "execute_result"
    }
   ],
   "source": [
    "data.isnull().any(1).sum() / data.shape[0]"
   ],
   "metadata": {
    "collapsed": false,
    "pycharm": {
     "name": "#%%\n"
    }
   }
  },
  {
   "cell_type": "markdown",
   "source": [
    "Whats the distribution of fit (MSE) values?"
   ],
   "metadata": {
    "collapsed": false,
    "pycharm": {
     "name": "#%% md\n"
    }
   }
  },
  {
   "cell_type": "code",
   "execution_count": 6,
   "outputs": [
    {
     "data": {
      "text/plain": "<Figure size 432x288 with 1 Axes>",
      "image/png": "[encoded data removed]"
     },
     "metadata": {},
     "output_type": "display_data"
    }
   ],
   "source": [
    "ax = sns.histplot(x=data.MSE)\n",
    "ax.set_yscale('log')"
   ],
   "metadata": {
    "collapsed": false,
    "pycharm": {
     "name": "#%%\n"
    }
   }
  },
  {
   "cell_type": "markdown",
   "source": [
    "Looking at some examples..."
   ],
   "metadata": {
    "collapsed": false,
    "pycharm": {
     "name": "#%% md\n"
    }
   }
  },
  {
   "cell_type": "code",
   "execution_count": 12,
   "outputs": [],
   "source": [
    "from curve_fitting import hill_curve"
   ],
   "metadata": {
    "collapsed": false,
    "pycharm": {
     "name": "#%%\n"
    }
   }
  },
  {
   "cell_type": "code",
   "execution_count": 98,
   "outputs": [],
   "source": [
    "data_trim = data.query(\"TOP < 90\").sort_values('MSE', ascending=False)\n",
    "data_trim = data.copy().sort_values('MSE', ascending=False)\n",
    "sample = data_trim.sample(1)"
   ],
   "metadata": {
    "collapsed": false,
    "pycharm": {
     "name": "#%%\n"
    }
   }
  },
  {
   "cell_type": "code",
   "execution_count": 99,
   "outputs": [
    {
     "data": {
      "text/plain": "           AID       SID       AC50        TOP     SLOPE           MSE\n252415  485349  26661481  12.415122  68.182139  7.963392  2.375751e-09",
      "text/html": "<div>\n<style scoped>\n    .dataframe tbody tr th:only-of-type {\n        vertical-align: middle;\n    }\n\n    .dataframe tbody tr th {\n        vertical-align: top;\n    }\n\n    .dataframe thead th {\n        text-align: right;\n    }\n</style>\n<table border=\"1\" class=\"dataframe\">\n  <thead>\n    <tr style=\"text-align: right;\">\n      <th></th>\n      <th>AID</th>\n      <th>SID</th>\n      <th>AC50</th>\n      <th>TOP</th>\n      <th>SLOPE</th>\n      <th>MSE</th>\n    </tr>\n  </thead>\n  <tbody>\n    <tr>\n      <th>252415</th>\n      <td>485349</td>\n      <td>26661481</td>\n      <td>12.415122</td>\n      <td>68.182139</td>\n      <td>7.963392</td>\n      <td>2.375751e-09</td>\n    </tr>\n  </tbody>\n</table>\n</div>"
     },
     "execution_count": 99,
     "metadata": {},
     "output_type": "execute_result"
    }
   ],
   "source": [
    "aid_target, sid_target = 1645841, 363678220\n",
    "aid_target, sid_target = sample.AID.iloc[0], sample.SID.iloc[0]\n",
    "\n",
    "query = \"select AID, SID, Concentration, Response from dose_response WHERE AID == {} AND SID == {} \".format(aid_target, sid_target)\n",
    "\n",
    "dr_data = pd.read_sql_query(query, con=config.Config.DB_URI)\n",
    "dr_data['log(Concentration)'] = np.log10(dr_data.Concentration)\n",
    "params = data.query(f\"AID == {aid_target} & SID == {sid_target}\")\n",
    "params.head()"
   ],
   "metadata": {
    "collapsed": false,
    "pycharm": {
     "name": "#%%\n"
    }
   }
  },
  {
   "cell_type": "code",
   "execution_count": 100,
   "outputs": [
    {
     "data": {
      "text/plain": "           AID       SID       AC50        TOP     SLOPE           MSE\n252415  485349  26661481  12.415122  68.182139  7.963392  2.375751e-09",
      "text/html": "<div>\n<style scoped>\n    .dataframe tbody tr th:only-of-type {\n        vertical-align: middle;\n    }\n\n    .dataframe tbody tr th {\n        vertical-align: top;\n    }\n\n    .dataframe thead th {\n        text-align: right;\n    }\n</style>\n<table border=\"1\" class=\"dataframe\">\n  <thead>\n    <tr style=\"text-align: right;\">\n      <th></th>\n      <th>AID</th>\n      <th>SID</th>\n      <th>AC50</th>\n      <th>TOP</th>\n      <th>SLOPE</th>\n      <th>MSE</th>\n    </tr>\n  </thead>\n  <tbody>\n    <tr>\n      <th>252415</th>\n      <td>485349</td>\n      <td>26661481</td>\n      <td>12.415122</td>\n      <td>68.182139</td>\n      <td>7.963392</td>\n      <td>2.375751e-09</td>\n    </tr>\n  </tbody>\n</table>\n</div>"
     },
     "execution_count": 100,
     "metadata": {},
     "output_type": "execute_result"
    }
   ],
   "source": [
    "params"
   ],
   "metadata": {
    "collapsed": false,
    "pycharm": {
     "name": "#%%\n"
    }
   }
  },
  {
   "cell_type": "code",
   "execution_count": 101,
   "outputs": [],
   "source": [
    "import numpy as np\n",
    "xs = np.linspace(dr_data.Concentration.min(), dr_data.Concentration.max())\n",
    "\n",
    "\n",
    "curve = hill_curve(xs, params.AC50.iloc[0], params.TOP.iloc[0], params.SLOPE.iloc[0])"
   ],
   "metadata": {
    "collapsed": false,
    "pycharm": {
     "name": "#%%\n"
    }
   }
  },
  {
   "cell_type": "code",
   "execution_count": 102,
   "outputs": [],
   "source": [
    "from curvep import curveP\n",
    "\n",
    "curveP_corrected = curveP(dr_data)"
   ],
   "metadata": {
    "collapsed": false,
    "pycharm": {
     "name": "#%%\n"
    }
   }
  },
  {
   "cell_type": "code",
   "execution_count": 103,
   "outputs": [
    {
     "data": {
      "text/plain": "<Figure size 432x288 with 1 Axes>",
      "image/png": "[encoded data removed]"
     },
     "metadata": {},
     "output_type": "display_data"
    }
   ],
   "source": [
    "fig, ax = plt.subplots()\n",
    "#ax.set(xscale=\"log\")\n",
    "\n",
    "sns.scatterplot(data=dr_data, x='log(Concentration)', y='Response', ax=ax, c=(0, 0, 0, 1), s=250)\n",
    "sns.scatterplot(data=curveP_corrected, x='log(Concentration)', y='Response', ax=ax, c=(255/255, 233/255, 0, 1), marker='^')\n",
    "sns.lineplot(x=np.log10(xs), y=curve, ax=ax, color=(255/255, 233/255, 0, 1))\n",
    "plt.show()"
   ],
   "metadata": {
    "collapsed": false,
    "pycharm": {
     "name": "#%%\n"
    }
   }
  },
  {
   "cell_type": "code",
   "execution_count": null,
   "outputs": [],
   "source": [],
   "metadata": {
    "collapsed": false,
    "pycharm": {
     "name": "#%%\n"
    }
   }
  }
 ],
 "metadata": {
  "kernelspec": {
   "display_name": "Python 3",
   "language": "python",
   "name": "python3"
  },
  "language_info": {
   "codemirror_mode": {
    "name": "ipython",
    "version": 2
   },
   "file_extension": ".py",
   "mimetype": "text/x-python",
   "name": "python",
   "nbconvert_exporter": "python",
   "pygments_lexer": "ipython2",
   "version": "2.7.6"
  }
 },
 "nbformat": 4,
 "nbformat_minor": 0
}