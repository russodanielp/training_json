{
 "cells": [
  {
   "cell_type": "code",
   "execution_count": 6,
   "id": "9fc5f1f8-ee37-4456-b9da-6327df7c1e9e",
   "metadata": {},
   "outputs": [],
   "source": [
    "import pandas as pd\n",
    "import requests\n",
    "\n",
    "\n",
    "def get_targets(aid_list):\n",
    "    \"\"\" function to get target information for a list of aids \"\"\"\n",
    "    # convert list of identifers to str\n",
    "    aid_list = list(map(str, aid_list))\n",
    "\n",
    "    # make the base URL for the PubChem POST Request\n",
    "    url = \"https://pubchem.ncbi.nlm.nih.gov/rest/pug/assay/aid/targets/ProteinGI,ProteinName,GeneID,GeneSymbol/json\"\n",
    "    \n",
    "    headers = {'Content-Type': 'multipart/form-data'}\n",
    "    data = {'aid': ','.join(aid_list)}\n",
    "\n",
    "    response = requests.post(url, data=data)\n",
    "\n",
    "    return response.json()"
   ]
  },
  {
   "cell_type": "code",
   "execution_count": 7,
   "id": "50c120a1-7f9d-41fc-bef7-8728e91ab0a9",
   "metadata": {},
   "outputs": [],
   "source": [
    "dr_aids = pd.read_table('dr_aids.txt', header=None, names=['AIDS'])"
   ]
  },
  {
   "cell_type": "raw",
   "id": "504d36da-4fa2-44d0-8f07-a07882dace23",
   "metadata": {},
   "source": [
    "Get JSON and convert to Pandas dataframe"
   ]
  },
  {
   "cell_type": "code",
   "execution_count": 9,
   "id": "b67395a2-3b46-4613-a159-7bc9d08c8d7d",
   "metadata": {},
   "outputs": [
    {
     "data": {
      "text/html": [
       "<div>\n",
       "<style scoped>\n",
       "    .dataframe tbody tr th:only-of-type {\n",
       "        vertical-align: middle;\n",
       "    }\n",
       "\n",
       "    .dataframe tbody tr th {\n",
       "        vertical-align: top;\n",
       "    }\n",
       "\n",
       "    .dataframe thead th {\n",
       "        text-align: right;\n",
       "    }\n",
       "</style>\n",
       "<table border=\"1\" class=\"dataframe\">\n",
       "  <thead>\n",
       "    <tr style=\"text-align: right;\">\n",
       "      <th></th>\n",
       "      <th>AID</th>\n",
       "      <th>GI</th>\n",
       "      <th>GeneID</th>\n",
       "      <th>ProteinName</th>\n",
       "      <th>GeneSymbol</th>\n",
       "    </tr>\n",
       "  </thead>\n",
       "  <tbody>\n",
       "    <tr>\n",
       "      <th>0</th>\n",
       "      <td>1508648</td>\n",
       "      <td>NaN</td>\n",
       "      <td>NaN</td>\n",
       "      <td>NaN</td>\n",
       "      <td>NaN</td>\n",
       "    </tr>\n",
       "    <tr>\n",
       "      <th>1</th>\n",
       "      <td>1508647</td>\n",
       "      <td>[130339]</td>\n",
       "      <td>[24660]</td>\n",
       "      <td>[Peripheral myelin protein 22]</td>\n",
       "      <td>[Pmp22]</td>\n",
       "    </tr>\n",
       "    <tr>\n",
       "      <th>2</th>\n",
       "      <td>1508645</td>\n",
       "      <td>NaN</td>\n",
       "      <td>NaN</td>\n",
       "      <td>NaN</td>\n",
       "      <td>NaN</td>\n",
       "    </tr>\n",
       "    <tr>\n",
       "      <th>3</th>\n",
       "      <td>1508644</td>\n",
       "      <td>[130339]</td>\n",
       "      <td>[24660]</td>\n",
       "      <td>[Peripheral myelin protein 22]</td>\n",
       "      <td>[Pmp22]</td>\n",
       "    </tr>\n",
       "    <tr>\n",
       "      <th>4</th>\n",
       "      <td>1508642</td>\n",
       "      <td>NaN</td>\n",
       "      <td>NaN</td>\n",
       "      <td>NaN</td>\n",
       "      <td>NaN</td>\n",
       "    </tr>\n",
       "  </tbody>\n",
       "</table>\n",
       "</div>"
      ],
      "text/plain": [
       "       AID        GI   GeneID                     ProteinName GeneSymbol\n",
       "0  1508648       NaN      NaN                             NaN        NaN\n",
       "1  1508647  [130339]  [24660]  [Peripheral myelin protein 22]    [Pmp22]\n",
       "2  1508645       NaN      NaN                             NaN        NaN\n",
       "3  1508644  [130339]  [24660]  [Peripheral myelin protein 22]    [Pmp22]\n",
       "4  1508642       NaN      NaN                             NaN        NaN"
      ]
     },
     "execution_count": 9,
     "metadata": {},
     "output_type": "execute_result"
    }
   ],
   "source": [
    "target_json = get_targets(dr_aids['AIDS'].values)\n",
    "\n",
    "targets = pd.DataFrame(target_json['InformationList']['Information'])\n",
    "\n",
    "targets.head()"
   ]
  },
  {
   "cell_type": "markdown",
   "id": "cadad2b7-d63c-4086-8e36-2419893bdcd8",
   "metadata": {},
   "source": [
    "Each target column is a list (some assays can have multiple targets I guess).  The `explode` function in pandas is really useful to expand a column of lists.\n",
    "\n",
    "https://pandas.pydata.org/docs/reference/api/pandas.DataFrame.explode.html"
   ]
  },
  {
   "cell_type": "code",
   "execution_count": 33,
   "id": "7e72e92c-b679-4870-a167-beb3c4a63103",
   "metadata": {},
   "outputs": [
    {
     "data": {
      "text/html": [
       "<div>\n",
       "<style scoped>\n",
       "    .dataframe tbody tr th:only-of-type {\n",
       "        vertical-align: middle;\n",
       "    }\n",
       "\n",
       "    .dataframe tbody tr th {\n",
       "        vertical-align: top;\n",
       "    }\n",
       "\n",
       "    .dataframe thead th {\n",
       "        text-align: right;\n",
       "    }\n",
       "</style>\n",
       "<table border=\"1\" class=\"dataframe\">\n",
       "  <thead>\n",
       "    <tr style=\"text-align: right;\">\n",
       "      <th></th>\n",
       "      <th>AID</th>\n",
       "      <th>GI</th>\n",
       "      <th>GeneID</th>\n",
       "      <th>ProteinName</th>\n",
       "      <th>GeneSymbol</th>\n",
       "    </tr>\n",
       "  </thead>\n",
       "  <tbody>\n",
       "    <tr>\n",
       "      <th>506</th>\n",
       "      <td>743473</td>\n",
       "      <td>[51831776, 119587431, 119587435, 408684256, 51...</td>\n",
       "      <td>[4224, 4225, 4318, 4313, 4317, 4319, 4322, 432...</td>\n",
       "      <td>[MEP1A protein, matrix metalloproteinase 13 (c...</td>\n",
       "      <td>[MEP1A, MEP1B, MMP9, MMP2, MMP8, MMP10, MMP13,...</td>\n",
       "    </tr>\n",
       "  </tbody>\n",
       "</table>\n",
       "</div>"
      ],
      "text/plain": [
       "        AID                                                 GI  \\\n",
       "506  743473  [51831776, 119587431, 119587435, 408684256, 51...   \n",
       "\n",
       "                                                GeneID  \\\n",
       "506  [4224, 4225, 4318, 4313, 4317, 4319, 4322, 432...   \n",
       "\n",
       "                                           ProteinName  \\\n",
       "506  [MEP1A protein, matrix metalloproteinase 13 (c...   \n",
       "\n",
       "                                            GeneSymbol  \n",
       "506  [MEP1A, MEP1B, MMP9, MMP2, MMP8, MMP10, MMP13,...  "
      ]
     },
     "execution_count": 33,
     "metadata": {},
     "output_type": "execute_result"
    }
   ],
   "source": [
    "# example of multiple target\n",
    "\n",
    "targets.query(\"AID == 743473\")"
   ]
  },
  {
   "cell_type": "code",
   "execution_count": 20,
   "id": "8bc0dd3e-ed06-4242-871b-7ed9286d0024",
   "metadata": {},
   "outputs": [],
   "source": [
    "dataframes = []\n",
    "\n",
    "for col in ['GI', 'GeneID', 'ProteinName', 'GeneSymbol']:\n",
    "    new_df = targets.set_index('AID')[col].explode().reset_index()\n",
    "    dataframes.append(new_df)"
   ]
  },
  {
   "cell_type": "code",
   "execution_count": 24,
   "id": "eeafa00a-f2cb-4f18-9b00-217f05cdf274",
   "metadata": {},
   "outputs": [
    {
     "data": {
      "text/html": [
       "<div>\n",
       "<style scoped>\n",
       "    .dataframe tbody tr th:only-of-type {\n",
       "        vertical-align: middle;\n",
       "    }\n",
       "\n",
       "    .dataframe tbody tr th {\n",
       "        vertical-align: top;\n",
       "    }\n",
       "\n",
       "    .dataframe thead th {\n",
       "        text-align: right;\n",
       "    }\n",
       "</style>\n",
       "<table border=\"1\" class=\"dataframe\">\n",
       "  <thead>\n",
       "    <tr style=\"text-align: right;\">\n",
       "      <th></th>\n",
       "      <th>AID</th>\n",
       "      <th>GI</th>\n",
       "      <th>GeneID</th>\n",
       "      <th>ProteinName</th>\n",
       "      <th>GeneSymbol</th>\n",
       "    </tr>\n",
       "  </thead>\n",
       "  <tbody>\n",
       "    <tr>\n",
       "      <th>0</th>\n",
       "      <td>1508648</td>\n",
       "      <td>NaN</td>\n",
       "      <td>NaN</td>\n",
       "      <td>NaN</td>\n",
       "      <td>NaN</td>\n",
       "    </tr>\n",
       "    <tr>\n",
       "      <th>1</th>\n",
       "      <td>1508647</td>\n",
       "      <td>130339</td>\n",
       "      <td>24660</td>\n",
       "      <td>Peripheral myelin protein 22</td>\n",
       "      <td>Pmp22</td>\n",
       "    </tr>\n",
       "    <tr>\n",
       "      <th>2</th>\n",
       "      <td>1508645</td>\n",
       "      <td>NaN</td>\n",
       "      <td>NaN</td>\n",
       "      <td>NaN</td>\n",
       "      <td>NaN</td>\n",
       "    </tr>\n",
       "    <tr>\n",
       "      <th>3</th>\n",
       "      <td>1508644</td>\n",
       "      <td>130339</td>\n",
       "      <td>24660</td>\n",
       "      <td>Peripheral myelin protein 22</td>\n",
       "      <td>Pmp22</td>\n",
       "    </tr>\n",
       "    <tr>\n",
       "      <th>4</th>\n",
       "      <td>1508642</td>\n",
       "      <td>NaN</td>\n",
       "      <td>NaN</td>\n",
       "      <td>NaN</td>\n",
       "      <td>NaN</td>\n",
       "    </tr>\n",
       "  </tbody>\n",
       "</table>\n",
       "</div>"
      ],
      "text/plain": [
       "       AID      GI GeneID                   ProteinName GeneSymbol\n",
       "0  1508648     NaN    NaN                           NaN        NaN\n",
       "1  1508647  130339  24660  Peripheral myelin protein 22      Pmp22\n",
       "2  1508645     NaN    NaN                           NaN        NaN\n",
       "3  1508644  130339  24660  Peripheral myelin protein 22      Pmp22\n",
       "4  1508642     NaN    NaN                           NaN        NaN"
      ]
     },
     "execution_count": 24,
     "metadata": {},
     "output_type": "execute_result"
    }
   ],
   "source": [
    "from functools import reduce\n",
    "\n",
    "targets_clean = reduce(lambda x, y: pd.merge(x, y, on = 'AID'), dataframes)\n",
    "targets_clean.to_csv('data/target_info.csv')\n",
    "targets_clean.head()"
   ]
  },
  {
   "cell_type": "code",
   "execution_count": 27,
   "id": "8da8eec3-037e-47be-af57-c9f2d6bf8799",
   "metadata": {},
   "outputs": [
    {
     "data": {
      "text/plain": [
       "3977"
      ]
     },
     "execution_count": 27,
     "metadata": {},
     "output_type": "execute_result"
    }
   ],
   "source": [
    "targets_clean.AID.nunique()"
   ]
  },
  {
   "cell_type": "code",
   "execution_count": 28,
   "id": "dfdbc91c-a0d3-446c-a3d3-63de06bacf33",
   "metadata": {},
   "outputs": [
    {
     "data": {
      "text/plain": [
       "MMP14    732\n",
       "MMP2     731\n",
       "MMP8     729\n",
       "MEP1B    729\n",
       "MMP13    729\n",
       "Name: GeneSymbol, dtype: int64"
      ]
     },
     "execution_count": 28,
     "metadata": {},
     "output_type": "execute_result"
    }
   ],
   "source": [
    "target_counts = targets_clean['GeneSymbol'].value_counts()\n",
    "target_counts.head()"
   ]
  },
  {
   "cell_type": "code",
   "execution_count": 36,
   "id": "90da5b28-4eed-499a-93be-f67c96529791",
   "metadata": {},
   "outputs": [],
   "source": [
    "gene_groups = targets_clean.groupby('GeneSymbol')"
   ]
  },
  {
   "cell_type": "markdown",
   "id": "53e85965-50cb-4964-9492-86733706373f",
   "metadata": {},
   "source": [
    "Number of unique AIDs for each target.."
   ]
  },
  {
   "cell_type": "code",
   "execution_count": 38,
   "id": "f797b33d-4fec-4590-81ed-830533aff21c",
   "metadata": {},
   "outputs": [],
   "source": [
    "aid_gene_counts = gene_groups['AID'].nunique()"
   ]
  },
  {
   "cell_type": "code",
   "execution_count": 39,
   "id": "ea2f5c92-7f72-4566-bf80-a91f1c978541",
   "metadata": {},
   "outputs": [
    {
     "data": {
      "text/plain": [
       "GeneSymbol\n",
       "LDHA             1\n",
       "HHV4tp2_gp31     1\n",
       "HSD17B4          1\n",
       "HSP90AB1         1\n",
       "HSPA1A           1\n",
       "                ..\n",
       "PKM             20\n",
       "CASP3           20\n",
       "LOC116160065    21\n",
       "Scarb1          23\n",
       "Kcnq2           26\n",
       "Name: AID, Length: 607, dtype: int64"
      ]
     },
     "execution_count": 39,
     "metadata": {},
     "output_type": "execute_result"
    }
   ],
   "source": [
    "aid_gene_counts.sort_values()"
   ]
  },
  {
   "cell_type": "code",
   "execution_count": 40,
   "id": "5e0f3f4b-4f56-434e-80b8-0fb20920bb21",
   "metadata": {},
   "outputs": [
    {
     "name": "stdout",
     "output_type": "stream",
     "text": [
      "There are 607 unique genes\n"
     ]
    }
   ],
   "source": [
    "print(f\"There are {len(aid_gene_counts)} unique genes\")"
   ]
  },
  {
   "cell_type": "code",
   "execution_count": 45,
   "id": "ea3c2ca3-df7f-41fd-bba8-20ed281aa33f",
   "metadata": {},
   "outputs": [
    {
     "name": "stdout",
     "output_type": "stream",
     "text": [
      "There are 442 genes that map to more than 1 target\n"
     ]
    }
   ],
   "source": [
    "aid_gene_filtered = aid_gene_counts[aid_gene_counts > 1]\n",
    "print(f\"There are {len(aid_gene_filtered)} genes that map to more than 1 target\")"
   ]
  },
  {
   "cell_type": "code",
   "execution_count": null,
   "id": "b8112a31-d5b4-44ae-bfa5-bbbe4411d9cd",
   "metadata": {},
   "outputs": [],
   "source": []
  }
 ],
 "metadata": {
  "kernelspec": {
   "display_name": "Python 3 (ipykernel)",
   "language": "python",
   "name": "python3"
  },
  "language_info": {
   "codemirror_mode": {
    "name": "ipython",
    "version": 3
   },
   "file_extension": ".py",
   "mimetype": "text/x-python",
   "name": "python",
   "nbconvert_exporter": "python",
   "pygments_lexer": "ipython3",
   "version": "3.9.10"
  }
 },
 "nbformat": 4,
 "nbformat_minor": 5
}
